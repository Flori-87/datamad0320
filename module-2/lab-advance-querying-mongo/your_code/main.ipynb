{
 "cells": [
  {
   "cell_type": "markdown",
   "metadata": {},
   "source": [
    "# Advanced Querying Mongo"
   ]
  },
  {
   "cell_type": "markdown",
   "metadata": {},
   "source": [
    "Importing libraries and setting up connection"
   ]
  },
  {
   "cell_type": "code",
   "execution_count": 12,
   "metadata": {},
   "outputs": [],
   "source": [
    "from pymongo import MongoClient\n",
    "from pymongo import ASCENDING, DESCENDING"
   ]
  },
  {
   "cell_type": "code",
   "execution_count": 2,
   "metadata": {},
   "outputs": [],
   "source": [
    "client = MongoClient(\"mongodb://localhost/companies\")\n",
    "db = client.get_database()"
   ]
  },
  {
   "cell_type": "markdown",
   "metadata": {},
   "source": [
    "### 1. All the companies whose name match 'Babelgum'. Retrieve only their `name` field."
   ]
  },
  {
   "cell_type": "code",
   "execution_count": 7,
   "metadata": {},
   "outputs": [
    {
     "name": "stdout",
     "output_type": "stream",
     "text": [
      "{'name': 'Babelgum'}\n"
     ]
    }
   ],
   "source": [
    "# Your Code\n",
    "cursor = db.companies.find({\"name\":\"Babelgum\"},{\"name\":1,\"_id\":0})\n",
    "for name in cursor:\n",
    "    print(name)\n",
    "    break  # para mostrar solo el primero"
   ]
  },
  {
   "cell_type": "markdown",
   "metadata": {},
   "source": [
    "### 2. All the companies that have more than 5000 employees. Limit the search to 20 companies and sort them by **number of employees**."
   ]
  },
  {
   "cell_type": "code",
   "execution_count": 13,
   "metadata": {},
   "outputs": [
    {
     "name": "stdout",
     "output_type": "stream",
     "text": [
      "{'_id': ObjectId('52cdef7c4bab8bd675297e49'), 'name': 'Nintendo', 'permalink': 'nintendo', 'crunchbase_url': 'http://www.crunchbase.com/company/nintendo', 'homepage_url': 'http://nintendo.com', 'blog_url': '', 'blog_feed_url': '', 'twitter_username': 'NintendoAmerica', 'category_code': 'games_video', 'number_of_employees': 5080, 'founded_year': 1889, 'founded_month': 9, 'founded_day': 23, 'deadpooled_year': None, 'deadpooled_month': None, 'deadpooled_day': None, 'deadpooled_url': None, 'tag_list': 'games, console', 'alias_list': '', 'email_address': 'noalegal@noa.nintendo.com', 'phone_number': '1-800-255-3700 ', 'description': '', 'created_at': 'Sat Dec 22 13:27:00 UTC 2007', 'updated_at': 'Thu Sep 05 12:41:16 UTC 2013', 'overview': '<p>Nintendo, a technology company widely known for its line of game consoles, was actually founded in 1889 by Fusajiro Yamauchi. It began as a card game company and evolved into one of the largest Japanese companies with a Market Capitalization of over $85 billion.</p>', 'image': {'available_sizes': [[[150, 41], 'assets/images/resized/0000/2869/2869v3-max-150x150.jpg'], [[250, 69], 'assets/images/resized/0000/2869/2869v3-max-250x250.jpg'], [[450, 125], 'assets/images/resized/0000/2869/2869v3-max-450x450.jpg']], 'attribution': None}, 'products': [{'name': 'Wii', 'permalink': 'wii'}], 'relationships': [{'is_past': False, 'title': 'President', 'person': {'first_name': 'Satoru', 'last_name': 'Iwata', 'permalink': 'satoru-iwata'}}, {'is_past': True, 'title': 'Executive Vice President', 'person': {'first_name': 'John', 'last_name': 'H. Bauer', 'permalink': 'john-h-bauer'}}, {'is_past': True, 'title': '', 'person': {'first_name': 'Mark', 'last_name': 'Proffit', 'permalink': 'mark-frazier'}}, {'is_past': True, 'title': 'European Brand Manager', 'person': {'first_name': 'Cornelius', 'last_name': 'Rost', 'permalink': 'cornelius-rost'}}, {'is_past': True, 'title': '', 'person': {'first_name': 'Roger', 'last_name': 'Pavane', 'permalink': 'roger-pavane'}}, {'is_past': True, 'title': 'Training Coordinator / Lead / Developer', 'person': {'first_name': 'Scott', 'last_name': 'Sullivan', 'permalink': 'scott-sullivan'}}, {'is_past': True, 'title': 'Lead Tester', 'person': {'first_name': 'Jesse', 'last_name': 'Hayes', 'permalink': 'jesse-hayes'}}, {'is_past': True, 'title': 'Consultant', 'person': {'first_name': 'John', 'last_name': 'H. Bauer', 'permalink': 'john-h-bauer'}}], 'competitions': [], 'providerships': [], 'total_money_raised': '$0', 'funding_rounds': [], 'investments': [], 'acquisition': None, 'acquisitions': [], 'offices': [{'description': None, 'address1': None, 'address2': None, 'zip_code': None, 'city': None, 'state_code': None, 'country_code': 'JPN', 'latitude': 36.204824, 'longitude': 138.252924}], 'milestones': [{'id': 17591, 'description': '3D For Everyone! Get The Nintendo 3DS For $150', 'stoned_year': 2011, 'stoned_month': 8, 'stoned_day': 29, 'source_url': 'http://techcrunch.com/2011/08/29/get-the-nintendo-3ds-150/', 'source_text': '', 'source_description': '3D For Everyone! Get The Nintendo 3DS For $150', 'stoneable_type': 'Company', 'stoned_value': None, 'stoned_value_type': None, 'stoned_acquirer': None, 'stoneable': {'name': 'Nintendo', 'permalink': 'nintendo'}}], 'ipo': None, 'video_embeds': [], 'screenshots': [], 'external_links': [], 'partners': []}\n"
     ]
    }
   ],
   "source": [
    "# Your Code\n",
    "cursor = db.companies.find({\"number_of_employees\": {\"$gt\":5000}}).sort([(\"number_of_employees\", ASCENDING)]).limit(20)\n",
    "for company in cursor:\n",
    "    print(company)\n",
    "    break # para mostrar solo el primero"
   ]
  },
  {
   "cell_type": "markdown",
   "metadata": {},
   "source": [
    "### 3. All the companies founded between 2000 and 2005, both years included. Retrieve only the `name` and `founded_year` fields."
   ]
  },
  {
   "cell_type": "code",
   "execution_count": 18,
   "metadata": {},
   "outputs": [
    {
     "name": "stdout",
     "output_type": "stream",
     "text": [
      "{'name': 'AllofMP3', 'founded_year': 2000}\n",
      "{'name': 'TechnologyGuide', 'founded_year': 2001}\n",
      "{'name': 'StumbleUpon', 'founded_year': 2002}\n",
      "{'name': 'Gizmoz', 'founded_year': 2003}\n",
      "{'name': 'Digg', 'founded_year': 2004}\n",
      "{'name': 'Wetpaint', 'founded_year': 2005}\n"
     ]
    }
   ],
   "source": [
    "# Your Code\n",
    "def companiesYearF(year):\n",
    "    query = db.companies.find({\"founded_year\": year},{\"name\":1,\"founded_year\":1,\"_id\":0})\n",
    "    return query\n",
    "    \n",
    "for i in range(2000,2006):\n",
    "    cursor = companiesYearF(i)\n",
    "    for company in cursor:\n",
    "        print(company)\n",
    "        break\n",
    "# Solo un break para que imprima el primero de cada año"
   ]
  },
  {
   "cell_type": "markdown",
   "metadata": {},
   "source": [
    "### 4. All the companies that had a Valuation Amount of more than 100.000.000 and have been founded before 2010. Retrieve only the `name` and `ipo` fields."
   ]
  },
  {
   "cell_type": "code",
   "execution_count": null,
   "metadata": {},
   "outputs": [],
   "source": [
    "# Your Code\n",
    "cursor = db.companies.find({\"number_of_employees\": {\"$gt\":5000}}).sort([(\"number_of_employees\", ASCENDING)]).limit(20)"
   ]
  },
  {
   "cell_type": "markdown",
   "metadata": {},
   "source": [
    "### 5. All the companies that have less than 1000 employees and have been founded before 2005. Order them by the number of employees and limit the search to 10 companies."
   ]
  },
  {
   "cell_type": "code",
   "execution_count": 20,
   "metadata": {},
   "outputs": [
    {
     "name": "stdout",
     "output_type": "stream",
     "text": [
      "{'_id': ObjectId('52cdef7c4bab8bd675297d93'), 'name': 'Fox Interactive Media', 'permalink': 'fox-interactive-media', 'crunchbase_url': 'http://www.crunchbase.com/company/fox-interactive-media', 'homepage_url': 'http://www.newscorp.com', 'blog_url': '', 'blog_feed_url': '', 'twitter_username': 'twitterapi', 'category_code': 'web', 'number_of_employees': 0, 'founded_year': 1979, 'founded_month': 6, 'founded_day': 1, 'deadpooled_year': None, 'deadpooled_month': None, 'deadpooled_day': None, 'deadpooled_url': '', 'tag_list': '', 'alias_list': None, 'email_address': '', 'phone_number': '', 'description': '', 'created_at': 'Thu May 31 21:46:57 UTC 2007', 'updated_at': 'Mon Aug 19 17:13:27 UTC 2013', 'overview': '<p>Fox Interactive Media (FIM) oversees <a href=\"http://www.crunchbase.com/company/newscorporation\" title=\"News Corporation\">News Corporation</a>&#8217;s Internet business operations.</p>', 'image': {'available_sizes': [[[150, 71], 'assets/images/resized/0001/0824/10824v1-max-150x150.png'], [[232, 111], 'assets/images/resized/0001/0824/10824v1-max-250x250.png'], [[232, 111], 'assets/images/resized/0001/0824/10824v1-max-450x450.png']], 'attribution': None}, 'products': [], 'relationships': [{'is_past': False, 'title': '', 'person': {'first_name': 'Don', 'last_name': 'Synstelien', 'permalink': 'don-synstelien-2'}}, {'is_past': False, 'title': 'Supervising Sound Editor', 'person': {'first_name': 'Jake', 'last_name': 'Allston', 'permalink': 'jake-allston'}}, {'is_past': False, 'title': 'President', 'person': {'first_name': 'Peter', 'last_name': 'Levinsohn', 'permalink': 'peter-levinsohn'}}, {'is_past': True, 'title': 'Chairman / CEO', 'person': {'first_name': 'Barry', 'last_name': 'Diller', 'permalink': 'barry-diller'}}, {'is_past': True, 'title': 'CTO', 'person': {'first_name': 'Ken', 'last_name': 'Keller', 'permalink': 'ken-keller'}}, {'is_past': True, 'title': 'CIO and Senior Vice President', 'person': {'first_name': 'Ian', 'last_name': 'Hurlock-Jones', 'permalink': 'ian-hurlock-jones'}}, {'is_past': True, 'title': 'COO, International', 'person': {'first_name': 'Antoine', 'last_name': 'Theysset', 'permalink': 'antoine-theysset'}}, {'is_past': True, 'title': 'Chief Strategy Officer', 'person': {'first_name': 'James', 'last_name': 'Heckman', 'permalink': 'jim-heckman'}}, {'is_past': True, 'title': 'EVP, Chief Revenue Officer,', 'person': {'first_name': 'Michael', 'last_name': 'Barrett', 'permalink': 'michael-barrett'}}, {'is_past': True, 'title': 'EVP & GM, IGN', 'person': {'first_name': 'Dale', 'last_name': 'Strang', 'permalink': 'dale-strang'}}, {'is_past': True, 'title': 'Vice President of Advertising Sales', 'person': {'first_name': 'Kym', 'last_name': 'Nelson', 'permalink': 'kym-nelson'}}, {'is_past': True, 'title': 'Vice President, Strategy and Corporate Development', 'person': {'first_name': 'Walter', 'last_name': 'Delph', 'permalink': 'walter-delph'}}, {'is_past': True, 'title': 'VP, Ad Solutions', 'person': {'first_name': 'Chris', 'last_name': 'George', 'permalink': 'chris-george'}}, {'is_past': True, 'title': 'SVP Finance', 'person': {'first_name': 'Bruce', 'last_name': 'Wiseman', 'permalink': 'bruce-wiseman'}}, {'is_past': True, 'title': 'Vice President, Product for Myspace Music', 'person': {'first_name': 'Roberto', 'last_name': 'Fisher', 'permalink': 'roberto-fisher'}}, {'is_past': True, 'title': 'Vice President of Applications', 'person': {'first_name': 'Chris', 'last_name': 'M. George', 'permalink': 'chris-m-george'}}, {'is_past': True, 'title': 'Vice President of Sales, MySpace', 'person': {'first_name': 'Tony', 'last_name': 'Siconolfi', 'permalink': 'tony-siconolfi'}}, {'is_past': True, 'title': 'Vice President, Marketing', 'person': {'first_name': 'Alice', 'last_name': 'Lankester', 'permalink': 'alice-lankester'}}, {'is_past': True, 'title': 'VP/GM Newroo', 'person': {'first_name': 'Brian', 'last_name': 'Norgard', 'permalink': 'brian-norgard'}}, {'is_past': True, 'title': 'SVP & GM, Mobile', 'person': {'first_name': 'John', 'last_name': 'Smelzer', 'permalink': 'john-smelzer'}}, {'is_past': True, 'title': 'Vice President, Editorial', 'person': {'first_name': 'Steven', 'last_name': 'Horn', 'permalink': 'steven-horn'}}, {'is_past': True, 'title': 'VP, Technology', 'person': {'first_name': 'Dan', 'last_name': 'Gould', 'permalink': 'dan-gould'}}, {'is_past': True, 'title': 'Vice President', 'person': {'first_name': 'Jason', 'last_name': 'Knapp', 'permalink': 'jason-knapp'}}, {'is_past': True, 'title': 'SVP, Client Solutions', 'person': {'first_name': 'David', 'last_name': 'Tokheim', 'permalink': 'david-tokheim'}}, {'is_past': True, 'title': 'SVP Human Resources', 'person': {'first_name': 'Dustin', 'last_name': 'Finer', 'permalink': 'dustin-finer'}}, {'is_past': True, 'title': 'EVP, Product & Technology', 'person': {'first_name': 'Adam', 'last_name': 'Bain', 'permalink': 'adam-bain'}}, {'is_past': True, 'title': 'Senior Advisor', 'person': {'first_name': 'Ariel', 'last_name': 'Arrieta', 'permalink': 'ariel-arrieta'}}, {'is_past': True, 'title': 'VP Products', 'person': {'first_name': 'Mark', 'last_name': 'Stieglitz', 'permalink': 'mark-stieglitz'}}, {'is_past': True, 'title': 'Senior Director, Publisher Development', 'person': {'first_name': 'Matt', 'last_name': 'Barash', 'permalink': 'matt-barash'}}, {'is_past': True, 'title': 'Director Integrated Sales', 'person': {'first_name': 'Steve', 'last_name': 'Sarner', 'permalink': 'steve-sarner'}}, {'is_past': True, 'title': 'Vice President', 'person': {'first_name': 'Josh', 'last_name': 'Yguado', 'permalink': 'josh-yguado'}}, {'is_past': True, 'title': 'Director', 'person': {'first_name': 'Adrian', 'last_name': 'Aoun', 'permalink': 'adrian-aoun'}}, {'is_past': True, 'title': 'Director of Audience & Business Development', 'person': {'first_name': 'Barry', 'last_name': 'Flanigan', 'permalink': 'barry-flanigan'}}, {'is_past': True, 'title': 'V.P. Finance', 'person': {'first_name': 'Greg', 'last_name': 'Wimmer', 'permalink': 'greg-wimmer'}}, {'is_past': True, 'title': 'Director of Marketing & Content, MySpace', 'person': {'first_name': 'Dominic', 'last_name': 'Cook', 'permalink': 'dominic-cook'}}, {'is_past': True, 'title': 'Sales Development & Strategy', 'person': {'first_name': 'Ross', 'last_name': 'Siegel', 'permalink': 'ross-siegel-2'}}, {'is_past': True, 'title': 'Senior Software Engineer', 'person': {'first_name': 'Jeff', 'last_name': 'Mellen', 'permalink': 'jeff-mellen'}}, {'is_past': True, 'title': 'Vice President, Human Resources', 'person': {'first_name': 'John', 'last_name': 'K Anderson', 'permalink': 'john-k-anderson'}}, {'is_past': True, 'title': 'Web Developer, New Products Group', 'person': {'first_name': 'Joshua', 'last_name': 'Samberg', 'permalink': 'joshua-samberg'}}, {'is_past': True, 'title': 'Executive Director of Revenue & Corporate Controller for two Entities', 'person': {'first_name': 'Tony', 'last_name': 'Cheung', 'permalink': 'tony-cheung'}}, {'is_past': True, 'title': 'Director of Product', 'person': {'first_name': 'Peter', 'last_name': 'Everett', 'permalink': 'peter-everett'}}, {'is_past': True, 'title': 'SVP, Business Development', 'person': {'first_name': 'John', 'last_name': 'Smelzer', 'permalink': 'john-smelzer'}}, {'is_past': True, 'title': 'Business Development / Sponsoring & Special Projects', 'person': {'first_name': 'Jean-Robert', 'last_name': 'BELLANGER', 'permalink': 'jean-robert-bellanger'}}, {'is_past': True, 'title': 'Vice President of National Brand Sales - IGN Entertainment', 'person': {'first_name': 'Scott', 'last_name': 'Bender', 'permalink': 'scott-bender'}}, {'is_past': True, 'title': 'National Sales Director', 'person': {'first_name': 'Andrew', 'last_name': 'Saunders', 'permalink': 'andrew-saunders-2'}}, {'is_past': True, 'title': 'Director, Consumer Insights', 'person': {'first_name': 'Jane', 'last_name': 'Collins', 'permalink': 'jane-collins'}}, {'is_past': True, 'title': 'President, Audience Network', 'person': {'first_name': 'Adam', 'last_name': 'Bain', 'permalink': 'adam-bain'}}, {'is_past': True, 'title': 'Creative Director, Entertainment', 'person': {'first_name': 'Steve', 'last_name': 'Mummolo', 'permalink': 'steve-mummolo'}}, {'is_past': True, 'title': 'Principal Interaction Designer', 'person': {'first_name': 'Eston', 'last_name': 'Bond', 'permalink': 'eston-bond'}}, {'is_past': True, 'title': 'Director, Business & Legal Affairs', 'person': {'first_name': 'Antone', 'last_name': 'Johnson', 'permalink': 'antone-johnson'}}, {'is_past': True, 'title': 'President', 'person': {'first_name': 'Ross', 'last_name': 'Levinsohn', 'permalink': 'ross-levinsohn'}}, {'is_past': True, 'title': 'Technology Manager', 'person': {'first_name': 'Zach', 'last_name': 'Greenberger', 'permalink': 'zach-greenberger'}}, {'is_past': True, 'title': 'Vice President, Product Management', 'person': {'first_name': 'Arnie', 'last_name': 'Gullov-Singh', 'permalink': 'arnie-gullov-singh'}}, {'is_past': True, 'title': 'Vice President & General Manager', 'person': {'first_name': 'Jeff', 'last_name': 'King', 'permalink': 'jeff-king'}}, {'is_past': True, 'title': 'Director', 'person': {'first_name': 'Patricia', 'last_name': 'Clark', 'permalink': 'patricia-clark'}}, {'is_past': True, 'title': 'Sr. Software Engineer', 'person': {'first_name': 'David', 'last_name': 'Pedowitz', 'permalink': 'david-pedowitz'}}, {'is_past': True, 'title': 'Vice President of Business and Legal Affairs', 'person': {'first_name': 'Chadwick', 'last_name': 'Ho', 'permalink': 'chadwick-ho'}}, {'is_past': True, 'title': 'Senior Director, Mobile Business Development', 'person': {'first_name': 'Bjorn', 'last_name': 'Laurin', 'permalink': 'bjorn-laurin'}}, {'is_past': True, 'title': 'Executive Director', 'person': {'first_name': 'Ram', 'last_name': 'Reddy', 'permalink': 'ram-reddy'}}, {'is_past': True, 'title': 'SVP, Northeast Sales', 'person': {'first_name': 'Robert', 'last_name': 'Palma', 'permalink': 'robert-palma'}}, {'is_past': True, 'title': 'Software Development Manager', 'person': {'first_name': 'Arthur', 'last_name': 'Svider', 'permalink': 'arthur-svider'}}, {'is_past': True, 'title': 'Director of Content, Entertainment', 'person': {'first_name': 'Jeff', 'last_name': 'King', 'permalink': 'jeff-king'}}, {'is_past': True, 'title': 'Sr. Territory Manger, Sales', 'person': {'first_name': 'Amy', 'last_name': 'Bonforte', 'permalink': 'amy-bonforte'}}, {'is_past': True, 'title': 'Managing Director of 3D Gamers Business and Operations', 'person': {'first_name': 'Piotr', 'last_name': 'Kapiszewski', 'permalink': 'piotr-kapiszewski'}}, {'is_past': True, 'title': 'Sales Director, Texas Region', 'person': {'first_name': 'Derek', 'last_name': 'Zabbia', 'permalink': 'derek-zabbia'}}, {'is_past': True, 'title': 'Advertising Products (online inventory) Management', 'person': {'first_name': 'Sunayana', 'last_name': 'Bedi', 'permalink': 'sunayana-bedi'}}], 'competitions': [], 'providerships': [], 'total_money_raised': '$0', 'funding_rounds': [], 'investments': [{'funding_round': {'round_code': 'b', 'source_url': 'http://www.techcrunch.com/2006/04/18/simply-hired-takes-135m-from-fox-and-foundation-capital/', 'source_description': '', 'raised_amount': 13500000, 'raised_currency_code': 'USD', 'funded_year': 2006, 'funded_month': 3, 'funded_day': 1, 'company': {'name': 'Simply Hired', 'permalink': 'simply-hired'}}}, {'funding_round': {'round_code': 'unattributed', 'source_url': 'http://techcrunch.com/2013/08/16/vice-fox/', 'source_description': 'Fox Invests In Vice, A Media Company That Makes Money Being Terrible And Brilliant', 'raised_amount': 70000000, 'raised_currency_code': 'USD', 'funded_year': 2013, 'funded_month': 8, 'funded_day': 19, 'company': {'name': 'Vice Media Group', 'permalink': 'vice-media-group'}}}], 'acquisition': None, 'acquisitions': [{'price_amount': 20000000, 'price_currency_code': 'USD', 'term_code': None, 'source_url': 'http://venturebeat.com/2007/05/30/fox-interactive-confirms-purchase-of-photobucket-and-flektor/', 'source_description': 'Fox Interactive confirms purchase of Photobucket and Flektor', 'acquired_year': 2007, 'acquired_month': 5, 'acquired_day': 30, 'company': {'name': 'Flektor', 'permalink': 'flektor'}}, {'price_amount': 700000000, 'price_currency_code': 'USD', 'term_code': 'cash', 'source_url': None, 'source_description': None, 'acquired_year': 2005, 'acquired_month': 9, 'acquired_day': 1, 'company': {'name': 'IGN Entertainment', 'permalink': 'ignentertainment'}}, {'price_amount': None, 'price_currency_code': 'USD', 'term_code': None, 'source_url': 'http://www.socaltech.com/fox_interactive_acquires_newroo_ksolo_com/s-0003870.html', 'source_description': 'Fox Interactive Acquires Newroo, kSolo.com', 'acquired_year': 2006, 'acquired_month': 5, 'acquired_day': 1, 'company': {'name': 'Newroo', 'permalink': 'newroo'}}, {'price_amount': None, 'price_currency_code': 'USD', 'term_code': None, 'source_url': 'http://www.scout.com/2/430453.html', 'source_description': 'Scout Acquired by Fox', 'acquired_year': 2005, 'acquired_month': 8, 'acquired_day': 5, 'company': {'name': 'Scout.com', 'permalink': 'scout-com'}}, {'price_amount': None, 'price_currency_code': 'USD', 'term_code': None, 'source_url': 'http://www.zdnet.com/blog/btl/fox-interactive-acquires-photobucket-flektor/5191', 'source_description': 'Fox Interactive acquires Photobucket, Flektor', 'acquired_year': 2007, 'acquired_month': 5, 'acquired_day': 30, 'company': {'name': 'Photobucket', 'permalink': 'photobucket'}}], 'offices': [{'description': '', 'address1': '407 N Maple Dr', 'address2': '', 'zip_code': '90210', 'city': 'Beverly Hills', 'state_code': 'CA', 'country_code': 'USA', 'latitude': 34.076179, 'longitude': -118.39417}], 'milestones': [], 'ipo': None, 'video_embeds': [{'embed_code': '<embed src=\"http://blip.tv/play/goRrgcGtFQI%2Em4v\" type=\"application/x-shockwave-flash\" width=\"370\" height=\"240\" allowscriptaccess=\"always\" allowfullscreen=\"true\"></embed> ', 'description': '<p>This video was originally posted on <a href=\"http://www.beet.tv/2010/01/producers-for-foxs-super-popular-freshman-hit-glee-will-host-an-open-casting-call-online-for-a-few-new-roles-in-the-glee-club.html\" title=\"Beet.TV\" rel=\"nofollow\">Beet.TV</a> </p>'}, {'embed_code': '<embed src=\"http://blip.tv/play/goRrgcvTCAI%2Em4v\" type=\"application/x-shockwave-flash\" width=\"370\" height=\"240\" allowscriptaccess=\"always\" allowfullscreen=\"true\"></embed>', 'description': '<p>This video was originally posted on <a href=\"http://www.beet.tv/2010/03/fox-readying-hululike-mobile-content-site-called-bitbot.html\" title=\"Beet.TV\" rel=\"nofollow\">Beet.TV</a></p>'}, {'embed_code': '<embed src=\"http://blip.tv/play/goRrgc6MQQI%2Em4v\" type=\"application/x-shockwave-flash\" width=\"370\" height=\"240\" allowscriptaccess=\"always\" allowfullscreen=\"true\"></embed>', 'description': '<p>This video was originally posted on <a href=\"http://www.beet.tv/2010/03/foxtv-partners-with-black20.html\" title=\"Beet.TV\" rel=\"nofollow\">Beet.TV</a></p>'}], 'screenshots': [{'available_sizes': [[[150, 94], 'assets/images/resized/0004/3402/43402v1-max-150x150.png'], [[250, 158], 'assets/images/resized/0004/3402/43402v1-max-250x250.png'], [[450, 284], 'assets/images/resized/0004/3402/43402v1-max-450x450.png']], 'attribution': None}, {'available_sizes': [[[150, 94], 'assets/images/resized/0004/3403/43403v1-max-150x150.png'], [[250, 158], 'assets/images/resized/0004/3403/43403v1-max-250x250.png'], [[450, 284], 'assets/images/resized/0004/3403/43403v1-max-450x450.png']], 'attribution': None}, {'available_sizes': [[[150, 94], 'assets/images/resized/0004/3404/43404v1-max-150x150.png'], [[250, 158], 'assets/images/resized/0004/3404/43404v1-max-250x250.png'], [[450, 284], 'assets/images/resized/0004/3404/43404v1-max-450x450.png']], 'attribution': None}], 'external_links': [], 'partners': []}\n"
     ]
    }
   ],
   "source": [
    "# Your Code\n",
    "cursor = db.companies.find({\"$and\":[{\"number_of_employees\": {\"$lt\":1000}},{\"founded_year\": {\"$lt\":2005}}]}).sort([(\"number_of_employees\", ASCENDING)]).limit(10)\n",
    "for company in cursor:\n",
    "    print(company)\n",
    "    break"
   ]
  },
  {
   "cell_type": "markdown",
   "metadata": {},
   "source": [
    "### 6. All the companies that don't include the `partners` field."
   ]
  },
  {
   "cell_type": "code",
   "execution_count": 28,
   "metadata": {},
   "outputs": [],
   "source": [
    "# Your Code\n",
    "cursor = db.companies.find({\"partners\": {\"$exists\":False}})\n",
    "for company in cursor:\n",
    "    print(company)\n",
    "    break\n",
    "# No hay"
   ]
  },
  {
   "cell_type": "markdown",
   "metadata": {},
   "source": [
    "### 7. All the companies that have a null type of value on the `category_code` field."
   ]
  },
  {
   "cell_type": "code",
   "execution_count": 29,
   "metadata": {},
   "outputs": [
    {
     "name": "stdout",
     "output_type": "stream",
     "text": [
      "{'_id': ObjectId('52cdef7c4bab8bd6752980f6'), 'name': 'Collective', 'permalink': 'collective', 'crunchbase_url': 'http://www.crunchbase.com/company/collective', 'homepage_url': None, 'blog_url': None, 'blog_feed_url': None, 'twitter_username': None, 'category_code': None, 'number_of_employees': None, 'founded_year': None, 'founded_month': None, 'founded_day': None, 'deadpooled_year': None, 'deadpooled_month': None, 'deadpooled_day': None, 'deadpooled_url': None, 'tag_list': None, 'alias_list': None, 'email_address': None, 'phone_number': None, 'description': None, 'created_at': 'Thu Sep 26 13:15:02 UTC 2013', 'updated_at': 'Thu Sep 26 13:15:02 UTC 2013', 'overview': None, 'image': None, 'products': [], 'relationships': [], 'competitions': [], 'providerships': [], 'total_money_raised': '$0', 'funding_rounds': [], 'investments': [], 'acquisition': None, 'acquisitions': [], 'offices': [], 'milestones': [], 'ipo': None, 'video_embeds': [], 'screenshots': [], 'external_links': [], 'partners': []}\n"
     ]
    }
   ],
   "source": [
    "# Your Code\n",
    "cursor = db.companies.find({\"category_code\": {\"$type\":[\"null\"]}})\n",
    "for company in cursor:\n",
    "    print(company)\n",
    "    break"
   ]
  },
  {
   "cell_type": "markdown",
   "metadata": {},
   "source": [
    "### 8. All the companies that have at least 100 employees but less than 1000. Retrieve only the `name` and `number of employees` fields."
   ]
  },
  {
   "cell_type": "code",
   "execution_count": 31,
   "metadata": {},
   "outputs": [
    {
     "name": "stdout",
     "output_type": "stream",
     "text": [
      "{'name': 'AdventNet', 'number_of_employees': 600}\n"
     ]
    }
   ],
   "source": [
    "# Your Code\n",
    "cursor = db.companies.find({\"number_of_employees\":{\"$in\":[i for i in range(100,1000)]}},{\"name\":1,\"number_of_employees\":1,\"_id\":0})\n",
    "for company in cursor:\n",
    "    print(company)\n",
    "    break"
   ]
  },
  {
   "cell_type": "markdown",
   "metadata": {},
   "source": [
    "### 9. Order all the companies by their IPO price in a descending order."
   ]
  },
  {
   "cell_type": "code",
   "execution_count": null,
   "metadata": {},
   "outputs": [],
   "source": [
    "# Your Code\n",
    "cursor = db.companies.sort([(\"number_of_employees\", DESCENDING)])\n"
   ]
  },
  {
   "cell_type": "markdown",
   "metadata": {},
   "source": [
    "### 10. Retrieve the 10 companies with more employees, order by the `number of employees`"
   ]
  },
  {
   "cell_type": "code",
   "execution_count": 34,
   "metadata": {},
   "outputs": [
    {
     "ename": "OperationFailure",
     "evalue": "Sort exceeded memory limit of 104857600 bytes, but did not opt in to external sorting. Aborting operation. Pass allowDiskUse:true to opt in.",
     "output_type": "error",
     "traceback": [
      "\u001b[0;31m---------------------------------------------------------------------------\u001b[0m",
      "\u001b[0;31mOperationFailure\u001b[0m                          Traceback (most recent call last)",
      "\u001b[0;32m<ipython-input-34-803e5fc68302>\u001b[0m in \u001b[0;36m<module>\u001b[0;34m()\u001b[0m\n\u001b[1;32m      1\u001b[0m \u001b[0;31m# Your Code\u001b[0m\u001b[0;34m\u001b[0m\u001b[0;34m\u001b[0m\u001b[0;34m\u001b[0m\u001b[0m\n\u001b[0;32m----> 2\u001b[0;31m \u001b[0mcursor\u001b[0m \u001b[0;34m=\u001b[0m \u001b[0mdb\u001b[0m\u001b[0;34m.\u001b[0m\u001b[0mcompanies\u001b[0m\u001b[0;34m.\u001b[0m\u001b[0maggregate\u001b[0m\u001b[0;34m(\u001b[0m\u001b[0;34m[\u001b[0m\u001b[0;34m{\u001b[0m\u001b[0;34m\"$sort\"\u001b[0m\u001b[0;34m:\u001b[0m\u001b[0;34m{\u001b[0m\u001b[0;34m\"number_of_employees\"\u001b[0m\u001b[0;34m:\u001b[0m\u001b[0;34m-\u001b[0m\u001b[0;36m1\u001b[0m\u001b[0;34m}\u001b[0m\u001b[0;34m}\u001b[0m\u001b[0;34m]\u001b[0m\u001b[0;34m)\u001b[0m\u001b[0;34m.\u001b[0m\u001b[0mlimit\u001b[0m\u001b[0;34m(\u001b[0m\u001b[0;36m10\u001b[0m\u001b[0;34m)\u001b[0m\u001b[0;34m\u001b[0m\u001b[0;34m\u001b[0m\u001b[0m\n\u001b[0m\u001b[1;32m      3\u001b[0m \u001b[0;34m\u001b[0m\u001b[0m\n\u001b[1;32m      4\u001b[0m \u001b[0;32mfor\u001b[0m \u001b[0mcompany\u001b[0m \u001b[0;32min\u001b[0m \u001b[0mcursor\u001b[0m\u001b[0;34m:\u001b[0m\u001b[0;34m\u001b[0m\u001b[0;34m\u001b[0m\u001b[0m\n\u001b[1;32m      5\u001b[0m     \u001b[0mprint\u001b[0m\u001b[0;34m(\u001b[0m\u001b[0mcompany\u001b[0m\u001b[0;34m)\u001b[0m\u001b[0;34m\u001b[0m\u001b[0;34m\u001b[0m\u001b[0m\n",
      "\u001b[0;32m/home/flori/.local/lib/python3.7/site-packages/pymongo/collection.py\u001b[0m in \u001b[0;36maggregate\u001b[0;34m(self, pipeline, session, **kwargs)\u001b[0m\n\u001b[1;32m   2378\u001b[0m                                    \u001b[0msession\u001b[0m\u001b[0;34m=\u001b[0m\u001b[0ms\u001b[0m\u001b[0;34m,\u001b[0m\u001b[0;34m\u001b[0m\u001b[0;34m\u001b[0m\u001b[0m\n\u001b[1;32m   2379\u001b[0m                                    \u001b[0mexplicit_session\u001b[0m\u001b[0;34m=\u001b[0m\u001b[0msession\u001b[0m \u001b[0;32mis\u001b[0m \u001b[0;32mnot\u001b[0m \u001b[0;32mNone\u001b[0m\u001b[0;34m,\u001b[0m\u001b[0;34m\u001b[0m\u001b[0;34m\u001b[0m\u001b[0m\n\u001b[0;32m-> 2380\u001b[0;31m                                    **kwargs)\n\u001b[0m\u001b[1;32m   2381\u001b[0m \u001b[0;34m\u001b[0m\u001b[0m\n\u001b[1;32m   2382\u001b[0m     \u001b[0;32mdef\u001b[0m \u001b[0maggregate_raw_batches\u001b[0m\u001b[0;34m(\u001b[0m\u001b[0mself\u001b[0m\u001b[0;34m,\u001b[0m \u001b[0mpipeline\u001b[0m\u001b[0;34m,\u001b[0m \u001b[0;34m**\u001b[0m\u001b[0mkwargs\u001b[0m\u001b[0;34m)\u001b[0m\u001b[0;34m:\u001b[0m\u001b[0;34m\u001b[0m\u001b[0;34m\u001b[0m\u001b[0m\n",
      "\u001b[0;32m/home/flori/.local/lib/python3.7/site-packages/pymongo/collection.py\u001b[0m in \u001b[0;36m_aggregate\u001b[0;34m(self, aggregation_command, pipeline, cursor_class, session, explicit_session, **kwargs)\u001b[0m\n\u001b[1;32m   2297\u001b[0m         return self.__database.client._retryable_read(\n\u001b[1;32m   2298\u001b[0m             \u001b[0mcmd\u001b[0m\u001b[0;34m.\u001b[0m\u001b[0mget_cursor\u001b[0m\u001b[0;34m,\u001b[0m \u001b[0mcmd\u001b[0m\u001b[0;34m.\u001b[0m\u001b[0mget_read_preference\u001b[0m\u001b[0;34m(\u001b[0m\u001b[0msession\u001b[0m\u001b[0;34m)\u001b[0m\u001b[0;34m,\u001b[0m \u001b[0msession\u001b[0m\u001b[0;34m,\u001b[0m\u001b[0;34m\u001b[0m\u001b[0;34m\u001b[0m\u001b[0m\n\u001b[0;32m-> 2299\u001b[0;31m             retryable=not cmd._performs_write)\n\u001b[0m\u001b[1;32m   2300\u001b[0m \u001b[0;34m\u001b[0m\u001b[0m\n\u001b[1;32m   2301\u001b[0m     \u001b[0;32mdef\u001b[0m \u001b[0maggregate\u001b[0m\u001b[0;34m(\u001b[0m\u001b[0mself\u001b[0m\u001b[0;34m,\u001b[0m \u001b[0mpipeline\u001b[0m\u001b[0;34m,\u001b[0m \u001b[0msession\u001b[0m\u001b[0;34m=\u001b[0m\u001b[0;32mNone\u001b[0m\u001b[0;34m,\u001b[0m \u001b[0;34m**\u001b[0m\u001b[0mkwargs\u001b[0m\u001b[0;34m)\u001b[0m\u001b[0;34m:\u001b[0m\u001b[0;34m\u001b[0m\u001b[0;34m\u001b[0m\u001b[0m\n",
      "\u001b[0;32m/home/flori/.local/lib/python3.7/site-packages/pymongo/mongo_client.py\u001b[0m in \u001b[0;36m_retryable_read\u001b[0;34m(self, func, read_pref, session, address, retryable, exhaust)\u001b[0m\n\u001b[1;32m   1462\u001b[0m                         \u001b[0;31m# not support retryable reads, raise the last error.\u001b[0m\u001b[0;34m\u001b[0m\u001b[0;34m\u001b[0m\u001b[0;34m\u001b[0m\u001b[0m\n\u001b[1;32m   1463\u001b[0m                         \u001b[0;32mraise\u001b[0m \u001b[0mlast_error\u001b[0m\u001b[0;34m\u001b[0m\u001b[0;34m\u001b[0m\u001b[0m\n\u001b[0;32m-> 1464\u001b[0;31m                     \u001b[0;32mreturn\u001b[0m \u001b[0mfunc\u001b[0m\u001b[0;34m(\u001b[0m\u001b[0msession\u001b[0m\u001b[0;34m,\u001b[0m \u001b[0mserver\u001b[0m\u001b[0;34m,\u001b[0m \u001b[0msock_info\u001b[0m\u001b[0;34m,\u001b[0m \u001b[0mslave_ok\u001b[0m\u001b[0;34m)\u001b[0m\u001b[0;34m\u001b[0m\u001b[0;34m\u001b[0m\u001b[0m\n\u001b[0m\u001b[1;32m   1465\u001b[0m             \u001b[0;32mexcept\u001b[0m \u001b[0mServerSelectionTimeoutError\u001b[0m\u001b[0;34m:\u001b[0m\u001b[0;34m\u001b[0m\u001b[0;34m\u001b[0m\u001b[0m\n\u001b[1;32m   1466\u001b[0m                 \u001b[0;32mif\u001b[0m \u001b[0mretrying\u001b[0m\u001b[0;34m:\u001b[0m\u001b[0;34m\u001b[0m\u001b[0;34m\u001b[0m\u001b[0m\n",
      "\u001b[0;32m/home/flori/.local/lib/python3.7/site-packages/pymongo/aggregation.py\u001b[0m in \u001b[0;36mget_cursor\u001b[0;34m(self, session, server, sock_info, slave_ok)\u001b[0m\n\u001b[1;32m    146\u001b[0m             \u001b[0msession\u001b[0m\u001b[0;34m=\u001b[0m\u001b[0msession\u001b[0m\u001b[0;34m,\u001b[0m\u001b[0;34m\u001b[0m\u001b[0;34m\u001b[0m\u001b[0m\n\u001b[1;32m    147\u001b[0m             \u001b[0mclient\u001b[0m\u001b[0;34m=\u001b[0m\u001b[0mself\u001b[0m\u001b[0;34m.\u001b[0m\u001b[0m_database\u001b[0m\u001b[0;34m.\u001b[0m\u001b[0mclient\u001b[0m\u001b[0;34m,\u001b[0m\u001b[0;34m\u001b[0m\u001b[0;34m\u001b[0m\u001b[0m\n\u001b[0;32m--> 148\u001b[0;31m             user_fields=self._user_fields)\n\u001b[0m\u001b[1;32m    149\u001b[0m \u001b[0;34m\u001b[0m\u001b[0m\n\u001b[1;32m    150\u001b[0m         \u001b[0mself\u001b[0m\u001b[0;34m.\u001b[0m\u001b[0m_process_result\u001b[0m\u001b[0;34m(\u001b[0m\u001b[0mresult\u001b[0m\u001b[0;34m,\u001b[0m \u001b[0msession\u001b[0m\u001b[0;34m,\u001b[0m \u001b[0mserver\u001b[0m\u001b[0;34m,\u001b[0m \u001b[0msock_info\u001b[0m\u001b[0;34m,\u001b[0m \u001b[0mslave_ok\u001b[0m\u001b[0;34m)\u001b[0m\u001b[0;34m\u001b[0m\u001b[0;34m\u001b[0m\u001b[0m\n",
      "\u001b[0;32m/home/flori/.local/lib/python3.7/site-packages/pymongo/pool.py\u001b[0m in \u001b[0;36mcommand\u001b[0;34m(self, dbname, spec, slave_ok, read_preference, codec_options, check, allowable_errors, check_keys, read_concern, write_concern, parse_write_concern_error, collation, session, client, retryable_write, publish_events, user_fields)\u001b[0m\n\u001b[1;32m    611\u001b[0m                            \u001b[0muse_op_msg\u001b[0m\u001b[0;34m=\u001b[0m\u001b[0mself\u001b[0m\u001b[0;34m.\u001b[0m\u001b[0mop_msg_enabled\u001b[0m\u001b[0;34m,\u001b[0m\u001b[0;34m\u001b[0m\u001b[0;34m\u001b[0m\u001b[0m\n\u001b[1;32m    612\u001b[0m                            \u001b[0munacknowledged\u001b[0m\u001b[0;34m=\u001b[0m\u001b[0munacknowledged\u001b[0m\u001b[0;34m,\u001b[0m\u001b[0;34m\u001b[0m\u001b[0;34m\u001b[0m\u001b[0m\n\u001b[0;32m--> 613\u001b[0;31m                            user_fields=user_fields)\n\u001b[0m\u001b[1;32m    614\u001b[0m         \u001b[0;32mexcept\u001b[0m \u001b[0mOperationFailure\u001b[0m\u001b[0;34m:\u001b[0m\u001b[0;34m\u001b[0m\u001b[0;34m\u001b[0m\u001b[0m\n\u001b[1;32m    615\u001b[0m             \u001b[0;32mraise\u001b[0m\u001b[0;34m\u001b[0m\u001b[0;34m\u001b[0m\u001b[0m\n",
      "\u001b[0;32m/home/flori/.local/lib/python3.7/site-packages/pymongo/network.py\u001b[0m in \u001b[0;36mcommand\u001b[0;34m(sock, dbname, spec, slave_ok, is_mongos, read_preference, codec_options, session, client, check, allowable_errors, address, check_keys, listeners, max_bson_size, read_concern, parse_write_concern_error, collation, compression_ctx, use_op_msg, unacknowledged, user_fields)\u001b[0m\n\u001b[1;32m    165\u001b[0m                 helpers._check_command_response(\n\u001b[1;32m    166\u001b[0m                     \u001b[0mresponse_doc\u001b[0m\u001b[0;34m,\u001b[0m \u001b[0;32mNone\u001b[0m\u001b[0;34m,\u001b[0m \u001b[0mallowable_errors\u001b[0m\u001b[0;34m,\u001b[0m\u001b[0;34m\u001b[0m\u001b[0;34m\u001b[0m\u001b[0m\n\u001b[0;32m--> 167\u001b[0;31m                     parse_write_concern_error=parse_write_concern_error)\n\u001b[0m\u001b[1;32m    168\u001b[0m     \u001b[0;32mexcept\u001b[0m \u001b[0mException\u001b[0m \u001b[0;32mas\u001b[0m \u001b[0mexc\u001b[0m\u001b[0;34m:\u001b[0m\u001b[0;34m\u001b[0m\u001b[0;34m\u001b[0m\u001b[0m\n\u001b[1;32m    169\u001b[0m         \u001b[0;32mif\u001b[0m \u001b[0mpublish\u001b[0m\u001b[0;34m:\u001b[0m\u001b[0;34m\u001b[0m\u001b[0;34m\u001b[0m\u001b[0m\n",
      "\u001b[0;32m/home/flori/.local/lib/python3.7/site-packages/pymongo/helpers.py\u001b[0m in \u001b[0;36m_check_command_response\u001b[0;34m(response, msg, allowable_errors, parse_write_concern_error)\u001b[0m\n\u001b[1;32m    157\u001b[0m \u001b[0;34m\u001b[0m\u001b[0m\n\u001b[1;32m    158\u001b[0m             \u001b[0mmsg\u001b[0m \u001b[0;34m=\u001b[0m \u001b[0mmsg\u001b[0m \u001b[0;32mor\u001b[0m \u001b[0;34m\"%s\"\u001b[0m\u001b[0;34m\u001b[0m\u001b[0;34m\u001b[0m\u001b[0m\n\u001b[0;32m--> 159\u001b[0;31m             \u001b[0;32mraise\u001b[0m \u001b[0mOperationFailure\u001b[0m\u001b[0;34m(\u001b[0m\u001b[0mmsg\u001b[0m \u001b[0;34m%\u001b[0m \u001b[0merrmsg\u001b[0m\u001b[0;34m,\u001b[0m \u001b[0mcode\u001b[0m\u001b[0;34m,\u001b[0m \u001b[0mresponse\u001b[0m\u001b[0;34m)\u001b[0m\u001b[0;34m\u001b[0m\u001b[0;34m\u001b[0m\u001b[0m\n\u001b[0m\u001b[1;32m    160\u001b[0m \u001b[0;34m\u001b[0m\u001b[0m\n\u001b[1;32m    161\u001b[0m \u001b[0;34m\u001b[0m\u001b[0m\n",
      "\u001b[0;31mOperationFailure\u001b[0m: Sort exceeded memory limit of 104857600 bytes, but did not opt in to external sorting. Aborting operation. Pass allowDiskUse:true to opt in."
     ]
    }
   ],
   "source": [
    "# Your Code\n",
    "cursor = db.companies.aggregate([{\"$sort\":{\"number_of_employees\":-1}}]).limit(10)\n",
    "\n",
    "for company in cursor:\n",
    "    print(company)\n",
    "    break"
   ]
  },
  {
   "cell_type": "markdown",
   "metadata": {},
   "source": [
    "### 11. All the companies founded on the second semester of the year. Limit your search to 1000 companies."
   ]
  },
  {
   "cell_type": "code",
   "execution_count": 38,
   "metadata": {},
   "outputs": [
    {
     "name": "stdout",
     "output_type": "stream",
     "text": [
      "{'_id': ObjectId('52cdef7c4bab8bd675297d8a'), 'name': 'Wetpaint', 'permalink': 'abc2', 'crunchbase_url': 'http://www.crunchbase.com/company/wetpaint', 'homepage_url': 'http://wetpaint-inc.com', 'blog_url': 'http://digitalquarters.net/', 'blog_feed_url': 'http://digitalquarters.net/feed/', 'twitter_username': 'BachelrWetpaint', 'category_code': 'web', 'number_of_employees': 47, 'founded_year': 2005, 'founded_month': 10, 'founded_day': 17, 'deadpooled_year': 1, 'tag_list': 'wiki, seattle, elowitz, media-industry, media-platform, social-distribution-system', 'alias_list': '', 'email_address': 'info@wetpaint.com', 'phone_number': '206.859.6300', 'description': 'Technology Platform Company', 'created_at': datetime.datetime(2007, 5, 25, 6, 51, 27), 'updated_at': 'Sun Dec 08 07:15:44 UTC 2013', 'overview': '<p>Wetpaint is a technology platform company that uses its proprietary state-of-the-art technology and expertise in social media to build and monetize audiences for digital publishers. Wetpaint’s own online property, Wetpaint Entertainment, an entertainment news site that attracts more than 12 million unique visitors monthly and has over 2 million Facebook fans, is a proof point to the company’s success in building and engaging audiences. Media companies can license Wetpaint’s platform which includes a dynamic playbook tailored to their individual needs and comprehensive training. Founded by Internet pioneer Ben Elowitz, and with offices in New York and Seattle, Wetpaint is backed by Accel Partners, the investors behind Facebook.</p>', 'image': {'available_sizes': [[[150, 75], 'assets/images/resized/0000/3604/3604v14-max-150x150.jpg'], [[250, 125], 'assets/images/resized/0000/3604/3604v14-max-250x250.jpg'], [[450, 225], 'assets/images/resized/0000/3604/3604v14-max-450x450.jpg']]}, 'products': [{'name': 'Wikison Wetpaint', 'permalink': 'wetpaint-wiki'}, {'name': 'Wetpaint Social Distribution System', 'permalink': 'wetpaint-social-distribution-system'}], 'relationships': [{'is_past': False, 'title': 'Co-Founder and VP, Social and Audience Development', 'person': {'first_name': 'Michael', 'last_name': 'Howell', 'permalink': 'michael-howell'}}, {'is_past': False, 'title': 'Co-Founder/CEO/Board of Directors', 'person': {'first_name': 'Ben', 'last_name': 'Elowitz', 'permalink': 'ben-elowitz'}}, {'is_past': False, 'title': 'COO/Board of Directors', 'person': {'first_name': 'Rob', 'last_name': 'Grady', 'permalink': 'rob-grady'}}, {'is_past': False, 'title': 'SVP, Strategy and Business Development', 'person': {'first_name': 'Chris', 'last_name': 'Kollas', 'permalink': 'chris-kollas'}}, {'is_past': False, 'title': 'Board', 'person': {'first_name': 'Theresia', 'last_name': 'Ranzetta', 'permalink': 'theresia-ranzetta'}}, {'is_past': False, 'title': 'Board Member', 'person': {'first_name': 'Gus', 'last_name': 'Tai', 'permalink': 'gus-tai'}}, {'is_past': False, 'title': 'Board', 'person': {'first_name': 'Len', 'last_name': 'Jordan', 'permalink': 'len-jordan'}}, {'is_past': False, 'title': 'Head of Technology and Product', 'person': {'first_name': 'Alex', 'last_name': 'Weinstein', 'permalink': 'alex-weinstein'}}, {'is_past': True, 'title': 'CFO', 'person': {'first_name': 'Bert', 'last_name': 'Hogue', 'permalink': 'bert-hogue'}}, {'is_past': True, 'title': 'CFO/ CRO', 'person': {'first_name': 'Brian', 'last_name': 'Watkins', 'permalink': 'brian-watkins'}}, {'is_past': True, 'title': 'Senior Vice President, Marketing', 'person': {'first_name': 'Rob', 'last_name': 'Grady', 'permalink': 'rob-grady'}}, {'is_past': True, 'title': 'VP, Technology and Product', 'person': {'first_name': 'Werner', 'last_name': 'Koepf', 'permalink': 'werner-koepf'}}, {'is_past': True, 'title': 'VP Marketing', 'person': {'first_name': 'Kevin', 'last_name': 'Flaherty', 'permalink': 'kevin-flaherty'}}, {'is_past': True, 'title': 'VP User Experience', 'person': {'first_name': 'Alex', 'last_name': 'Berg', 'permalink': 'alex-berg'}}, {'is_past': True, 'title': 'VP Engineering', 'person': {'first_name': 'Steve', 'last_name': 'McQuade', 'permalink': 'steve-mcquade'}}, {'is_past': True, 'title': 'Executive Editor', 'person': {'first_name': 'Susan', 'last_name': 'Mulcahy', 'permalink': 'susan-mulcahy'}}, {'is_past': True, 'title': 'VP Business Development', 'person': {'first_name': 'Chris', 'last_name': 'Kollas', 'permalink': 'chris-kollas'}}], 'competitions': [{'competitor': {'name': 'Wikia', 'permalink': 'wikia'}}, {'competitor': {'name': 'JotSpot', 'permalink': 'jotspot'}}, {'competitor': {'name': 'Socialtext', 'permalink': 'socialtext'}}, {'competitor': {'name': 'Ning by Glam Media', 'permalink': 'ning'}}, {'competitor': {'name': 'Soceeo', 'permalink': 'soceeo'}}, {'competitor': {'name': 'Yola', 'permalink': 'yola'}}, {'competitor': {'name': 'SocialGO', 'permalink': 'socialgo'}}, {'competitor': {'name': 'IslamNor', 'permalink': 'islamnor'}}], 'providerships': [], 'total_money_raised': '$39.8M', 'funding_rounds': [{'id': 888, 'round_code': 'a', 'source_url': 'http://seattlepi.nwsource.com/business/246734_wiki02.html', 'source_description': '', 'raised_amount': 5250000, 'raised_currency_code': 'USD', 'funded_year': 2005, 'funded_month': 10, 'funded_day': 1, 'investments': [{'company': None, 'financial_org': {'name': 'Frazier Technology Ventures', 'permalink': 'frazier-technology-ventures'}, 'person': None}, {'company': None, 'financial_org': {'name': 'Trinity Ventures', 'permalink': 'trinity-ventures'}, 'person': None}]}, {'id': 889, 'round_code': 'b', 'source_url': 'http://pulse2.com/2007/01/09/wiki-builder-website-wetpaint-welcomes-95m-funding/', 'source_description': '', 'raised_amount': 9500000, 'raised_currency_code': 'USD', 'funded_year': 2007, 'funded_month': 1, 'funded_day': 1, 'investments': [{'company': None, 'financial_org': {'name': 'Accel Partners', 'permalink': 'accel-partners'}, 'person': None}, {'company': None, 'financial_org': {'name': 'Frazier Technology Ventures', 'permalink': 'frazier-technology-ventures'}, 'person': None}, {'company': None, 'financial_org': {'name': 'Trinity Ventures', 'permalink': 'trinity-ventures'}, 'person': None}]}, {'id': 2312, 'round_code': 'c', 'source_url': 'http://www.accel.com/news/news_one_up.php?news_id=185', 'source_description': 'Accel', 'raised_amount': 25000000, 'raised_currency_code': 'USD', 'funded_year': 2008, 'funded_month': 5, 'funded_day': 19, 'investments': [{'company': None, 'financial_org': {'name': 'DAG Ventures', 'permalink': 'dag-ventures'}, 'person': None}, {'company': None, 'financial_org': {'name': 'Accel Partners', 'permalink': 'accel-partners'}, 'person': None}, {'company': None, 'financial_org': {'name': 'Trinity Ventures', 'permalink': 'trinity-ventures'}, 'person': None}, {'company': None, 'financial_org': {'name': 'Frazier Technology Ventures', 'permalink': 'frazier-technology-ventures'}, 'person': None}]}], 'investments': [], 'acquisition': {'price_amount': 30000000, 'price_currency_code': 'USD', 'term_code': 'cash_and_stock', 'source_url': 'http://allthingsd.com/20131216/viggle-tries-to-bulk-up-its-social-tv-business-by-buying-wetpaint/?mod=atdtweet', 'source_description': ' Viggle Tries to Bulk Up Its Social TV Business by Buying Wetpaint', 'acquired_year': 2013, 'acquired_month': 12, 'acquired_day': 16, 'acquiring_company': {'name': 'Viggle', 'permalink': 'viggle'}}, 'acquisitions': [], 'offices': [{'description': '', 'address1': '710 - 2nd Avenue', 'address2': 'Suite 1100', 'zip_code': '98104', 'city': 'Seattle', 'state_code': 'WA', 'country_code': 'USA', 'latitude': 47.603122, 'longitude': -122.333253}, {'description': '', 'address1': '270 Lafayette Street', 'address2': 'Suite 505', 'zip_code': '10012', 'city': 'New York', 'state_code': 'NY', 'country_code': 'USA', 'latitude': 40.7237306, 'longitude': -73.9964312}], 'milestones': [{'id': 5869, 'description': \"Wetpaint named in Lead411's Hottest Seattle Companies list\", 'stoned_year': 2010, 'stoned_month': 6, 'stoned_day': 8, 'source_url': 'http://www.lead411.com/seattle-companies.html', 'source_text': None, 'source_description': 'LEAD411 LAUNCHES \"HOTTEST SEATTLE COMPANIES\" AWARDS', 'stoneable_type': 'Company', 'stoned_value': None, 'stoned_value_type': None, 'stoned_acquirer': None, 'stoneable': {'name': 'Wetpaint', 'permalink': 'wetpaint'}}, {'id': 8702, 'description': 'Site-Builder Wetpaint Makes One For Itself, Using the Demand Media Playbook', 'stoned_year': 2010, 'stoned_month': 9, 'stoned_day': 6, 'source_url': 'http://mediamemo.allthingsd.com/20100906/site-builder-wetpaint-makes-one-for-itself-using-the-demand-media-playbook/', 'source_text': None, 'source_description': 'All Things D', 'stoneable_type': 'Company', 'stoned_value': None, 'stoned_value_type': None, 'stoned_acquirer': None, 'stoneable': {'name': 'Wetpaint', 'permalink': 'wetpaint'}}], 'video_embeds': [], 'screenshots': [{'available_sizes': [[[150, 86], 'assets/images/resized/0016/0929/160929v2-max-150x150.png'], [[250, 143], 'assets/images/resized/0016/0929/160929v2-max-250x250.png'], [[450, 258], 'assets/images/resized/0016/0929/160929v2-max-450x450.png']], 'attribution': None}], 'external_links': [{'external_url': 'http://www.geekwire.com/2011/rewind-ben-elowitz-wetpaint-ceo-building-type-media-company', 'title': 'GeekWire interview: Rewind - Ben Elowitz, Wetpaint CEO, on building a new type of media company'}, {'external_url': 'http://techcrunch.com/2012/06/17/search-and-social-how-two-will-soon-become-one/', 'title': 'Guest post by CEO Ben Elowitz in TechCrunch'}, {'external_url': 'http://allthingsd.com/20120516/what-to-expect-when-facebook-is-expecting-five-predictions-for-facebooks-first-public-year/', 'title': 'Guest post by CEO Ben Elowitz in AllThingsD'}, {'external_url': 'http://adage.com/article/digitalnext/facebook-biggest-player-advertising-s-540-billion-world/235708/', 'title': 'Guest post by CEO Ben Elowitz in AdAge'}, {'external_url': 'http://www.businessinsider.com/facebook-captures-14-percent-of-our-online-attention-but-only-4-percent-of-ad-spending-online-2012-6', 'title': 'Guest post by CEO Ben Elowitz in Business Insider'}, {'external_url': 'http://allfacebook.com/wetpaint-media-data_b75963', 'title': 'AllFacebook coverage of Wetpaint'}, {'external_url': 'http://adage.com/article/digital/celeb-site-wetpaint-shows-media-profit-facebook/237828/', 'title': 'Profile of Wetpaint in Ad Age'}, {'external_url': 'http://allthingsd.com/20121018/how-to-boost-your-facebook-traffic-tips-and-tricks-from-wetpaint/', 'title': 'Interview with Wetpaint CEO Ben Elowitz in All Things D'}, {'external_url': 'http://www.xconomy.com/seattle/2012/10/19/wetpaint-starts-licensing-its-facebook-based-media-distribution-tech/', 'title': 'Profile of Wetpaint in Xconomy'}], 'partners': []}\n"
     ]
    }
   ],
   "source": [
    "# Your Code\n",
    "cursor = db.companies.find({\"founded_month\":{\"$gt\": 6}}).limit(1000)\n",
    "for company in cursor:\n",
    "    print(company)\n",
    "    break"
   ]
  },
  {
   "cell_type": "markdown",
   "metadata": {},
   "source": [
    "### 12. All the companies founded before 2000 that have an acquisition amount of more than 10.000.00"
   ]
  },
  {
   "cell_type": "code",
   "execution_count": 41,
   "metadata": {},
   "outputs": [
    {
     "name": "stdout",
     "output_type": "stream",
     "text": [
      "{'_id': ObjectId('52cdef7c4bab8bd675297d90'), 'name': 'Postini', 'permalink': 'postini', 'crunchbase_url': 'http://www.crunchbase.com/company/postini', 'homepage_url': 'http://postini.com', 'blog_url': '', 'blog_feed_url': '', 'twitter_username': None, 'category_code': 'web', 'number_of_employees': None, 'founded_year': 1999, 'founded_month': 6, 'founded_day': 2, 'deadpooled_year': None, 'deadpooled_month': None, 'deadpooled_day': None, 'deadpooled_url': None, 'tag_list': '', 'alias_list': None, 'email_address': '', 'phone_number': '888.584.3150', 'description': None, 'created_at': 'Fri Jun 08 12:19:51 UTC 2007', 'updated_at': 'Sat Aug 13 18:02:34 UTC 2011', 'overview': '<p>Postini focuses on two main issues: security and compliance. Postini states that it handles more than 1 billion messages everyday and protects more than 35,000 businesses worldwide.</p>\\n\\n<p>Postini offers solutions that protect your company from malicious internet attacks. The Postini Communications Suite eliminates unwanted content from email, instant messaging, and the web. Postini aims to increase business productivity. It will also automatically encrypt senstive messages between you and business partners.</p>\\n\\n<p>Postini currently holds two patents in the area of security and compliance. It was acquired by <a href=\"/company/google\" title=\"Google\" rel=\"nofollow\">Google</a> in 2007 and now operates as a subsidiary.</p>', 'image': {'available_sizes': [[[150, 61], 'assets/images/resized/0000/3697/3697v1-max-150x150.png'], [[183, 75], 'assets/images/resized/0000/3697/3697v1-max-250x250.png'], [[183, 75], 'assets/images/resized/0000/3697/3697v1-max-450x450.png']], 'attribution': None}, 'products': [{'name': 'Postini Solutions', 'permalink': 'postini-solutions'}], 'relationships': [{'is_past': False, 'title': 'Board', 'person': {'first_name': 'Scott', 'last_name': 'Petry', 'permalink': 'scott-petry'}}, {'is_past': None, 'title': 'Board', 'person': {'first_name': 'Don', 'last_name': 'Beck', 'permalink': 'don-beck'}}, {'is_past': None, 'title': 'Board', 'person': {'first_name': 'Murray', 'last_name': 'J. Demo', 'permalink': 'murray-j-demo'}}, {'is_past': False, 'title': 'Director', 'person': {'first_name': 'Harrison', 'last_name': 'B. Miller', 'permalink': 'harrison-b-miller'}}, {'is_past': True, 'title': 'CFO', 'person': {'first_name': 'Murray', 'last_name': 'J. Demo', 'permalink': 'murray-j-demo'}}, {'is_past': True, 'title': 'VP Marketing', 'person': {'first_name': 'Steve', 'last_name': 'Kahan', 'permalink': 'steve-kahan'}}, {'is_past': True, 'title': 'SVP Sales and Marketing', 'person': {'first_name': 'Mike', 'last_name': 'Purcell', 'permalink': 'mike-purcell'}}, {'is_past': True, 'title': 'Executive Vice President', 'person': {'first_name': 'Jocelyn', 'last_name': 'Ding', 'permalink': 'jocelyn-ding'}}, {'is_past': True, 'title': 'Board', 'person': {'first_name': 'Quentin', 'last_name': 'Gallivan', 'permalink': 'quentin-gallivan'}}, {'is_past': True, 'title': 'Sr. EMEA Operations & Tech Support Manager', 'person': {'first_name': 'James', 'last_name': 'Chivers', 'permalink': 'james-chivers'}}, {'is_past': True, 'title': 'VP Client Services', 'person': {'first_name': 'Mark', 'last_name': 'Fishwick', 'permalink': 'mark-fishwick'}}, {'is_past': True, 'title': 'Board Member', 'person': {'first_name': 'Raman', 'last_name': 'Khanna', 'permalink': 'raman-khanna'}}, {'is_past': True, 'title': 'Board Member', 'person': {'first_name': 'Ryan', 'last_name': 'McIntyre', 'permalink': 'ryan-mcintyre'}}, {'is_past': True, 'title': 'Investor', 'person': {'first_name': 'John', 'last_name': 'Johnston', 'permalink': 'john-johnston'}}, {'is_past': True, 'title': 'Board Member', 'person': {'first_name': 'Roger', 'last_name': 'S. Siboni', 'permalink': 'roger-s-siboni'}}, {'is_past': True, 'title': 'Channel Sales', 'person': {'first_name': 'Al', 'last_name': 'Powell', 'permalink': 'al-powell'}}], 'competitions': [{'competitor': {'name': 'RescueTime', 'permalink': 'rescuetime'}}, {'competitor': {'name': 'MailBlocks', 'permalink': 'mailblocks'}}, {'competitor': {'name': 'Suzerein Solutions', 'permalink': 'suzerein-solutions'}}], 'providerships': [], 'total_money_raised': '$0', 'funding_rounds': [], 'investments': [], 'acquisition': {'price_amount': 625000000, 'price_currency_code': 'USD', 'term_code': 'cash', 'source_url': 'http://www.techcrunch.com/2007/07/09/google-acquires-postini-for-625-million/', 'source_description': 'http://www.techcrunch.com/2007/07/09/google-acquires-postini-for-625-million/', 'acquired_year': 2007, 'acquired_month': 7, 'acquired_day': 9, 'acquiring_company': {'name': 'Google', 'permalink': 'google'}}, 'acquisitions': [], 'offices': [{'description': None, 'address1': '959 Skyway Road, Suite 200', 'address2': None, 'zip_code': '94070', 'city': 'San Carlos', 'state_code': 'CA', 'country_code': 'USA', 'latitude': 37.506885, 'longitude': -122.247573}], 'milestones': [], 'ipo': None, 'video_embeds': [], 'screenshots': [], 'external_links': [], 'partners': []}\n"
     ]
    }
   ],
   "source": [
    "# Your Code\n",
    "cursor = db.companies.find({\"$and\":[{\"founded_year\": {\"$lt\":2000}},{\"acquisition.price_amount\": {\"$gt\":10000000}}]})\n",
    "for company in cursor:\n",
    "    print(company)\n",
    "    break"
   ]
  },
  {
   "cell_type": "markdown",
   "metadata": {},
   "source": [
    "### 13. All the companies that have been acquired after 2010, order by the acquisition amount, and retrieve only their `name` and `acquisition` field."
   ]
  },
  {
   "cell_type": "code",
   "execution_count": 42,
   "metadata": {},
   "outputs": [
    {
     "name": "stdout",
     "output_type": "stream",
     "text": [
      "{'name': 'Geni', 'acquisition': {'price_amount': None, 'price_currency_code': 'USD', 'term_code': None, 'source_url': 'http://techcrunch.com/2012/11/28/all-in-the-family-myheritage-buys-former-yammer-stablemate-geni-com-raises-25m/', 'source_description': 'MyHeritage acquires Geni and $25M to build family tree of the whole world', 'acquired_year': 2012, 'acquired_month': 11, 'acquired_day': 28, 'acquiring_company': {'name': 'MyHeritage', 'permalink': 'myheritage'}}}\n"
     ]
    }
   ],
   "source": [
    "# Your Code\n",
    "cursor = db.companies.find({\"acquisition.acquired_year\": {\"$gt\":2010}},{\"name\":1,\"acquisition\":1,\"_id\":0}).sort([(\"acquisition.price_amount\",ASCENDING)])\n",
    "for company in cursor:\n",
    "    print(company)\n",
    "    break"
   ]
  },
  {
   "cell_type": "markdown",
   "metadata": {},
   "source": [
    "### 14. Order the companies by their `founded year`, retrieving only their `name` and `founded year`."
   ]
  },
  {
   "cell_type": "code",
   "execution_count": 44,
   "metadata": {},
   "outputs": [
    {
     "ename": "AttributeError",
     "evalue": "'dict' object has no attribute '_txn_read_preference'",
     "output_type": "error",
     "traceback": [
      "\u001b[0;31m---------------------------------------------------------------------------\u001b[0m",
      "\u001b[0;31mAttributeError\u001b[0m                            Traceback (most recent call last)",
      "\u001b[0;32m<ipython-input-44-c64fb414f57d>\u001b[0m in \u001b[0;36m<module>\u001b[0;34m()\u001b[0m\n\u001b[1;32m      1\u001b[0m \u001b[0;31m# Your Code\u001b[0m\u001b[0;34m\u001b[0m\u001b[0;34m\u001b[0m\u001b[0;34m\u001b[0m\u001b[0m\n\u001b[0;32m----> 2\u001b[0;31m \u001b[0mcursor\u001b[0m \u001b[0;34m=\u001b[0m \u001b[0mdb\u001b[0m\u001b[0;34m.\u001b[0m\u001b[0mcompanies\u001b[0m\u001b[0;34m.\u001b[0m\u001b[0maggregate\u001b[0m\u001b[0;34m(\u001b[0m\u001b[0;34m[\u001b[0m\u001b[0;34m{\u001b[0m\u001b[0;34m\"$sort\"\u001b[0m\u001b[0;34m:\u001b[0m\u001b[0;34m{\u001b[0m\u001b[0;34m\"founded_year\"\u001b[0m\u001b[0;34m:\u001b[0m\u001b[0;34m-\u001b[0m\u001b[0;36m1\u001b[0m\u001b[0;34m}\u001b[0m\u001b[0;34m}\u001b[0m\u001b[0;34m]\u001b[0m\u001b[0;34m,\u001b[0m\u001b[0;34m{\u001b[0m\u001b[0;34m\"name\"\u001b[0m\u001b[0;34m:\u001b[0m\u001b[0;36m1\u001b[0m\u001b[0;34m,\u001b[0m\u001b[0;34m\"founded_year\"\u001b[0m\u001b[0;34m:\u001b[0m\u001b[0;36m1\u001b[0m\u001b[0;34m,\u001b[0m\u001b[0;34m\"_id\"\u001b[0m\u001b[0;34m:\u001b[0m\u001b[0;36m0\u001b[0m\u001b[0;34m}\u001b[0m\u001b[0;34m)\u001b[0m\u001b[0;34m.\u001b[0m\u001b[0mlimit\u001b[0m\u001b[0;34m(\u001b[0m\u001b[0;36m10\u001b[0m\u001b[0;34m)\u001b[0m\u001b[0;34m\u001b[0m\u001b[0;34m\u001b[0m\u001b[0m\n\u001b[0m\u001b[1;32m      3\u001b[0m \u001b[0;34m\u001b[0m\u001b[0m\n\u001b[1;32m      4\u001b[0m \u001b[0;32mfor\u001b[0m \u001b[0mcompany\u001b[0m \u001b[0;32min\u001b[0m \u001b[0mcursor\u001b[0m\u001b[0;34m:\u001b[0m\u001b[0;34m\u001b[0m\u001b[0;34m\u001b[0m\u001b[0m\n\u001b[1;32m      5\u001b[0m     \u001b[0mprint\u001b[0m\u001b[0;34m(\u001b[0m\u001b[0mcompany\u001b[0m\u001b[0;34m)\u001b[0m\u001b[0;34m\u001b[0m\u001b[0;34m\u001b[0m\u001b[0m\n",
      "\u001b[0;32m/home/flori/.local/lib/python3.7/site-packages/pymongo/collection.py\u001b[0m in \u001b[0;36maggregate\u001b[0;34m(self, pipeline, session, **kwargs)\u001b[0m\n\u001b[1;32m   2378\u001b[0m                                    \u001b[0msession\u001b[0m\u001b[0;34m=\u001b[0m\u001b[0ms\u001b[0m\u001b[0;34m,\u001b[0m\u001b[0;34m\u001b[0m\u001b[0;34m\u001b[0m\u001b[0m\n\u001b[1;32m   2379\u001b[0m                                    \u001b[0mexplicit_session\u001b[0m\u001b[0;34m=\u001b[0m\u001b[0msession\u001b[0m \u001b[0;32mis\u001b[0m \u001b[0;32mnot\u001b[0m \u001b[0;32mNone\u001b[0m\u001b[0;34m,\u001b[0m\u001b[0;34m\u001b[0m\u001b[0;34m\u001b[0m\u001b[0m\n\u001b[0;32m-> 2380\u001b[0;31m                                    **kwargs)\n\u001b[0m\u001b[1;32m   2381\u001b[0m \u001b[0;34m\u001b[0m\u001b[0m\n\u001b[1;32m   2382\u001b[0m     \u001b[0;32mdef\u001b[0m \u001b[0maggregate_raw_batches\u001b[0m\u001b[0;34m(\u001b[0m\u001b[0mself\u001b[0m\u001b[0;34m,\u001b[0m \u001b[0mpipeline\u001b[0m\u001b[0;34m,\u001b[0m \u001b[0;34m**\u001b[0m\u001b[0mkwargs\u001b[0m\u001b[0;34m)\u001b[0m\u001b[0;34m:\u001b[0m\u001b[0;34m\u001b[0m\u001b[0;34m\u001b[0m\u001b[0m\n",
      "\u001b[0;32m/home/flori/.local/lib/python3.7/site-packages/pymongo/collection.py\u001b[0m in \u001b[0;36m_aggregate\u001b[0;34m(self, aggregation_command, pipeline, cursor_class, session, explicit_session, **kwargs)\u001b[0m\n\u001b[1;32m   2296\u001b[0m             user_fields={'cursor': {'firstBatch': 1}}, use_cursor=use_cursor)\n\u001b[1;32m   2297\u001b[0m         return self.__database.client._retryable_read(\n\u001b[0;32m-> 2298\u001b[0;31m             \u001b[0mcmd\u001b[0m\u001b[0;34m.\u001b[0m\u001b[0mget_cursor\u001b[0m\u001b[0;34m,\u001b[0m \u001b[0mcmd\u001b[0m\u001b[0;34m.\u001b[0m\u001b[0mget_read_preference\u001b[0m\u001b[0;34m(\u001b[0m\u001b[0msession\u001b[0m\u001b[0;34m)\u001b[0m\u001b[0;34m,\u001b[0m \u001b[0msession\u001b[0m\u001b[0;34m,\u001b[0m\u001b[0;34m\u001b[0m\u001b[0;34m\u001b[0m\u001b[0m\n\u001b[0m\u001b[1;32m   2299\u001b[0m             retryable=not cmd._performs_write)\n\u001b[1;32m   2300\u001b[0m \u001b[0;34m\u001b[0m\u001b[0m\n",
      "\u001b[0;32m/home/flori/.local/lib/python3.7/site-packages/pymongo/aggregation.py\u001b[0m in \u001b[0;36mget_read_preference\u001b[0;34m(self, session)\u001b[0m\n\u001b[1;32m    102\u001b[0m         \u001b[0;32mif\u001b[0m \u001b[0mself\u001b[0m\u001b[0;34m.\u001b[0m\u001b[0m_performs_write\u001b[0m\u001b[0;34m:\u001b[0m\u001b[0;34m\u001b[0m\u001b[0;34m\u001b[0m\u001b[0m\n\u001b[1;32m    103\u001b[0m             \u001b[0;32mreturn\u001b[0m \u001b[0mReadPreference\u001b[0m\u001b[0;34m.\u001b[0m\u001b[0mPRIMARY\u001b[0m\u001b[0;34m\u001b[0m\u001b[0;34m\u001b[0m\u001b[0m\n\u001b[0;32m--> 104\u001b[0;31m         \u001b[0;32mreturn\u001b[0m \u001b[0mself\u001b[0m\u001b[0;34m.\u001b[0m\u001b[0m_target\u001b[0m\u001b[0;34m.\u001b[0m\u001b[0m_read_preference_for\u001b[0m\u001b[0;34m(\u001b[0m\u001b[0msession\u001b[0m\u001b[0;34m)\u001b[0m\u001b[0;34m\u001b[0m\u001b[0;34m\u001b[0m\u001b[0m\n\u001b[0m\u001b[1;32m    105\u001b[0m \u001b[0;34m\u001b[0m\u001b[0m\n\u001b[1;32m    106\u001b[0m     \u001b[0;32mdef\u001b[0m \u001b[0mget_cursor\u001b[0m\u001b[0;34m(\u001b[0m\u001b[0mself\u001b[0m\u001b[0;34m,\u001b[0m \u001b[0msession\u001b[0m\u001b[0;34m,\u001b[0m \u001b[0mserver\u001b[0m\u001b[0;34m,\u001b[0m \u001b[0msock_info\u001b[0m\u001b[0;34m,\u001b[0m \u001b[0mslave_ok\u001b[0m\u001b[0;34m)\u001b[0m\u001b[0;34m:\u001b[0m\u001b[0;34m\u001b[0m\u001b[0;34m\u001b[0m\u001b[0m\n",
      "\u001b[0;32m/home/flori/.local/lib/python3.7/site-packages/pymongo/common.py\u001b[0m in \u001b[0;36m_read_preference_for\u001b[0;34m(self, session)\u001b[0m\n\u001b[1;32m    843\u001b[0m         \u001b[0;31m# Override this operation's read preference with the transaction's.\u001b[0m\u001b[0;34m\u001b[0m\u001b[0;34m\u001b[0m\u001b[0;34m\u001b[0m\u001b[0m\n\u001b[1;32m    844\u001b[0m         \u001b[0;32mif\u001b[0m \u001b[0msession\u001b[0m\u001b[0;34m:\u001b[0m\u001b[0;34m\u001b[0m\u001b[0;34m\u001b[0m\u001b[0m\n\u001b[0;32m--> 845\u001b[0;31m             \u001b[0;32mreturn\u001b[0m \u001b[0msession\u001b[0m\u001b[0;34m.\u001b[0m\u001b[0m_txn_read_preference\u001b[0m\u001b[0;34m(\u001b[0m\u001b[0;34m)\u001b[0m \u001b[0;32mor\u001b[0m \u001b[0mself\u001b[0m\u001b[0;34m.\u001b[0m\u001b[0m__read_preference\u001b[0m\u001b[0;34m\u001b[0m\u001b[0;34m\u001b[0m\u001b[0m\n\u001b[0m\u001b[1;32m    846\u001b[0m         \u001b[0;32mreturn\u001b[0m \u001b[0mself\u001b[0m\u001b[0;34m.\u001b[0m\u001b[0m__read_preference\u001b[0m\u001b[0;34m\u001b[0m\u001b[0;34m\u001b[0m\u001b[0m\n\u001b[1;32m    847\u001b[0m \u001b[0;34m\u001b[0m\u001b[0m\n",
      "\u001b[0;31mAttributeError\u001b[0m: 'dict' object has no attribute '_txn_read_preference'"
     ]
    }
   ],
   "source": [
    "# Your Code\n",
    "cursor = db.companies.aggregate([{\"$sort\":{\"founded_year\":-1}}],{\"name\":1,\"founded_year\":1,\"_id\":0}).limit(10)\n",
    "\n",
    "for company in cursor:\n",
    "    print(company)\n",
    "    break"
   ]
  },
  {
   "cell_type": "markdown",
   "metadata": {},
   "source": [
    "### 15. All the companies that have been founded on the first seven days of the month, including the seventh. Sort them by their `acquisition price` in a descending order. Limit the search to 10 documents."
   ]
  },
  {
   "cell_type": "code",
   "execution_count": 45,
   "metadata": {},
   "outputs": [
    {
     "name": "stdout",
     "output_type": "stream",
     "text": [
      "{'_id': ObjectId('52cdef7d4bab8bd6752989a1'), 'name': 'Netscape', 'permalink': 'netscape', 'crunchbase_url': 'http://www.crunchbase.com/company/netscape', 'homepage_url': 'http://netscape.aol.com', 'blog_url': '', 'blog_feed_url': '', 'twitter_username': '', 'category_code': 'software', 'number_of_employees': None, 'founded_year': 1994, 'founded_month': 4, 'founded_day': 4, 'deadpooled_year': None, 'deadpooled_month': None, 'deadpooled_day': None, 'deadpooled_url': None, 'tag_list': None, 'alias_list': '', 'email_address': '', 'phone_number': '', 'description': '', 'created_at': 'Tue May 06 00:27:28 UTC 2008', 'updated_at': 'Thu Nov 14 00:57:06 UTC 2013', 'overview': '<p>Netscape Communications Corporation offers development, marketing, sale, and support of enterprise software solutions. Its products include e-commerce infrastructure and e-commerce applications targeted primarily at corporate intranets and extranets, and Internet. The company was formerly known as Mosaic Communications Corporation and changed the name to Netscape Communications Corporation in November, 1994. Netscape Communications Corporation was founded in 1994 and is based in Mountain View, California. Netscape Communications Corporation operates as a subsidiary of AOL Inc.</p>', 'image': {'available_sizes': [[[150, 40], 'assets/images/resized/0002/7667/27667v1-max-150x150.png'], [[200, 54], 'assets/images/resized/0002/7667/27667v1-max-250x250.png'], [[200, 54], 'assets/images/resized/0002/7667/27667v1-max-450x450.png']], 'attribution': None}, 'products': [], 'relationships': [{'is_past': False, 'title': 'Chief Scientist', 'person': {'first_name': 'Dr.', 'last_name': 'Taher Elgamal', 'permalink': 'dr-taher-elgamal'}}, {'is_past': False, 'title': 'Senior VP Sales and Service', 'person': {'first_name': 'Todd', 'last_name': 'Rulon-Miller', 'permalink': 'todd-rulon-miller'}}, {'is_past': False, 'title': 'Vice President and General Manager', 'person': {'first_name': 'Keng', 'last_name': 'Lim', 'permalink': 'keng-lim'}}, {'is_past': False, 'title': '', 'person': {'first_name': 'Andy', 'last_name': 'Han', 'permalink': 'andy-han'}}, {'is_past': False, 'title': 'Investor', 'person': {'first_name': 'John', 'last_name': 'Doerr', 'permalink': 'john-doerr'}}, {'is_past': False, 'title': 'Director of Enterprise Applications', 'person': {'first_name': 'Vishi', 'last_name': 'Iyer', 'permalink': 'vishi-iyer'}}, {'is_past': False, 'title': 'Principal Engineer,', 'person': {'first_name': 'Chris', 'last_name': 'Waterson', 'permalink': 'chris-waterson'}}, {'is_past': True, 'title': 'Co - Founder', 'person': {'first_name': 'Marc', 'last_name': 'Andreessen', 'permalink': 'marc-andreessen'}}, {'is_past': True, 'title': 'Chief Architect', 'person': {'first_name': 'Vidur', 'last_name': 'Apparap', 'permalink': 'vidur-apparap'}}, {'is_past': True, 'title': 'CTO, Server Product Division', 'person': {'first_name': 'Tim', 'last_name': 'Howes', 'permalink': 'tim-howes'}}, {'is_past': True, 'title': 'Vice President of Strategic Planning', 'person': {'first_name': 'John', 'last_name': 'Bruggeman', 'permalink': 'john-bruggeman'}}, {'is_past': True, 'title': 'Senior VP of Integrated Applications', 'person': {'first_name': 'Jim', 'last_name': 'Sha', 'permalink': 'jim-sha'}}, {'is_past': True, 'title': 'General Manger & VP EMEA', 'person': {'first_name': 'Didier', 'last_name': 'Bench', 'permalink': 'didier-bench'}}, {'is_past': True, 'title': 'VP, Channel and Developer Relations', 'person': {'first_name': 'Daniel', 'last_name': 'Shader', 'permalink': 'daniel-shader'}}, {'is_past': True, 'title': 'Sr. Vice President', 'person': {'first_name': 'Rick', 'last_name': 'Schell', 'permalink': 'rick-schell'}}, {'is_past': True, 'title': 'Senior Vice President, Engineering', 'person': {'first_name': 'Debby', 'last_name': 'Meredith', 'permalink': 'debby-meredith'}}, {'is_past': True, 'title': 'VP', 'person': {'first_name': 'David', 'last_name': 'Weiden', 'permalink': 'david-weiden'}}, {'is_past': True, 'title': 'SVP & GM Browser Products Division', 'person': {'first_name': 'Bob', 'last_name': 'Lisbonne', 'permalink': 'bob-lisbonne'}}, {'is_past': True, 'title': 'VP & GM Directory and Security', 'person': {'first_name': 'Claire', 'last_name': 'Hough', 'permalink': 'claire-hough'}}, {'is_past': True, 'title': 'VP, Online Content Programming', 'person': {'first_name': 'Jerrell', 'last_name': 'Jimerson', 'permalink': 'jerrell-jimerson'}}, {'is_past': True, 'title': 'VP of Human Resources', 'person': {'first_name': 'Margie', 'last_name': 'Mader-Clark', 'permalink': 'margie-mader-clark'}}, {'is_past': True, 'title': 'VP Worldwide Sales and Marketing (Actra Joint Venture)', 'person': {'first_name': 'Ray', 'last_name': 'Rike', 'permalink': 'ray-rike'}}, {'is_past': True, 'title': 'Various VP Level Engineering Positions', 'person': {'first_name': 'Ira', 'last_name': 'Sharfglass', 'permalink': 'ira-sharfglass'}}, {'is_past': True, 'title': 'Vice President', 'person': {'first_name': 'Ben', 'last_name': 'Horowitz', 'permalink': 'ben-horowitz'}}, {'is_past': True, 'title': 'Vice President', 'person': {'first_name': 'Ammiel', 'last_name': 'Kamon', 'permalink': 'ammiel-kamon'}}, {'is_past': True, 'title': 'Vice President, Enterprise Hosted Services', 'person': {'first_name': 'Joel', 'last_name': 'Pulliam', 'permalink': 'joel-pulliam'}}, {'is_past': True, 'title': 'SVP/GM Application Products Division', 'person': {'first_name': 'Steve', 'last_name': 'Savignano', 'permalink': 'steve-savignano'}}, {'is_past': True, 'title': 'VP Technology', 'person': {'first_name': 'Mike', 'last_name': 'McCue', 'permalink': 'mike-mccue'}}, {'is_past': True, 'title': 'VP, Business Operations', 'person': {'first_name': 'Dana', 'last_name': 'Stalder', 'permalink': 'dana-stalder'}}, {'is_past': True, 'title': 'Director of Engineering', 'person': {'first_name': 'Rich', 'last_name': 'Skrenta', 'permalink': 'rich-skrenta'}}, {'is_past': True, 'title': '', 'person': {'first_name': 'Marc', 'last_name': 'Kocher', 'permalink': 'marc-kocher'}}, {'is_past': True, 'title': '', 'person': {'first_name': 'Mike', 'last_name': 'Pinkerton', 'permalink': 'mike-pinkerton'}}, {'is_past': True, 'title': 'Principal UI Designer', 'person': {'first_name': 'Jim', 'last_name': 'Lane', 'permalink': 'jim-lane'}}, {'is_past': True, 'title': 'DMOZ Business Development', 'person': {'first_name': 'Jeremy', 'last_name': 'Wenokur', 'permalink': 'jeremy-wenokur'}}, {'is_past': True, 'title': 'Director', 'person': {'first_name': 'Jason', 'last_name': 'Rosenthal', 'permalink': 'jason-rosenthal'}}, {'is_past': True, 'title': 'European Sales Director', 'person': {'first_name': 'Chris', 'last_name': 'Zaharias', 'permalink': 'chris-zaharias'}}, {'is_past': True, 'title': 'Group Product Manager', 'person': {'first_name': 'Micki', 'last_name': 'Seibel', 'permalink': 'micki-seibel'}}, {'is_past': True, 'title': 'Managing Director UK, Ireland & South Africa', 'person': {'first_name': 'Stephen', 'last_name': 'Voller', 'permalink': 'stephen-voller'}}, {'is_past': True, 'title': 'President', 'person': {'first_name': 'Jim', 'last_name': 'Bankoff', 'permalink': 'jim-bankoff'}}, {'is_past': True, 'title': 'Manager & Architect', 'person': {'first_name': 'In', 'last_name': 'Sik Rhee', 'permalink': 'in-sik-rhee'}}, {'is_past': True, 'title': 'Northeast Practice Manager', 'person': {'first_name': 'Eric', 'last_name': 'Jepsky', 'permalink': 'eric-jepsky'}}, {'is_past': True, 'title': 'Senior Software Engineer', 'person': {'first_name': 'Jonathan', 'last_name': 'Abrams', 'permalink': 'jonathan-abrams'}}, {'is_past': True, 'title': 'Visual Designer', 'person': {'first_name': 'Skye', 'last_name': 'Lee', 'permalink': 'skye-lee'}}, {'is_past': True, 'title': 'Interaction Designer', 'person': {'first_name': 'Irene', 'last_name': 'Au', 'permalink': 'irene-au'}}, {'is_past': True, 'title': '', 'person': {'first_name': 'Tim', 'last_name': 'Roberts', 'permalink': 'tim-roberts'}}, {'is_past': True, 'title': 'Director of Product Management', 'person': {'first_name': 'Jason', 'last_name': 'Rosenthal', 'permalink': 'jason-rosenthal'}}, {'is_past': True, 'title': 'Sr. Software Engineer', 'person': {'first_name': 'David', 'last_name': 'Tompkins', 'permalink': 'david-tompkins'}}, {'is_past': True, 'title': 'Principal Engineer', 'person': {'first_name': 'Lloyd', 'last_name': 'Tabb', 'permalink': 'lloyd-tabb'}}, {'is_past': True, 'title': 'Software Developer', 'person': {'first_name': 'Mike', 'last_name': 'Lenz', 'permalink': 'mike-lenz'}}, {'is_past': True, 'title': 'Director of Marketing', 'person': {'first_name': 'Chris', 'last_name': 'Tolles', 'permalink': 'chris-tolles'}}, {'is_past': True, 'title': 'Corporate Counsel', 'person': {'first_name': 'David', 'last_name': 'Mandelbrot', 'permalink': 'david-mandelbrot'}}, {'is_past': True, 'title': 'Practice Head Professional Services, Western US', 'person': {'first_name': 'Jim', 'last_name': 'Schinella', 'permalink': 'jim-schinella'}}, {'is_past': True, 'title': 'Sr. HR Manager/Dir Americas Sales and Professional Services', 'person': {'first_name': 'David', 'last_name': 'Barber', 'permalink': 'david-barber'}}, {'is_past': True, 'title': 'Engineering Manager, Proxy Server', 'person': {'first_name': 'Chuck', 'last_name': 'Neerdaels', 'permalink': 'chuck-neerdaels'}}, {'is_past': True, 'title': 'Sr. Software Engineer / Software Development Manager', 'person': {'first_name': 'Troy', 'last_name': 'Chevalier', 'permalink': 'troy-chevalier'}}, {'is_past': True, 'title': 'Technical Assistant to Marc Andreessen', 'person': {'first_name': 'Jim', 'last_name': 'Ambach', 'permalink': 'jim-ambach'}}, {'is_past': True, 'title': 'Website Dev Manager', 'person': {'first_name': 'Bala', 'last_name': 'Guthy', 'permalink': 'bala-guthy'}}, {'is_past': True, 'title': 'Director, Professional Services', 'person': {'first_name': 'Noreen', 'last_name': 'Henry', 'permalink': 'noreen-henry'}}, {'is_past': True, 'title': 'Senior Director, Business Programming - Netcenter', 'person': {'first_name': 'Hillary', 'last_name': 'Mickell', 'permalink': 'hillary-mickell'}}, {'is_past': True, 'title': 'Software Commando', 'person': {'first_name': 'Michael', 'last_name': 'Judge', 'permalink': 'michael-judge'}}, {'is_past': True, 'title': 'Director of Business Development and OEM Sales', 'person': {'first_name': 'Alan', 'last_name': 'Louie', 'permalink': 'alan-louie'}}, {'is_past': True, 'title': 'Dir. Strategic Marketing', 'person': {'first_name': 'Gregory', 'last_name': 'Miller', 'permalink': 'gregory-miller-2'}}, {'is_past': True, 'title': 'Strategic Sales', 'person': {'first_name': 'Brian', 'last_name': 'Curry', 'permalink': 'brian-curry'}}, {'is_past': True, 'title': 'Business Development', 'person': {'first_name': 'Mark', 'last_name': 'Siegel', 'permalink': 'mark-siegel'}}, {'is_past': True, 'title': 'VP, Sales', 'person': {'first_name': 'Karen', 'last_name': 'Richardson', 'permalink': 'karen-richardson'}}, {'is_past': True, 'title': 'Senior Sales Engineer', 'person': {'first_name': 'Stacy', 'last_name': 'Martin', 'permalink': 'stacy-martin'}}, {'is_past': True, 'title': 'Sr Engineering Manager', 'person': {'first_name': 'Dan', 'last_name': 'Kuokka', 'permalink': 'dan-kuokka'}}, {'is_past': True, 'title': 'Sr. Principal Consultant / Regional Practice Manager', 'person': {'first_name': 'Andy', 'last_name': 'Spillane', 'permalink': 'andy-spillane'}}, {'is_past': True, 'title': 'Engineering Manager', 'person': {'first_name': 'Dave', 'last_name': 'Keefer', 'permalink': 'dave-keefer'}}, {'is_past': True, 'title': 'Various Designation', 'person': {'first_name': 'Josh', 'last_name': 'Becker', 'permalink': 'josh-becker'}}, {'is_past': True, 'title': 'Marketing, Communications and Web Strategy', 'person': {'first_name': 'Bruce', 'last_name': 'Carlisle', 'permalink': 'bruce-carlisle'}}, {'is_past': True, 'title': 'Senior and Executive Management', 'person': {'first_name': 'Ajay', 'last_name': 'Jain', 'permalink': 'ajay-jain'}}, {'is_past': True, 'title': '', 'person': {'first_name': 'Brandon', 'last_name': 'Berger', 'permalink': 'brandon-berger'}}, {'is_past': True, 'title': 'Director Product Marketing', 'person': {'first_name': 'Andres', 'last_name': 'Espineira', 'permalink': 'andres-espineira'}}, {'is_past': True, 'title': 'Director of Product Management', 'person': {'first_name': 'Raghu', 'last_name': 'Raghuram', 'permalink': 'raghu-raghuram'}}, {'is_past': True, 'title': 'Senior Director', 'person': {'first_name': 'Brent', 'last_name': 'Harrison', 'permalink': 'brent-harrison'}}, {'is_past': True, 'title': 'Product Manager, Web Browser / Gecko', 'person': {'first_name': 'Angus', 'last_name': 'Davis', 'permalink': 'angus-davis'}}, {'is_past': True, 'title': '', 'person': {'first_name': 'Todd', 'last_name': 'Pringle', 'permalink': 'todd-pringle'}}, {'is_past': True, 'title': 'Director of Browser Development', 'person': {'first_name': 'Jim', 'last_name': 'Everingham', 'permalink': 'jim-everingham'}}, {'is_past': True, 'title': '', 'person': {'first_name': 'Ram', 'last_name': 'Shriram', 'permalink': 'ram-shriram'}}, {'is_past': True, 'title': 'Director', 'person': {'first_name': 'Ken', 'last_name': 'Rutsky', 'permalink': 'ken-rutsky'}}, {'is_past': True, 'title': 'Development Manager', 'person': {'first_name': 'Richard', 'last_name': 'Shusterman', 'permalink': 'richard-shusterman'}}, {'is_past': True, 'title': 'Software Engineer', 'person': {'first_name': 'Javier', 'last_name': 'Soltero', 'permalink': 'javier-soltero'}}, {'is_past': True, 'title': 'Regional Director', 'person': {'first_name': 'Kirsten', 'last_name': 'Ward', 'permalink': 'kirsten-ward'}}, {'is_past': True, 'title': 'Sales Manager, France', 'person': {'first_name': 'Matthieu', 'last_name': 'Chouard', 'permalink': 'matthieu-chouard'}}, {'is_past': True, 'title': 'Intern', 'person': {'first_name': 'Ethel', 'last_name': 'Chen', 'permalink': 'ethel-chen'}}, {'is_past': True, 'title': 'Evangelism', 'person': {'first_name': 'Luke', 'last_name': 'Nosek', 'permalink': 'luke-nosek'}}, {'is_past': True, 'title': 'President', 'person': {'first_name': 'Michael', 'last_name': 'Sharma', 'permalink': 'michael-sharma'}}, {'is_past': True, 'title': 'Product Management Intern', 'person': {'first_name': 'Katherine', 'last_name': 'Woo', 'permalink': 'katherine-woo'}}, {'is_past': True, 'title': 'Director, Application Architecture & Design, Netcenter Division', 'person': {'first_name': 'Mark', 'last_name': 'Stern', 'permalink': 'mark-stern'}}, {'is_past': True, 'title': 'Sr. Director, Products', 'person': {'first_name': 'Julie', 'last_name': 'Herendeen', 'permalink': 'julie-herendeen'}}, {'is_past': True, 'title': 'Sr. Director', 'person': {'first_name': 'David', 'last_name': 'Pann', 'permalink': 'david-pann'}}, {'is_past': True, 'title': 'Senior Software Engineer', 'person': {'first_name': 'Javier', 'last_name': 'Soltero', 'permalink': 'javier-soltero'}}, {'is_past': True, 'title': 'Director PM', 'person': {'first_name': 'Eckart', 'last_name': 'Walther', 'permalink': 'eckart-walther'}}, {'is_past': True, 'title': 'Senior Editor', 'person': {'first_name': 'Lee', 'last_name': 'Sherman', 'permalink': 'lee-sherman'}}, {'is_past': True, 'title': 'Mgr / Sr Software Engineer', 'person': {'first_name': 'Steve', 'last_name': 'Rubinstein', 'permalink': 'steve-rubinstein'}}, {'is_past': True, 'title': 'Director Product Marketing / Biz Dev', 'person': {'first_name': 'Atri', 'last_name': 'Chatterjee', 'permalink': 'atri-chatterjee'}}, {'is_past': True, 'title': 'Consultant', 'person': {'first_name': 'Ellen', 'last_name': 'Perelman', 'permalink': 'ellen-perelman'}}, {'is_past': True, 'title': 'Director, Product Management & Marketing', 'person': {'first_name': 'Albert', 'last_name': 'Gouyet', 'permalink': 'albert-gouyet'}}, {'is_past': True, 'title': 'Director of Engineering/Browser', 'person': {'first_name': 'James', 'last_name': 'Everingham', 'permalink': 'james-everingham'}}, {'is_past': True, 'title': 'Various Marketing Positions', 'person': {'first_name': 'Susan', 'last_name': 'Chenoweth', 'permalink': 'susan-chenoweth'}}, {'is_past': True, 'title': 'Director North American Field Marketing', 'person': {'first_name': 'Susan', 'last_name': 'Scarth', 'permalink': 'susan-scarth'}}, {'is_past': True, 'title': 'Account Executive', 'person': {'first_name': 'Jason', 'last_name': 'Han', 'permalink': 'jason-han'}}, {'is_past': True, 'title': 'Consultant', 'person': {'first_name': 'Marge', 'last_name': 'Breya', 'permalink': 'marge-breya'}}, {'is_past': True, 'title': 'Dir, Dev Tools R&D', 'person': {'first_name': 'Jeffrey', 'last_name': 'L. Barca-Hall', 'permalink': 'jeffrey-l-barca-hall'}}, {'is_past': True, 'title': 'Manager', 'person': {'first_name': 'Gary', 'last_name': 'Nakamura', 'permalink': 'gary-nakamura'}}, {'is_past': True, 'title': 'Director of Product Management, Netscape Navigator', 'person': {'first_name': 'Alex', 'last_name': 'Edelstein', 'permalink': 'alex-edelstein'}}, {'is_past': True, 'title': 'Technical Manager', 'person': {'first_name': 'Vishy', 'last_name': 'Ramachandran', 'permalink': 'vishy-ramachandran'}}, {'is_past': True, 'title': 'Director, Netscape / America Online', 'person': {'first_name': 'Yuan', 'last_name': 'Huntington Weigel', 'permalink': 'yuan-huntington-weigel'}}, {'is_past': True, 'title': 'Group Product Marketing Manager', 'person': {'first_name': 'Suzanne', 'last_name': 'Usiskin', 'permalink': 'suzanne-usiskin'}}, {'is_past': True, 'title': 'Senior Software Engineer', 'person': {'first_name': 'Autumn', 'last_name': 'Looijen', 'permalink': 'autumn-looijen-2'}}, {'is_past': True, 'title': 'Director', 'person': {'first_name': 'John', 'last_name': 'Occhipinti', 'permalink': 'john-occhipinti'}}, {'is_past': True, 'title': 'Sr. Product Manager: Directory and Security', 'person': {'first_name': 'Stephen', 'last_name': 'Shoaff', 'permalink': 'stephen-shoaff'}}, {'is_past': True, 'title': 'Group Product Manager', 'person': {'first_name': 'JF', 'last_name': 'Sullivan', 'permalink': 'jf-sullivan'}}, {'is_past': True, 'title': 'Team Member', 'person': {'first_name': 'Alan', 'last_name': 'Gunshor', 'permalink': 'alan-gunshor'}}, {'is_past': True, 'title': '', 'person': {'first_name': 'Liz', 'last_name': 'Westover', 'permalink': 'liz-westover'}}, {'is_past': True, 'title': 'Group Product Marketing Manager', 'person': {'first_name': 'Jorge', 'last_name': 'Martin', 'permalink': 'jorge-martin'}}, {'is_past': True, 'title': 'Senior Product Manager', 'person': {'first_name': 'Jonathan', 'last_name': 'H. Corr', 'permalink': 'jonathan-h-corr'}}, {'is_past': True, 'title': '', 'person': {'first_name': 'David', 'last_name': 'Miller', 'permalink': 'david-miller-2'}}, {'is_past': True, 'title': '', 'person': {'first_name': 'Brian', 'last_name': 'Cowley', 'permalink': 'brian-cowley-2'}}, {'is_past': True, 'title': 'Manager, Engineering Teams', 'person': {'first_name': 'David', 'last_name': 'Kandasamy', 'permalink': 'david-kandasamy'}}], 'competitions': [], 'providerships': [], 'total_money_raised': '$0', 'funding_rounds': [{'id': 20468, 'round_code': 'c', 'source_url': 'http://www.hearst.com/press-room/pr-19950407a.php', 'source_description': 'NETSCAPE COMMUNICATIONS ANNOUNCES INVESTMENT BY PUBLISHING AND TECHNOLOGY COMPANIES', 'raised_amount': None, 'raised_currency_code': None, 'funded_year': 1995, 'funded_month': 4, 'funded_day': None, 'investments': []}], 'investments': [], 'acquisition': {'price_amount': 4200000000, 'price_currency_code': 'USD', 'term_code': 'stock', 'source_url': 'http://news.cnet.com/2100-1023-218360.html', 'source_description': 'AOL buys Netscape for $4.2 billion', 'acquired_year': 1998, 'acquired_month': 11, 'acquired_day': 28, 'acquiring_company': {'name': 'AOL', 'permalink': 'aol'}}, 'acquisitions': [], 'offices': [{'description': '', 'address1': '466 Ellis Street', 'address2': '', 'zip_code': '94043', 'city': 'Mountain View', 'state_code': 'CA', 'country_code': 'USA', 'latitude': 37.4001507, 'longitude': -122.0521992}], 'milestones': [], 'ipo': None, 'video_embeds': [], 'screenshots': [], 'external_links': [], 'partners': []}\n"
     ]
    }
   ],
   "source": [
    "# Your Code\n",
    "cursor = db.companies.find({\"founded_day\":{\"$in\":[i for i in range(1,8)]}}).sort([(\"acquisition.price_amount\",DESCENDING)]).limit(10)\n",
    "for company in cursor:\n",
    "    print(company)\n",
    "    break"
   ]
  },
  {
   "cell_type": "markdown",
   "metadata": {},
   "source": [
    "### 16. All the companies on the 'web' `category` that have more than 4000 employees. Sort them by the amount of employees in ascending order."
   ]
  },
  {
   "cell_type": "code",
   "execution_count": 47,
   "metadata": {},
   "outputs": [
    {
     "name": "stdout",
     "output_type": "stream",
     "text": [
      "{'_id': ObjectId('52cdef7c4bab8bd67529822a'), 'name': 'Expedia', 'permalink': 'expedia', 'crunchbase_url': 'http://www.crunchbase.com/company/expedia', 'homepage_url': 'http://www.expedia.com', 'blog_url': '', 'blog_feed_url': '', 'twitter_username': 'Expedia', 'category_code': 'web', 'number_of_employees': 4400, 'founded_year': 1996, 'founded_month': None, 'founded_day': None, 'deadpooled_year': None, 'deadpooled_month': None, 'deadpooled_day': None, 'deadpooled_url': None, 'tag_list': 'travel, flights, hotels, tickets, airline, vacation, travel-comparison, travel-search', 'alias_list': '', 'email_address': '', 'phone_number': '1-800-EXPEDIA', 'description': '', 'created_at': 'Sun Feb 10 03:29:12 UTC 2008', 'updated_at': 'Sun Dec 08 07:03:33 UTC 2013', 'overview': '<p>Expedia.com is an Internet-based travel agency and a part of Expedia, Inc.. It books airline tickets, hotel reservations, car rentals, cruises, vacation packages, and various attractions and services via the World Wide Web and telephone travel agents. The site uses the Sabre reservation system as their main Global reservations system.</p>\\n\\n<p>The company&#8217;s main web businesses include Expedia.com, Hotels.com, Hotwire.com and Egencia.com. Tripadvisor was spun off in December 2011. The company also offers services for corporate travel and travel services in Europe and Asia.</p>\\n\\n<p>Expedia companies also operate internationally with sites in Canada, the United Kingdom, Germany, France, Italy, Spain, the Netherlands, Norway, Sweden, Denmark, Australia, Japan and China, through its investment in eLong.</p>\\n\\n<p>History:</p>\\n\\n<p>Expedia was originally founded by Microsoft in 1995. The company was spun out as an independent business in 1996. Expedia, Inc. first went public in 1999.</p>\\n\\n<p>In 2001, USA Networks - now IAC/InterActiveCorp (IAC) bought a controlling stake in Expedia and the company outright in 2002. In July 2005, IAC spun Expedia off into a separate company.</p>', 'image': {'available_sizes': [[[150, 115], 'assets/images/resized/0001/6749/16749v3-max-150x150.jpg'], [[250, 193], 'assets/images/resized/0001/6749/16749v3-max-250x250.jpg'], [[450, 347], 'assets/images/resized/0001/6749/16749v3-max-450x450.jpg']], 'attribution': None}, 'products': [], 'relationships': [{'is_past': False, 'title': 'Director and Vice Chairman', 'person': {'first_name': 'Victor', 'last_name': 'Kaufman', 'permalink': 'victor-kaufman'}}, {'is_past': False, 'title': 'Chairman & Senior Executive', 'person': {'first_name': 'Barry', 'last_name': 'Diller', 'permalink': 'barry-diller'}}, {'is_past': False, 'title': 'COO - SVP Global Business Operations', 'person': {'first_name': 'Eric', 'last_name': 'Koenig', 'permalink': 'eric-koenig'}}, {'is_past': False, 'title': 'Chief Technology Officer', 'person': {'first_name': 'Edmond', 'last_name': 'Mesrobian', 'permalink': 'edmond-mesrobian'}}, {'is_past': False, 'title': 'Vice President, Chief Accounting Officer and Controller', 'person': {'first_name': 'Lance', 'last_name': 'A. Soliday', 'permalink': 'lance-a-soliday'}}, {'is_past': False, 'title': 'President and Chief Executive Officer, Expedia, Inc. and President, Expedia Worldwide', 'person': {'first_name': 'Dara', 'last_name': 'Khosrowshahi', 'permalink': 'dara-khosrowshahi'}}, {'is_past': False, 'title': 'SVP & CMO, Global Marketing', 'person': {'first_name': 'David', 'last_name': 'Doctorow', 'permalink': 'david-doctorow'}}, {'is_past': False, 'title': 'VP Mobile, Innovation', 'person': {'first_name': 'Aimee', 'last_name': 'Cardwell', 'permalink': 'aimee-cardwell'}}, {'is_past': False, 'title': 'Vice President, Brand Marketing', 'person': {'first_name': 'Paul', 'last_name': 'Leonard', 'permalink': 'paul-leonard'}}, {'is_past': False, 'title': 'Executive Vice President and Chief Financial Officer', 'person': {'first_name': 'Mark', 'last_name': 'Okerstrom', 'permalink': 'mark-okerstrom'}}, {'is_past': False, 'title': 'Global Vice President of Media Solutions', 'person': {'first_name': 'Noah', 'last_name': 'Tratt', 'permalink': 'noah-tratt'}}, {'is_past': False, 'title': 'Web Developer', 'person': {'first_name': 'Mohamed', 'last_name': 'Jama', 'permalink': 'mohamed-jama'}}, {'is_past': False, 'title': 'Snr SEO Specialist', 'person': {'first_name': 'Magdalena (Mags)', 'last_name': 'Sikora', 'permalink': 'magdalena-mags-sikora'}}, {'is_past': False, 'title': 'Senior Director Global Ad Sales', 'person': {'first_name': 'Derek', 'last_name': 'Netelenbos', 'permalink': 'derek-netelenbos'}}, {'is_past': False, 'title': 'Director, Product Management - Media Solutions', 'person': {'first_name': 'Wendy', 'last_name': 'Olson Killion', 'permalink': 'wendy-olson-killion'}}, {'is_past': False, 'title': 'President of Egencia', 'person': {'first_name': 'Rob', 'last_name': 'Greyber', 'permalink': 'rob-greyber'}}, {'is_past': False, 'title': 'Board Director', 'person': {'first_name': 'Skip', 'last_name': 'Battle', 'permalink': 'skip-battle'}}, {'is_past': False, 'title': 'Board of Directors', 'person': {'first_name': 'Jonathan', 'last_name': 'L. Dolgen', 'permalink': 'jonathan-l-dolgen'}}, {'is_past': False, 'title': 'Board Director', 'person': {'first_name': 'John', 'last_name': 'C. Malone', 'permalink': 'john-c-malone'}}, {'is_past': False, 'title': 'Vice President, Partner Marketing', 'person': {'first_name': 'Jeff', 'last_name': 'Warren', 'permalink': 'jeff-warren'}}, {'is_past': False, 'title': 'General Manager, Hawaii - Expedia Local Expert', 'person': {'first_name': 'Thomas', 'last_name': 'Colandrea', 'permalink': 'thomas-colandrea'}}, {'is_past': False, 'title': '', 'person': {'first_name': 'Jeffrey Kit Fai', 'last_name': 'Ng', 'permalink': 'jeffrey-kit-fai-ng'}}, {'is_past': False, 'title': 'Director SEO', 'person': {'first_name': 'Jeremy', 'last_name': 'Reitman', 'permalink': 'jeremy-reitman-2'}}, {'is_past': False, 'title': 'Senior Director, Product Management', 'person': {'first_name': 'Benoit', 'last_name': 'Jolin', 'permalink': 'benoit-jolin'}}, {'is_past': False, 'title': 'Executive Vice President, General Counsel and Secretary', 'person': {'first_name': 'Robert', 'last_name': 'Dzielak', 'permalink': 'robert-dzielak'}}, {'is_past': False, 'title': 'President of Expedia® Affiliate Network', 'person': {'first_name': 'Arthur', 'last_name': 'Hoffman', 'permalink': 'arthur-hoffman'}}, {'is_past': False, 'title': 'Board of Directors', 'person': {'first_name': 'Pamela', 'last_name': 'L. Coe', 'permalink': 'pamela-l-coe'}}, {'is_past': False, 'title': 'Board of Directors', 'person': {'first_name': 'Craig', 'last_name': 'A. Jacobson', 'permalink': 'craig-a-jacobson'}}, {'is_past': False, 'title': 'Board of Directors', 'person': {'first_name': 'José', 'last_name': 'A. Tazón', 'permalink': 'jos-a-tazn'}}, {'is_past': False, 'title': 'Senior Director, Brand Marketing', 'person': {'first_name': 'Vic', 'last_name': 'Walia', 'permalink': 'vic-walia'}}, {'is_past': False, 'title': 'President', 'person': {'first_name': 'David', 'last_name': 'Roche', 'permalink': 'david-roche-2'}}, {'is_past': True, 'title': 'Founder, CEO', 'person': {'first_name': 'Rich', 'last_name': 'Barton', 'permalink': 'rich-barton-2'}}, {'is_past': True, 'title': 'CEO and President', 'person': {'first_name': 'Jonathan', 'last_name': 'Miller', 'permalink': 'jonathan-miller'}}, {'is_past': True, 'title': 'President & CEO', 'person': {'first_name': 'Erik', 'last_name': 'Blachford', 'permalink': 'erik-blachford'}}, {'is_past': True, 'title': 'VP, Engineering, Group Manager, APAC, Development Manager, Software Design Engineer - Lead', 'person': {'first_name': 'Sunil', 'last_name': 'Shah', 'permalink': 'sunil-shah'}}, {'is_past': True, 'title': 'Vice President Europe', 'person': {'first_name': 'Marc', 'last_name': 'Ruff', 'permalink': 'marc-ruff'}}, {'is_past': True, 'title': 'EVP, Human Resources', 'person': {'first_name': 'Jeff', 'last_name': 'Diana', 'permalink': 'jeff-diana'}}, {'is_past': True, 'title': 'Vice President, Associate General Counsel', 'person': {'first_name': 'Seth', 'last_name': 'Kalvert', 'permalink': 'seth-kalvert'}}, {'is_past': True, 'title': 'Vice President', 'person': {'first_name': 'Werner', 'last_name': 'Koepf', 'permalink': 'werner-koepf'}}, {'is_past': True, 'title': 'Senior Vice President', 'person': {'first_name': 'Alex', 'last_name': 'Zivoder', 'permalink': 'alex-zivoder'}}, {'is_past': True, 'title': 'Senior Vice President, General Counsel and Secretary', 'person': {'first_name': 'Mark', 'last_name': 'Britton', 'permalink': 'mark-britton'}}, {'is_past': True, 'title': 'Exec VP', 'person': {'first_name': 'Greg', 'last_name': 'Slyngstad', 'permalink': 'greg-slyngstad'}}, {'is_past': True, 'title': 'Vice President', 'person': {'first_name': 'Frederic', 'last_name': 'Lalonde', 'permalink': 'frederic-lalonde'}}, {'is_past': True, 'title': 'Program Manager', 'person': {'first_name': 'Eric', 'last_name': 'Kennedy', 'permalink': 'eric-kennedy'}}, {'is_past': True, 'title': 'Manager', 'person': {'first_name': 'John', 'last_name': 'Pollard', 'permalink': 'john-pollard'}}, {'is_past': True, 'title': 'VP Engineering', 'person': {'first_name': 'Troy', 'last_name': 'Kaser', 'permalink': 'troy-kaser'}}, {'is_past': True, 'title': 'Director, Business Development', 'person': {'first_name': 'Young', 'last_name': 'Lee', 'permalink': 'young-lee'}}, {'is_past': True, 'title': 'President, Expedia Worldwide', 'person': {'first_name': 'Scott', 'last_name': 'Durchslag', 'permalink': 'scott-durchslag'}}, {'is_past': True, 'title': 'Director, Business Development', 'person': {'first_name': 'Anand', 'last_name': 'Rajaratnam', 'permalink': 'anand-rajaratnam'}}, {'is_past': True, 'title': 'Manager, Program Management', 'person': {'first_name': 'Kadir', 'last_name': 'Rathnavelu', 'permalink': 'kadir-rathnavelu'}}, {'is_past': True, 'title': 'Senior Project Manager', 'person': {'first_name': 'Jeremy', 'last_name': 'Reitman', 'permalink': 'jeremy-reitman-2'}}, {'is_past': True, 'title': 'Associate General Counsel', 'person': {'first_name': 'Alan', 'last_name': 'Koslow', 'permalink': 'alan-koslow'}}, {'is_past': True, 'title': 'Director of Operations', 'person': {'first_name': 'Amit', 'last_name': 'Taneja', 'permalink': 'amit-taneja'}}, {'is_past': True, 'title': 'Board Member', 'person': {'first_name': 'Dan', 'last_name': 'Marriott', 'permalink': 'dan-marriott'}}, {'is_past': True, 'title': 'IT eCommerce Architect', 'person': {'first_name': 'Mathieu', 'last_name': 'Patenaude', 'permalink': 'mathieu-patenaude'}}, {'is_past': True, 'title': 'President, Europe, Middle East and Africa', 'person': {'first_name': 'Dermot', 'last_name': 'Halpin', 'permalink': 'dermot-halpin'}}, {'is_past': True, 'title': 'Sr. Director, Worldwide Database Marketing,,, Director of Email Marketing.', 'person': {'first_name': 'Annette', 'last_name': 'Promes', 'permalink': 'annette-promes'}}, {'is_past': True, 'title': 'President', 'person': {'first_name': 'Dhiren', 'last_name': 'Fonseca', 'permalink': 'dhiren-fonseca'}}, {'is_past': True, 'title': 'Development Manager', 'person': {'first_name': 'Shariq', 'last_name': 'Minhas', 'permalink': 'shariq-minhas'}}, {'is_past': True, 'title': 'Director of Market Management', 'person': {'first_name': 'Bob', 'last_name': 'Rogers', 'permalink': 'bob-rogers'}}, {'is_past': True, 'title': 'Director, Quality Management', 'person': {'first_name': 'Jason', 'last_name': 'Carlson', 'permalink': 'jason-carlson'}}, {'is_past': True, 'title': 'Board Member', 'person': {'first_name': 'Gerald', 'last_name': 'Grinstein', 'permalink': 'gerald-grinstein'}}, {'is_past': True, 'title': 'Senior Leadership Roles', 'person': {'first_name': 'Mark', 'last_name': 'Gunning', 'permalink': 'mark-gunning'}}, {'is_past': True, 'title': 'Technical Product Manager, Program Manager, Test Manager', 'person': {'first_name': 'Ali', 'last_name': 'Alami', 'permalink': 'ali-alami'}}, {'is_past': True, 'title': 'Editor at Large etc', 'person': {'first_name': 'Richard', 'last_name': 'Bangs', 'permalink': 'richard-bangs'}}, {'is_past': True, 'title': 'Director of eCommerce & Website Operations', 'person': {'first_name': 'David', 'last_name': 'Norris', 'permalink': 'david-norris-3'}}, {'is_past': True, 'title': 'Lead Program Manager', 'person': {'first_name': 'Kyusik', 'last_name': 'Chung', 'permalink': 'kyusik-chung'}}, {'is_past': True, 'title': 'Director', 'person': {'first_name': 'William', 'last_name': 'R. Fitzgerald', 'permalink': 'william-r-fitzgerald'}}, {'is_past': True, 'title': 'Product Manager', 'person': {'first_name': 'Emanuel', 'last_name': 'Bettelheim', 'permalink': 'emanuel-bettelheim'}}, {'is_past': True, 'title': 'President, Corporate Travel', 'person': {'first_name': 'Matt', 'last_name': 'Hulett', 'permalink': 'matt-hulett'}}, {'is_past': True, 'title': 'Program Manager', 'person': {'first_name': 'Honor', 'last_name': 'Gunday', 'permalink': 'honor-gunday'}}, {'is_past': True, 'title': 'Software Engineer in Test', 'person': {'first_name': 'Can', 'last_name': 'Comertoglu', 'permalink': 'can-comertoglu'}}, {'is_past': True, 'title': 'Director, North American Business Development', 'person': {'first_name': 'Ronnie', 'last_name': 'Gurion', 'permalink': 'ronnie-gurion'}}, {'is_past': True, 'title': 'Strategic Partnerships & Business Development Manager', 'person': {'first_name': 'Dhruv', 'last_name': 'Mehrotra', 'permalink': 'dhruv-mehrotra'}}, {'is_past': True, 'title': 'Asia Pacific SEO Manager', 'person': {'first_name': 'Jeremy', 'last_name': 'Reitman', 'permalink': 'jeremy-reitman-2'}}, {'is_past': True, 'title': 'Merchant Product Manager', 'person': {'first_name': 'Pablo', 'last_name': 'Szefner', 'permalink': 'pablo-szefner'}}, {'is_past': True, 'title': 'Creative Director', 'person': {'first_name': 'Alex', 'last_name': 'Berg', 'permalink': 'alex-berg'}}, {'is_past': True, 'title': 'Program Manager', 'person': {'first_name': 'Divya', 'last_name': 'Bhat', 'permalink': 'divya-bhat'}}, {'is_past': True, 'title': 'Director, Quality Assurance - Hotel Supply Group', 'person': {'first_name': 'Andree', 'last_name': 'Coude', 'permalink': 'andre-coud'}}, {'is_past': True, 'title': 'Product Manager', 'person': {'first_name': 'Joost', 'last_name': 'Ouwerkerk', 'permalink': 'joost-ouwerkerk'}}, {'is_past': True, 'title': 'Senior Vice President, General Counsel & Corporate Secretary', 'person': {'first_name': 'Keenan', 'last_name': 'Conder', 'permalink': 'keenan-conder'}}, {'is_past': True, 'title': 'SVP Finance', 'person': {'first_name': 'Brian', 'last_name': 'Regan', 'permalink': 'brian-regan'}}, {'is_past': True, 'title': 'President, Expedia Affiliate Network', 'person': {'first_name': 'Henrik', 'last_name': 'Kjellberg', 'permalink': 'henrik-kjellberg'}}, {'is_past': True, 'title': 'Senior Program Manager', 'person': {'first_name': 'Jason', 'last_name': 'Grimes', 'permalink': 'jason-grimes-2'}}, {'is_past': True, 'title': 'Content Coordinator', 'person': {'first_name': 'Kirsty', 'last_name': 'Edwards', 'permalink': 'kirsty-edwards'}}, {'is_past': True, 'title': 'Regional Director', 'person': {'first_name': 'Utpal', 'last_name': 'Kaul', 'permalink': 'utpal-kaul'}}, {'is_past': True, 'title': 'SEO Manager', 'person': {'first_name': 'Guido', 'last_name': 'Ampollini', 'permalink': 'guido-ampollini'}}, {'is_past': True, 'title': 'Senior Director, Expedia Affiliate Network, EMEA', 'person': {'first_name': 'Cameron', 'last_name': 'Jones', 'permalink': 'cameron-jones'}}, {'is_past': True, 'title': 'Program Manager/Relationship Manager', 'person': {'first_name': 'Mike', 'last_name': 'Ma', 'permalink': 'mike-ma'}}, {'is_past': True, 'title': 'Office of the Chairman', 'person': {'first_name': 'Burke', 'last_name': 'Norton', 'permalink': 'burke-norton'}}, {'is_past': True, 'title': '', 'person': {'first_name': 'Jeffrey', 'last_name': 'Ng', 'permalink': 'jeffrey-ng'}}, {'is_past': True, 'title': '', 'person': {'first_name': 'Jamie', 'last_name': 'McDonald', 'permalink': 'jamie-mcdonald'}}, {'is_past': True, 'title': '', 'person': {'first_name': 'Olen', 'last_name': 'Ronning', 'permalink': 'olen-ronning'}}], 'competitions': [{'competitor': {'name': 'Farecast', 'permalink': 'farecast'}}, {'competitor': {'name': 'Travelocity', 'permalink': 'travelocity'}}, {'competitor': {'name': 'Priceline', 'permalink': 'priceline'}}, {'competitor': {'name': 'Tripware', 'permalink': 'tripware'}}, {'competitor': {'name': 'upiq', 'permalink': 'upiq'}}, {'competitor': {'name': 'Webjet.com.au', 'permalink': 'webjet-com-au'}}], 'providerships': [{'title': '', 'is_past': False, 'provider': {'name': 'btrax', 'permalink': 'btrax'}}], 'total_money_raised': '$0', 'funding_rounds': [], 'investments': [{'funding_round': {'round_code': 'c', 'source_url': 'http://techcrunch.com/2013/01/03/room-77-funding/', 'source_description': 'Room 77 Closes $30.3 Million Series C From Expedia And Others To Take Its Hotel Search Engine Global', 'raised_amount': 30300000, 'raised_currency_code': 'USD', 'funded_year': 2013, 'funded_month': 1, 'funded_day': 3, 'company': {'name': 'Room 77', 'permalink': 'room77'}}}], 'acquisition': {'price_amount': None, 'price_currency_code': 'USD', 'term_code': None, 'source_url': 'http://findarticles.com/p/articles/mi_m0EIN/is_2003_August_8/ai_106445213/', 'source_description': 'IAC Completes Acquisition of Expedia, Inc', 'acquired_year': 2003, 'acquired_month': 8, 'acquired_day': 8, 'acquiring_company': {'name': 'IAC', 'permalink': 'iac'}}, 'acquisitions': [{'price_amount': None, 'price_currency_code': 'USD', 'term_code': 'cash', 'source_url': 'http://biz.yahoo.com/prnews/080701/netu050a.html', 'source_description': 'TripAdvisor Acquires VirtualTourist and OneTime', 'acquired_year': 2008, 'acquired_month': 7, 'acquired_day': 1, 'company': {'name': 'VirtualTourist', 'permalink': 'virtualtourist'}}, {'price_amount': None, 'price_currency_code': 'USD', 'term_code': 'cash', 'source_url': 'http://biz.yahoo.com/prnews/080701/netu050a.html', 'source_description': 'TripAdvisor Acquires VirtualTourist and OneTime', 'acquired_year': 2008, 'acquired_month': 7, 'acquired_day': 1, 'company': {'name': 'OneTime', 'permalink': 'onetime'}}, {'price_amount': None, 'price_currency_code': 'USD', 'term_code': None, 'source_url': 'http://www.carrentals.com/media_room/press_release/03142008.jsp', 'source_description': 'Expedia, Inc. Expands Fleet with Acquisition of CarRentals.com', 'acquired_year': 2011, 'acquired_month': 4, 'acquired_day': 16, 'company': {'name': 'CarRentals.com', 'permalink': 'carrentals-com'}}, {'price_amount': None, 'price_currency_code': 'USD', 'term_code': None, 'source_url': '', 'source_description': 'Lehman Bros. ', 'acquired_year': 2008, 'acquired_month': 7, 'acquired_day': 15, 'company': {'name': 'Venere', 'permalink': 'venere'}}, {'price_amount': None, 'price_currency_code': 'USD', 'term_code': None, 'source_url': '', 'source_description': 'Lehman Bros. ', 'acquired_year': 2008, 'acquired_month': 6, 'acquired_day': 30, 'company': {'name': 'SYNERGI Glbl Travel', 'permalink': 'synergi-glbl-travel'}}, {'price_amount': None, 'price_currency_code': 'USD', 'term_code': None, 'source_url': 'http://techcrunch.com/2010/11/18/expedia-acquires-flighttrack-app-developer-mobiata/', 'source_description': 'Expedia Acquires FlightTrack App Developer Mobiata', 'acquired_year': 2010, 'acquired_month': 11, 'acquired_day': 18, 'company': {'name': 'Mobiata', 'permalink': 'mobiata'}}, {'price_amount': None, 'price_currency_code': 'USD', 'term_code': None, 'source_url': 'http://en.wikipedia.org/wiki/TripAdvisor', 'source_description': '', 'acquired_year': 2005, 'acquired_month': 8, 'acquired_day': None, 'company': {'name': 'TripAdvisor', 'permalink': 'tripadvisor'}}], 'offices': [{'description': 'Corporate Office', 'address1': '3150 139th Avenue SE', 'address2': '', 'zip_code': '98005', 'city': 'Bellevue', 'state_code': 'WA', 'country_code': 'USA', 'latitude': 47.58181, 'longitude': -122.154837}], 'milestones': [{'id': 11691, 'description': 'US AIRWAYS AND EXPEDIA SIGN NEW MULTI-YEAR PARTNERSHIP AGREEMENT', 'stoned_year': 2011, 'stoned_month': 1, 'stoned_day': 21, 'source_url': 'http://www.freshnews.com/news/440714/us-airways-and-expedia-sign-new-multi-year-partnership-agreement', 'source_text': '', 'source_description': 'US AIRWAYS AND EXPEDIA SIGN NEW MULTI-YEAR PARTNERSHIP AGREEMENT', 'stoneable_type': 'Company', 'stoned_value': None, 'stoned_value_type': None, 'stoned_acquirer': None, 'stoneable': {'name': 'Expedia', 'permalink': 'expedia'}}, {'id': 11993, 'description': \"ONLINE TRAVEL LEADER EXPEDIA SIGNS STRATEGIC PARTNERSHIP AGREEMENT WITH CANADA'S LEADING LOW-COST CARRIER WESTJET\", 'stoned_year': 2011, 'stoned_month': 1, 'stoned_day': 31, 'source_url': 'http://www.travelnews.com/news/444921/online-travel-leader-expedia-signs-strategic-partnership-agreement-with-canada-s-leadin', 'source_text': '', 'source_description': \"ONLINE TRAVEL LEADER EXPEDIA SIGNS STRATEGIC PARTNERSHIP AGREEMENT WITH CANADA'S LEADING LOW-COST CARRIER WESTJET\", 'stoneable_type': 'Company', 'stoned_value': None, 'stoned_value_type': None, 'stoned_acquirer': None, 'stoneable': {'name': 'Expedia', 'permalink': 'expedia'}}], 'ipo': {'valuation_amount': None, 'valuation_currency_code': 'USD', 'pub_year': 2005, 'pub_month': 7, 'pub_day': 29, 'stock_symbol': 'NASDAQ:EXPE'}, 'video_embeds': [], 'screenshots': [{'available_sizes': [[[150, 93], 'assets/images/resized/0004/4210/44210v1-max-150x150.png'], [[250, 156], 'assets/images/resized/0004/4210/44210v1-max-250x250.png'], [[450, 281], 'assets/images/resized/0004/4210/44210v1-max-450x450.png']], 'attribution': None}], 'external_links': [{'external_url': 'http://www.urlaubs-rabatte.com/expedia-gutscheine/', 'title': 'Expedia Informationen & Gutscheine'}], 'partners': []}\n"
     ]
    }
   ],
   "source": [
    "# Your Code\n",
    "cursor = db.companies.find({\"$and\": [{\"category_code\":{\"$eq\":\"web\"}},{\"number_of_employees\":{\"$gt\":4000}}]}).sort([(\"number_of_employees\",ASCENDING)])\n",
    "for company in cursor:\n",
    "    print(company)\n",
    "    break"
   ]
  },
  {
   "cell_type": "markdown",
   "metadata": {},
   "source": [
    "### 17. All the companies whose acquisition amount is more than 10.000.000, and currency is 'EUR'."
   ]
  },
  {
   "cell_type": "code",
   "execution_count": 49,
   "metadata": {},
   "outputs": [
    {
     "name": "stdout",
     "output_type": "stream",
     "text": [
      "{'_id': ObjectId('52cdef7c4bab8bd675297f02'), 'name': 'ZYB', 'permalink': 'zyb', 'crunchbase_url': 'http://www.crunchbase.com/company/zyb', 'homepage_url': 'http://zyb.com', 'blog_url': 'http://blog.zyb.com/', 'blog_feed_url': 'http://blog.zyb.com/index.php/feed/', 'twitter_username': None, 'category_code': 'mobile', 'number_of_employees': 25, 'founded_year': None, 'founded_month': None, 'founded_day': None, 'deadpooled_year': None, 'deadpooled_month': None, 'deadpooled_day': None, 'deadpooled_url': None, 'tag_list': 'mobile, social-networking, socialnetwork', 'alias_list': '', 'email_address': 'contact@zyb.com', 'phone_number': '', 'description': 'Mobile Social Networking', 'created_at': 'Wed Aug 22 05:14:51 UTC 2007', 'updated_at': 'Tue Jul 02 03:00:50 UTC 2013', 'overview': '<p>ZYB is a mobile phone utility and social networking site. ZYB started in 2005 as a european service to provide easy back-up services for mobile phones. Using this information, they have built a social networking platform based upon this data set. Given the importance of mobile phones in Europe, ZYB has built in Twitter like location based functions into the service. </p>\\n\\n<p>For more information please see this <a href=\"http://mobilecrunch.com/2006/06/06/mobilecrunch-exclusive-first-look-at-zyb-the-free-data-backup-and-contact-and-calendar-synchronizer-for-your-mobile/\" title=\"MobileCrunch\" rel=\"nofollow\">MobileCrunch</a> article from when ZYB launched.</p>', 'image': {'available_sizes': [[[32, 32], 'assets/images/resized/0000/4450/4450v3-max-150x150.png'], [[32, 32], 'assets/images/resized/0000/4450/4450v3-max-250x250.png'], [[32, 32], 'assets/images/resized/0000/4450/4450v3-max-450x450.png']], 'attribution': None}, 'products': [{'name': 'ZYB | Phone', 'permalink': 'zyb-phone'}, {'name': 'ZYB | Life', 'permalink': 'zyb-life'}], 'relationships': [{'is_past': None, 'title': 'CEO and Co-Founder', 'person': {'first_name': 'Tommy', 'last_name': 'Ahlers', 'permalink': 'tommy-ahlers'}}, {'is_past': None, 'title': 'CTO', 'person': {'first_name': 'Patrick', 'last_name': 'Verdon', 'permalink': 'patrick-verdon'}}, {'is_past': False, 'title': '', 'person': {'first_name': 'Claus', 'last_name': 'Dahl', 'permalink': 'claus-dahl'}}, {'is_past': False, 'title': 'Product Director', 'person': {'first_name': 'Runar', 'last_name': 'Reistrup', 'permalink': 'runar-reistrup'}}, {'is_past': False, 'title': '', 'person': {'first_name': 'Morten', 'last_name': 'Just', 'permalink': 'morten-just'}}], 'competitions': [{'competitor': {'name': 'Twitter', 'permalink': 'twitter'}}, {'competitor': {'name': 'fring Ltd', 'permalink': 'fring'}}, {'competitor': {'name': 'Loopt', 'permalink': 'loopt'}}, {'competitor': {'name': 'NewACT', 'permalink': 'newact'}}, {'competitor': {'name': 'imity', 'permalink': 'imity'}}, {'competitor': {'name': 'Soocial', 'permalink': 'soocial'}}, {'competitor': {'name': 'fruux', 'permalink': 'fruux'}}, {'competitor': {'name': 'Contails', 'permalink': 'contails'}}, {'competitor': {'name': 'Memotoo', 'permalink': 'memotoo'}}], 'providerships': [{'title': '', 'is_past': True, 'provider': {'name': 'Six Degrees', 'permalink': 'six-degrees'}}], 'total_money_raised': '€3M', 'funding_rounds': [{'id': 389, 'round_code': 'a', 'source_url': '', 'source_description': '', 'raised_amount': 3000000, 'raised_currency_code': 'EUR', 'funded_year': 2006, 'funded_month': 9, 'funded_day': 1, 'investments': [{'company': None, 'financial_org': {'name': 'Nordic Venture Partners', 'permalink': 'nordic-venture-partners'}, 'person': None}]}, {'id': 2124, 'round_code': 'angel', 'source_url': '', 'source_description': '', 'raised_amount': None, 'raised_currency_code': None, 'funded_year': 2005, 'funded_month': 1, 'funded_day': 1, 'investments': [{'company': None, 'financial_org': None, 'person': {'first_name': 'Morten', 'last_name': 'Lund', 'permalink': 'morten-lund'}}]}], 'investments': [], 'acquisition': {'price_amount': 31500000, 'price_currency_code': 'EUR', 'term_code': 'cash', 'source_url': 'http://www.techcrunch.com/2008/05/16/danish-mobile-social-network-zyb-acquired-by-vodafone-for-e315-million/', 'source_description': 'Danish Network ZYB Acquired By Vodafone For â‚¬31.5 million', 'acquired_year': 2008, 'acquired_month': 5, 'acquired_day': 16, 'acquiring_company': {'name': 'Vodafone', 'permalink': 'vodafone'}}, 'acquisitions': [{'price_amount': None, 'price_currency_code': 'USD', 'term_code': None, 'source_url': 'http://www.techcrunch.com/2008/04/22/confirmed-zyb-bought-imity/', 'source_description': 'Confirmed: Zyb Bought Imity', 'acquired_year': 2008, 'acquired_month': 4, 'acquired_day': 22, 'company': {'name': 'imity', 'permalink': 'imity'}}], 'offices': [{'description': None, 'address1': 'Esromgade 15, 1-1', 'address2': None, 'zip_code': '2200', 'city': 'Copenhagen', 'state_code': None, 'country_code': 'DNK', 'latitude': 55.699123, 'longitude': 12.541484}], 'milestones': [], 'ipo': None, 'video_embeds': [], 'screenshots': [], 'external_links': [], 'partners': []}\n"
     ]
    }
   ],
   "source": [
    "# Your Code\n",
    "cursor = db.companies.find({\"$and\": [{\"acquisition.price_amount\":{\"$gt\":10000000}},{\"acquisition.price_currency_code\":{\"$eq\":\"EUR\"}}]})\n",
    "for company in cursor:\n",
    "    print(company)\n",
    "    break"
   ]
  },
  {
   "cell_type": "markdown",
   "metadata": {},
   "source": [
    "### 18. All the companies that have been acquired on the first trimester of the year. Limit the search to 10 companies, and retrieve only their `name` and `acquisition` fields."
   ]
  },
  {
   "cell_type": "code",
   "execution_count": null,
   "metadata": {},
   "outputs": [],
   "source": [
    "# Your Code"
   ]
  },
  {
   "cell_type": "markdown",
   "metadata": {},
   "source": [
    "# Bonus\n",
    "### 19. All the companies that have been founded between 2000 and 2010, but have not been acquired before 2011."
   ]
  },
  {
   "cell_type": "code",
   "execution_count": null,
   "metadata": {},
   "outputs": [],
   "source": [
    "# Your Code"
   ]
  },
  {
   "cell_type": "markdown",
   "metadata": {},
   "source": [
    "### 20. All the companies that have been 'deadpooled' after the third year."
   ]
  },
  {
   "cell_type": "code",
   "execution_count": null,
   "metadata": {},
   "outputs": [],
   "source": [
    "# Your Code"
   ]
  }
 ],
 "metadata": {
  "kernelspec": {
   "display_name": "Python 3",
   "language": "python",
   "name": "python3"
  },
  "language_info": {
   "codemirror_mode": {
    "name": "ipython",
    "version": 3
   },
   "file_extension": ".py",
   "mimetype": "text/x-python",
   "name": "python",
   "nbconvert_exporter": "python",
   "pygments_lexer": "ipython3",
   "version": "3.7.5"
  }
 },
 "nbformat": 4,
 "nbformat_minor": 4
}
