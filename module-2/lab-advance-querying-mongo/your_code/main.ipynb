{
 "cells": [
  {
   "cell_type": "markdown",
   "metadata": {},
   "source": [
    "# Advanced Querying Mongo"
   ]
  },
  {
   "cell_type": "markdown",
   "metadata": {},
   "source": [
    "Importing libraries and setting up connection"
   ]
  },
  {
   "cell_type": "code",
   "execution_count": 12,
   "metadata": {},
   "outputs": [],
   "source": [
    "from pymongo import MongoClient\n",
    "from pymongo import ASCENDING, DESCENDING"
   ]
  },
  {
   "cell_type": "code",
   "execution_count": 2,
   "metadata": {},
   "outputs": [],
   "source": [
    "client = MongoClient(\"mongodb://localhost/companies\")\n",
    "db = client.get_database()"
   ]
  },
  {
   "cell_type": "markdown",
   "metadata": {},
   "source": [
    "### 1. All the companies whose name match 'Babelgum'. Retrieve only their `name` field."
   ]
  },
  {
   "cell_type": "code",
   "execution_count": 7,
   "metadata": {},
   "outputs": [
    {
     "name": "stdout",
     "output_type": "stream",
     "text": [
      "{'name': 'Babelgum'}\n"
     ]
    }
   ],
   "source": [
    "# Your Code\n",
    "cursor = db.companies.find({\"name\":\"Babelgum\"},{\"name\":1,\"_id\":0})\n",
    "for name in cursor:\n",
    "    print(name)\n",
    "    break  # para mostrar solo el primero"
   ]
  },
  {
   "cell_type": "markdown",
   "metadata": {},
   "source": [
    "### 2. All the companies that have more than 5000 employees. Limit the search to 20 companies and sort them by **number of employees**."
   ]
  },
  {
   "cell_type": "code",
   "execution_count": 13,
   "metadata": {},
   "outputs": [
    {
     "name": "stdout",
     "output_type": "stream",
     "text": [
      "{'_id': ObjectId('52cdef7c4bab8bd675297e49'), 'name': 'Nintendo', 'permalink': 'nintendo', 'crunchbase_url': 'http://www.crunchbase.com/company/nintendo', 'homepage_url': 'http://nintendo.com', 'blog_url': '', 'blog_feed_url': '', 'twitter_username': 'NintendoAmerica', 'category_code': 'games_video', 'number_of_employees': 5080, 'founded_year': 1889, 'founded_month': 9, 'founded_day': 23, 'deadpooled_year': None, 'deadpooled_month': None, 'deadpooled_day': None, 'deadpooled_url': None, 'tag_list': 'games, console', 'alias_list': '', 'email_address': 'noalegal@noa.nintendo.com', 'phone_number': '1-800-255-3700 ', 'description': '', 'created_at': 'Sat Dec 22 13:27:00 UTC 2007', 'updated_at': 'Thu Sep 05 12:41:16 UTC 2013', 'overview': '<p>Nintendo, a technology company widely known for its line of game consoles, was actually founded in 1889 by Fusajiro Yamauchi. It began as a card game company and evolved into one of the largest Japanese companies with a Market Capitalization of over $85 billion.</p>', 'image': {'available_sizes': [[[150, 41], 'assets/images/resized/0000/2869/2869v3-max-150x150.jpg'], [[250, 69], 'assets/images/resized/0000/2869/2869v3-max-250x250.jpg'], [[450, 125], 'assets/images/resized/0000/2869/2869v3-max-450x450.jpg']], 'attribution': None}, 'products': [{'name': 'Wii', 'permalink': 'wii'}], 'relationships': [{'is_past': False, 'title': 'President', 'person': {'first_name': 'Satoru', 'last_name': 'Iwata', 'permalink': 'satoru-iwata'}}, {'is_past': True, 'title': 'Executive Vice President', 'person': {'first_name': 'John', 'last_name': 'H. Bauer', 'permalink': 'john-h-bauer'}}, {'is_past': True, 'title': '', 'person': {'first_name': 'Mark', 'last_name': 'Proffit', 'permalink': 'mark-frazier'}}, {'is_past': True, 'title': 'European Brand Manager', 'person': {'first_name': 'Cornelius', 'last_name': 'Rost', 'permalink': 'cornelius-rost'}}, {'is_past': True, 'title': '', 'person': {'first_name': 'Roger', 'last_name': 'Pavane', 'permalink': 'roger-pavane'}}, {'is_past': True, 'title': 'Training Coordinator / Lead / Developer', 'person': {'first_name': 'Scott', 'last_name': 'Sullivan', 'permalink': 'scott-sullivan'}}, {'is_past': True, 'title': 'Lead Tester', 'person': {'first_name': 'Jesse', 'last_name': 'Hayes', 'permalink': 'jesse-hayes'}}, {'is_past': True, 'title': 'Consultant', 'person': {'first_name': 'John', 'last_name': 'H. Bauer', 'permalink': 'john-h-bauer'}}], 'competitions': [], 'providerships': [], 'total_money_raised': '$0', 'funding_rounds': [], 'investments': [], 'acquisition': None, 'acquisitions': [], 'offices': [{'description': None, 'address1': None, 'address2': None, 'zip_code': None, 'city': None, 'state_code': None, 'country_code': 'JPN', 'latitude': 36.204824, 'longitude': 138.252924}], 'milestones': [{'id': 17591, 'description': '3D For Everyone! Get The Nintendo 3DS For $150', 'stoned_year': 2011, 'stoned_month': 8, 'stoned_day': 29, 'source_url': 'http://techcrunch.com/2011/08/29/get-the-nintendo-3ds-150/', 'source_text': '', 'source_description': '3D For Everyone! Get The Nintendo 3DS For $150', 'stoneable_type': 'Company', 'stoned_value': None, 'stoned_value_type': None, 'stoned_acquirer': None, 'stoneable': {'name': 'Nintendo', 'permalink': 'nintendo'}}], 'ipo': None, 'video_embeds': [], 'screenshots': [], 'external_links': [], 'partners': []}\n"
     ]
    }
   ],
   "source": [
    "# Your Code\n",
    "cursor = db.companies.find({\"number_of_employees\": {\"$gt\":5000}}).sort([(\"number_of_employees\", ASCENDING)]).limit(20)\n",
    "for company in cursor:\n",
    "    print(company)\n",
    "    break # para mostrar solo el primero"
   ]
  },
  {
   "cell_type": "markdown",
   "metadata": {},
   "source": [
    "### 3. All the companies founded between 2000 and 2005, both years included. Retrieve only the `name` and `founded_year` fields."
   ]
  },
  {
   "cell_type": "code",
   "execution_count": 18,
   "metadata": {},
   "outputs": [
    {
     "name": "stdout",
     "output_type": "stream",
     "text": [
      "{'name': 'AllofMP3', 'founded_year': 2000}\n",
      "{'name': 'TechnologyGuide', 'founded_year': 2001}\n",
      "{'name': 'StumbleUpon', 'founded_year': 2002}\n",
      "{'name': 'Gizmoz', 'founded_year': 2003}\n",
      "{'name': 'Digg', 'founded_year': 2004}\n",
      "{'name': 'Wetpaint', 'founded_year': 2005}\n"
     ]
    }
   ],
   "source": [
    "# Your Code\n",
    "def companiesYearF(year):\n",
    "    query = db.companies.find({\"founded_year\": year},{\"name\":1,\"founded_year\":1,\"_id\":0})\n",
    "    return query\n",
    "    \n",
    "for i in range(2000,2006):\n",
    "    cursor = companiesYearF(i)\n",
    "    for company in cursor:\n",
    "        print(company)\n",
    "        break\n",
    "# Solo un break para que imprima el primero de cada año"
   ]
  },
  {
   "cell_type": "markdown",
   "metadata": {},
   "source": [
    "### 4. All the companies that had a Valuation Amount of more than 100.000.000 and have been founded before 2010. Retrieve only the `name` and `ipo` fields."
   ]
  },
  {
   "cell_type": "code",
   "execution_count": null,
   "metadata": {},
   "outputs": [],
   "source": [
    "# Your Code\n",
    "cursor = db.companies.find({\"number_of_employees\": {\"$gt\":5000}}).sort([(\"number_of_employees\", ASCENDING)]).limit(20)"
   ]
  },
  {
   "cell_type": "markdown",
   "metadata": {},
   "source": [
    "### 5. All the companies that have less than 1000 employees and have been founded before 2005. Order them by the number of employees and limit the search to 10 companies."
   ]
  },
  {
   "cell_type": "code",
   "execution_count": 20,
   "metadata": {},
   "outputs": [
    {
     "name": "stdout",
     "output_type": "stream",
     "text": [
      "{'_id': ObjectId('52cdef7c4bab8bd675297d93'), 'name': 'Fox Interactive Media', 'permalink': 'fox-interactive-media', 'crunchbase_url': 'http://www.crunchbase.com/company/fox-interactive-media', 'homepage_url': 'http://www.newscorp.com', 'blog_url': '', 'blog_feed_url': '', 'twitter_username': 'twitterapi', 'category_code': 'web', 'number_of_employees': 0, 'founded_year': 1979, 'founded_month': 6, 'founded_day': 1, 'deadpooled_year': None, 'deadpooled_month': None, 'deadpooled_day': None, 'deadpooled_url': '', 'tag_list': '', 'alias_list': None, 'email_address': '', 'phone_number': '', 'description': '', 'created_at': 'Thu May 31 21:46:57 UTC 2007', 'updated_at': 'Mon Aug 19 17:13:27 UTC 2013', 'overview': '<p>Fox Interactive Media (FIM) oversees <a href=\"http://www.crunchbase.com/company/newscorporation\" title=\"News Corporation\">News Corporation</a>&#8217;s Internet business operations.</p>', 'image': {'available_sizes': [[[150, 71], 'assets/images/resized/0001/0824/10824v1-max-150x150.png'], [[232, 111], 'assets/images/resized/0001/0824/10824v1-max-250x250.png'], [[232, 111], 'assets/images/resized/0001/0824/10824v1-max-450x450.png']], 'attribution': None}, 'products': [], 'relationships': [{'is_past': False, 'title': '', 'person': {'first_name': 'Don', 'last_name': 'Synstelien', 'permalink': 'don-synstelien-2'}}, {'is_past': False, 'title': 'Supervising Sound Editor', 'person': {'first_name': 'Jake', 'last_name': 'Allston', 'permalink': 'jake-allston'}}, {'is_past': False, 'title': 'President', 'person': {'first_name': 'Peter', 'last_name': 'Levinsohn', 'permalink': 'peter-levinsohn'}}, {'is_past': True, 'title': 'Chairman / CEO', 'person': {'first_name': 'Barry', 'last_name': 'Diller', 'permalink': 'barry-diller'}}, {'is_past': True, 'title': 'CTO', 'person': {'first_name': 'Ken', 'last_name': 'Keller', 'permalink': 'ken-keller'}}, {'is_past': True, 'title': 'CIO and Senior Vice President', 'person': {'first_name': 'Ian', 'last_name': 'Hurlock-Jones', 'permalink': 'ian-hurlock-jones'}}, {'is_past': True, 'title': 'COO, International', 'person': {'first_name': 'Antoine', 'last_name': 'Theysset', 'permalink': 'antoine-theysset'}}, {'is_past': True, 'title': 'Chief Strategy Officer', 'person': {'first_name': 'James', 'last_name': 'Heckman', 'permalink': 'jim-heckman'}}, {'is_past': True, 'title': 'EVP, Chief Revenue Officer,', 'person': {'first_name': 'Michael', 'last_name': 'Barrett', 'permalink': 'michael-barrett'}}, {'is_past': True, 'title': 'EVP & GM, IGN', 'person': {'first_name': 'Dale', 'last_name': 'Strang', 'permalink': 'dale-strang'}}, {'is_past': True, 'title': 'Vice President of Advertising Sales', 'person': {'first_name': 'Kym', 'last_name': 'Nelson', 'permalink': 'kym-nelson'}}, {'is_past': True, 'title': 'Vice President, Strategy and Corporate Development', 'person': {'first_name': 'Walter', 'last_name': 'Delph', 'permalink': 'walter-delph'}}, {'is_past': True, 'title': 'VP, Ad Solutions', 'person': {'first_name': 'Chris', 'last_name': 'George', 'permalink': 'chris-george'}}, {'is_past': True, 'title': 'SVP Finance', 'person': {'first_name': 'Bruce', 'last_name': 'Wiseman', 'permalink': 'bruce-wiseman'}}, {'is_past': True, 'title': 'Vice President, Product for Myspace Music', 'person': {'first_name': 'Roberto', 'last_name': 'Fisher', 'permalink': 'roberto-fisher'}}, {'is_past': True, 'title': 'Vice President of Applications', 'person': {'first_name': 'Chris', 'last_name': 'M. George', 'permalink': 'chris-m-george'}}, {'is_past': True, 'title': 'Vice President of Sales, MySpace', 'person': {'first_name': 'Tony', 'last_name': 'Siconolfi', 'permalink': 'tony-siconolfi'}}, {'is_past': True, 'title': 'Vice President, Marketing', 'person': {'first_name': 'Alice', 'last_name': 'Lankester', 'permalink': 'alice-lankester'}}, {'is_past': True, 'title': 'VP/GM Newroo', 'person': {'first_name': 'Brian', 'last_name': 'Norgard', 'permalink': 'brian-norgard'}}, {'is_past': True, 'title': 'SVP & GM, Mobile', 'person': {'first_name': 'John', 'last_name': 'Smelzer', 'permalink': 'john-smelzer'}}, {'is_past': True, 'title': 'Vice President, Editorial', 'person': {'first_name': 'Steven', 'last_name': 'Horn', 'permalink': 'steven-horn'}}, {'is_past': True, 'title': 'VP, Technology', 'person': {'first_name': 'Dan', 'last_name': 'Gould', 'permalink': 'dan-gould'}}, {'is_past': True, 'title': 'Vice President', 'person': {'first_name': 'Jason', 'last_name': 'Knapp', 'permalink': 'jason-knapp'}}, {'is_past': True, 'title': 'SVP, Client Solutions', 'person': {'first_name': 'David', 'last_name': 'Tokheim', 'permalink': 'david-tokheim'}}, {'is_past': True, 'title': 'SVP Human Resources', 'person': {'first_name': 'Dustin', 'last_name': 'Finer', 'permalink': 'dustin-finer'}}, {'is_past': True, 'title': 'EVP, Product & Technology', 'person': {'first_name': 'Adam', 'last_name': 'Bain', 'permalink': 'adam-bain'}}, {'is_past': True, 'title': 'Senior Advisor', 'person': {'first_name': 'Ariel', 'last_name': 'Arrieta', 'permalink': 'ariel-arrieta'}}, {'is_past': True, 'title': 'VP Products', 'person': {'first_name': 'Mark', 'last_name': 'Stieglitz', 'permalink': 'mark-stieglitz'}}, {'is_past': True, 'title': 'Senior Director, Publisher Development', 'person': {'first_name': 'Matt', 'last_name': 'Barash', 'permalink': 'matt-barash'}}, {'is_past': True, 'title': 'Director Integrated Sales', 'person': {'first_name': 'Steve', 'last_name': 'Sarner', 'permalink': 'steve-sarner'}}, {'is_past': True, 'title': 'Vice President', 'person': {'first_name': 'Josh', 'last_name': 'Yguado', 'permalink': 'josh-yguado'}}, {'is_past': True, 'title': 'Director', 'person': {'first_name': 'Adrian', 'last_name': 'Aoun', 'permalink': 'adrian-aoun'}}, {'is_past': True, 'title': 'Director of Audience & Business Development', 'person': {'first_name': 'Barry', 'last_name': 'Flanigan', 'permalink': 'barry-flanigan'}}, {'is_past': True, 'title': 'V.P. Finance', 'person': {'first_name': 'Greg', 'last_name': 'Wimmer', 'permalink': 'greg-wimmer'}}, {'is_past': True, 'title': 'Director of Marketing & Content, MySpace', 'person': {'first_name': 'Dominic', 'last_name': 'Cook', 'permalink': 'dominic-cook'}}, {'is_past': True, 'title': 'Sales Development & Strategy', 'person': {'first_name': 'Ross', 'last_name': 'Siegel', 'permalink': 'ross-siegel-2'}}, {'is_past': True, 'title': 'Senior Software Engineer', 'person': {'first_name': 'Jeff', 'last_name': 'Mellen', 'permalink': 'jeff-mellen'}}, {'is_past': True, 'title': 'Vice President, Human Resources', 'person': {'first_name': 'John', 'last_name': 'K Anderson', 'permalink': 'john-k-anderson'}}, {'is_past': True, 'title': 'Web Developer, New Products Group', 'person': {'first_name': 'Joshua', 'last_name': 'Samberg', 'permalink': 'joshua-samberg'}}, {'is_past': True, 'title': 'Executive Director of Revenue & Corporate Controller for two Entities', 'person': {'first_name': 'Tony', 'last_name': 'Cheung', 'permalink': 'tony-cheung'}}, {'is_past': True, 'title': 'Director of Product', 'person': {'first_name': 'Peter', 'last_name': 'Everett', 'permalink': 'peter-everett'}}, {'is_past': True, 'title': 'SVP, Business Development', 'person': {'first_name': 'John', 'last_name': 'Smelzer', 'permalink': 'john-smelzer'}}, {'is_past': True, 'title': 'Business Development / Sponsoring & Special Projects', 'person': {'first_name': 'Jean-Robert', 'last_name': 'BELLANGER', 'permalink': 'jean-robert-bellanger'}}, {'is_past': True, 'title': 'Vice President of National Brand Sales - IGN Entertainment', 'person': {'first_name': 'Scott', 'last_name': 'Bender', 'permalink': 'scott-bender'}}, {'is_past': True, 'title': 'National Sales Director', 'person': {'first_name': 'Andrew', 'last_name': 'Saunders', 'permalink': 'andrew-saunders-2'}}, {'is_past': True, 'title': 'Director, Consumer Insights', 'person': {'first_name': 'Jane', 'last_name': 'Collins', 'permalink': 'jane-collins'}}, {'is_past': True, 'title': 'President, Audience Network', 'person': {'first_name': 'Adam', 'last_name': 'Bain', 'permalink': 'adam-bain'}}, {'is_past': True, 'title': 'Creative Director, Entertainment', 'person': {'first_name': 'Steve', 'last_name': 'Mummolo', 'permalink': 'steve-mummolo'}}, {'is_past': True, 'title': 'Principal Interaction Designer', 'person': {'first_name': 'Eston', 'last_name': 'Bond', 'permalink': 'eston-bond'}}, {'is_past': True, 'title': 'Director, Business & Legal Affairs', 'person': {'first_name': 'Antone', 'last_name': 'Johnson', 'permalink': 'antone-johnson'}}, {'is_past': True, 'title': 'President', 'person': {'first_name': 'Ross', 'last_name': 'Levinsohn', 'permalink': 'ross-levinsohn'}}, {'is_past': True, 'title': 'Technology Manager', 'person': {'first_name': 'Zach', 'last_name': 'Greenberger', 'permalink': 'zach-greenberger'}}, {'is_past': True, 'title': 'Vice President, Product Management', 'person': {'first_name': 'Arnie', 'last_name': 'Gullov-Singh', 'permalink': 'arnie-gullov-singh'}}, {'is_past': True, 'title': 'Vice President & General Manager', 'person': {'first_name': 'Jeff', 'last_name': 'King', 'permalink': 'jeff-king'}}, {'is_past': True, 'title': 'Director', 'person': {'first_name': 'Patricia', 'last_name': 'Clark', 'permalink': 'patricia-clark'}}, {'is_past': True, 'title': 'Sr. Software Engineer', 'person': {'first_name': 'David', 'last_name': 'Pedowitz', 'permalink': 'david-pedowitz'}}, {'is_past': True, 'title': 'Vice President of Business and Legal Affairs', 'person': {'first_name': 'Chadwick', 'last_name': 'Ho', 'permalink': 'chadwick-ho'}}, {'is_past': True, 'title': 'Senior Director, Mobile Business Development', 'person': {'first_name': 'Bjorn', 'last_name': 'Laurin', 'permalink': 'bjorn-laurin'}}, {'is_past': True, 'title': 'Executive Director', 'person': {'first_name': 'Ram', 'last_name': 'Reddy', 'permalink': 'ram-reddy'}}, {'is_past': True, 'title': 'SVP, Northeast Sales', 'person': {'first_name': 'Robert', 'last_name': 'Palma', 'permalink': 'robert-palma'}}, {'is_past': True, 'title': 'Software Development Manager', 'person': {'first_name': 'Arthur', 'last_name': 'Svider', 'permalink': 'arthur-svider'}}, {'is_past': True, 'title': 'Director of Content, Entertainment', 'person': {'first_name': 'Jeff', 'last_name': 'King', 'permalink': 'jeff-king'}}, {'is_past': True, 'title': 'Sr. Territory Manger, Sales', 'person': {'first_name': 'Amy', 'last_name': 'Bonforte', 'permalink': 'amy-bonforte'}}, {'is_past': True, 'title': 'Managing Director of 3D Gamers Business and Operations', 'person': {'first_name': 'Piotr', 'last_name': 'Kapiszewski', 'permalink': 'piotr-kapiszewski'}}, {'is_past': True, 'title': 'Sales Director, Texas Region', 'person': {'first_name': 'Derek', 'last_name': 'Zabbia', 'permalink': 'derek-zabbia'}}, {'is_past': True, 'title': 'Advertising Products (online inventory) Management', 'person': {'first_name': 'Sunayana', 'last_name': 'Bedi', 'permalink': 'sunayana-bedi'}}], 'competitions': [], 'providerships': [], 'total_money_raised': '$0', 'funding_rounds': [], 'investments': [{'funding_round': {'round_code': 'b', 'source_url': 'http://www.techcrunch.com/2006/04/18/simply-hired-takes-135m-from-fox-and-foundation-capital/', 'source_description': '', 'raised_amount': 13500000, 'raised_currency_code': 'USD', 'funded_year': 2006, 'funded_month': 3, 'funded_day': 1, 'company': {'name': 'Simply Hired', 'permalink': 'simply-hired'}}}, {'funding_round': {'round_code': 'unattributed', 'source_url': 'http://techcrunch.com/2013/08/16/vice-fox/', 'source_description': 'Fox Invests In Vice, A Media Company That Makes Money Being Terrible And Brilliant', 'raised_amount': 70000000, 'raised_currency_code': 'USD', 'funded_year': 2013, 'funded_month': 8, 'funded_day': 19, 'company': {'name': 'Vice Media Group', 'permalink': 'vice-media-group'}}}], 'acquisition': None, 'acquisitions': [{'price_amount': 20000000, 'price_currency_code': 'USD', 'term_code': None, 'source_url': 'http://venturebeat.com/2007/05/30/fox-interactive-confirms-purchase-of-photobucket-and-flektor/', 'source_description': 'Fox Interactive confirms purchase of Photobucket and Flektor', 'acquired_year': 2007, 'acquired_month': 5, 'acquired_day': 30, 'company': {'name': 'Flektor', 'permalink': 'flektor'}}, {'price_amount': 700000000, 'price_currency_code': 'USD', 'term_code': 'cash', 'source_url': None, 'source_description': None, 'acquired_year': 2005, 'acquired_month': 9, 'acquired_day': 1, 'company': {'name': 'IGN Entertainment', 'permalink': 'ignentertainment'}}, {'price_amount': None, 'price_currency_code': 'USD', 'term_code': None, 'source_url': 'http://www.socaltech.com/fox_interactive_acquires_newroo_ksolo_com/s-0003870.html', 'source_description': 'Fox Interactive Acquires Newroo, kSolo.com', 'acquired_year': 2006, 'acquired_month': 5, 'acquired_day': 1, 'company': {'name': 'Newroo', 'permalink': 'newroo'}}, {'price_amount': None, 'price_currency_code': 'USD', 'term_code': None, 'source_url': 'http://www.scout.com/2/430453.html', 'source_description': 'Scout Acquired by Fox', 'acquired_year': 2005, 'acquired_month': 8, 'acquired_day': 5, 'company': {'name': 'Scout.com', 'permalink': 'scout-com'}}, {'price_amount': None, 'price_currency_code': 'USD', 'term_code': None, 'source_url': 'http://www.zdnet.com/blog/btl/fox-interactive-acquires-photobucket-flektor/5191', 'source_description': 'Fox Interactive acquires Photobucket, Flektor', 'acquired_year': 2007, 'acquired_month': 5, 'acquired_day': 30, 'company': {'name': 'Photobucket', 'permalink': 'photobucket'}}], 'offices': [{'description': '', 'address1': '407 N Maple Dr', 'address2': '', 'zip_code': '90210', 'city': 'Beverly Hills', 'state_code': 'CA', 'country_code': 'USA', 'latitude': 34.076179, 'longitude': -118.39417}], 'milestones': [], 'ipo': None, 'video_embeds': [{'embed_code': '<embed src=\"http://blip.tv/play/goRrgcGtFQI%2Em4v\" type=\"application/x-shockwave-flash\" width=\"370\" height=\"240\" allowscriptaccess=\"always\" allowfullscreen=\"true\"></embed> ', 'description': '<p>This video was originally posted on <a href=\"http://www.beet.tv/2010/01/producers-for-foxs-super-popular-freshman-hit-glee-will-host-an-open-casting-call-online-for-a-few-new-roles-in-the-glee-club.html\" title=\"Beet.TV\" rel=\"nofollow\">Beet.TV</a> </p>'}, {'embed_code': '<embed src=\"http://blip.tv/play/goRrgcvTCAI%2Em4v\" type=\"application/x-shockwave-flash\" width=\"370\" height=\"240\" allowscriptaccess=\"always\" allowfullscreen=\"true\"></embed>', 'description': '<p>This video was originally posted on <a href=\"http://www.beet.tv/2010/03/fox-readying-hululike-mobile-content-site-called-bitbot.html\" title=\"Beet.TV\" rel=\"nofollow\">Beet.TV</a></p>'}, {'embed_code': '<embed src=\"http://blip.tv/play/goRrgc6MQQI%2Em4v\" type=\"application/x-shockwave-flash\" width=\"370\" height=\"240\" allowscriptaccess=\"always\" allowfullscreen=\"true\"></embed>', 'description': '<p>This video was originally posted on <a href=\"http://www.beet.tv/2010/03/foxtv-partners-with-black20.html\" title=\"Beet.TV\" rel=\"nofollow\">Beet.TV</a></p>'}], 'screenshots': [{'available_sizes': [[[150, 94], 'assets/images/resized/0004/3402/43402v1-max-150x150.png'], [[250, 158], 'assets/images/resized/0004/3402/43402v1-max-250x250.png'], [[450, 284], 'assets/images/resized/0004/3402/43402v1-max-450x450.png']], 'attribution': None}, {'available_sizes': [[[150, 94], 'assets/images/resized/0004/3403/43403v1-max-150x150.png'], [[250, 158], 'assets/images/resized/0004/3403/43403v1-max-250x250.png'], [[450, 284], 'assets/images/resized/0004/3403/43403v1-max-450x450.png']], 'attribution': None}, {'available_sizes': [[[150, 94], 'assets/images/resized/0004/3404/43404v1-max-150x150.png'], [[250, 158], 'assets/images/resized/0004/3404/43404v1-max-250x250.png'], [[450, 284], 'assets/images/resized/0004/3404/43404v1-max-450x450.png']], 'attribution': None}], 'external_links': [], 'partners': []}\n"
     ]
    }
   ],
   "source": [
    "# Your Code\n",
    "cursor = db.companies.find({\"$and\":[{\"number_of_employees\": {\"$lt\":1000}},{\"founded_year\": {\"$lt\":2005}}]}).sort([(\"number_of_employees\", ASCENDING)]).limit(10)\n",
    "for company in cursor:\n",
    "    print(company)\n",
    "    break"
   ]
  },
  {
   "cell_type": "markdown",
   "metadata": {},
   "source": [
    "### 6. All the companies that don't include the `partners` field."
   ]
  },
  {
   "cell_type": "code",
   "execution_count": 28,
   "metadata": {},
   "outputs": [],
   "source": [
    "# Your Code\n",
    "cursor = db.companies.find({\"partners\": {\"$exists\":False}})\n",
    "for company in cursor:\n",
    "    print(company)\n",
    "    break\n",
    "# No hay"
   ]
  },
  {
   "cell_type": "markdown",
   "metadata": {},
   "source": [
    "### 7. All the companies that have a null type of value on the `category_code` field."
   ]
  },
  {
   "cell_type": "code",
   "execution_count": 29,
   "metadata": {},
   "outputs": [
    {
     "name": "stdout",
     "output_type": "stream",
     "text": [
      "{'_id': ObjectId('52cdef7c4bab8bd6752980f6'), 'name': 'Collective', 'permalink': 'collective', 'crunchbase_url': 'http://www.crunchbase.com/company/collective', 'homepage_url': None, 'blog_url': None, 'blog_feed_url': None, 'twitter_username': None, 'category_code': None, 'number_of_employees': None, 'founded_year': None, 'founded_month': None, 'founded_day': None, 'deadpooled_year': None, 'deadpooled_month': None, 'deadpooled_day': None, 'deadpooled_url': None, 'tag_list': None, 'alias_list': None, 'email_address': None, 'phone_number': None, 'description': None, 'created_at': 'Thu Sep 26 13:15:02 UTC 2013', 'updated_at': 'Thu Sep 26 13:15:02 UTC 2013', 'overview': None, 'image': None, 'products': [], 'relationships': [], 'competitions': [], 'providerships': [], 'total_money_raised': '$0', 'funding_rounds': [], 'investments': [], 'acquisition': None, 'acquisitions': [], 'offices': [], 'milestones': [], 'ipo': None, 'video_embeds': [], 'screenshots': [], 'external_links': [], 'partners': []}\n"
     ]
    }
   ],
   "source": [
    "# Your Code\n",
    "cursor = db.companies.find({\"category_code\": {\"$type\":[\"null\"]}})\n",
    "for company in cursor:\n",
    "    print(company)\n",
    "    break"
   ]
  },
  {
   "cell_type": "markdown",
   "metadata": {},
   "source": [
    "### 8. All the companies that have at least 100 employees but less than 1000. Retrieve only the `name` and `number of employees` fields."
   ]
  },
  {
   "cell_type": "code",
   "execution_count": 31,
   "metadata": {},
   "outputs": [
    {
     "name": "stdout",
     "output_type": "stream",
     "text": [
      "{'name': 'AdventNet', 'number_of_employees': 600}\n"
     ]
    }
   ],
   "source": [
    "# Your Code\n",
    "cursor = db.companies.find({\"number_of_employees\":{\"$in\":[i for i in range(100,1000)]}},{\"name\":1,\"number_of_employees\":1,\"_id\":0})\n",
    "for company in cursor:\n",
    "    print(company)\n",
    "    break"
   ]
  },
  {
   "cell_type": "markdown",
   "metadata": {},
   "source": [
    "### 9. Order all the companies by their IPO price in a descending order."
   ]
  },
  {
   "cell_type": "code",
   "execution_count": null,
   "metadata": {},
   "outputs": [],
   "source": [
    "# Your Code\n",
    "cursor = db.companies.sort([(\"number_of_employees\", DESCENDING)])"
   ]
  },
  {
   "cell_type": "markdown",
   "metadata": {},
   "source": [
    "### 10. Retrieve the 10 companies with more employees, order by the `number of employees`"
   ]
  },
  {
   "cell_type": "code",
   "execution_count": null,
   "metadata": {},
   "outputs": [],
   "source": [
    "# Your Code"
   ]
  },
  {
   "cell_type": "markdown",
   "metadata": {},
   "source": [
    "### 11. All the companies founded on the second semester of the year. Limit your search to 1000 companies."
   ]
  },
  {
   "cell_type": "code",
   "execution_count": null,
   "metadata": {},
   "outputs": [],
   "source": [
    "# Your Code"
   ]
  },
  {
   "cell_type": "markdown",
   "metadata": {},
   "source": [
    "### 12. All the companies founded before 2000 that have an acquisition amount of more than 10.000.00"
   ]
  },
  {
   "cell_type": "code",
   "execution_count": null,
   "metadata": {},
   "outputs": [],
   "source": [
    "# Your Code"
   ]
  },
  {
   "cell_type": "markdown",
   "metadata": {},
   "source": [
    "### 13. All the companies that have been acquired after 2010, order by the acquisition amount, and retrieve only their `name` and `acquisition` field."
   ]
  },
  {
   "cell_type": "code",
   "execution_count": null,
   "metadata": {},
   "outputs": [],
   "source": [
    "# Your Code"
   ]
  },
  {
   "cell_type": "markdown",
   "metadata": {},
   "source": [
    "### 14. Order the companies by their `founded year`, retrieving only their `name` and `founded year`."
   ]
  },
  {
   "cell_type": "code",
   "execution_count": null,
   "metadata": {},
   "outputs": [],
   "source": [
    "# Your Code"
   ]
  },
  {
   "cell_type": "markdown",
   "metadata": {},
   "source": [
    "### 15. All the companies that have been founded on the first seven days of the month, including the seventh. Sort them by their `acquisition price` in a descending order. Limit the search to 10 documents."
   ]
  },
  {
   "cell_type": "code",
   "execution_count": null,
   "metadata": {},
   "outputs": [],
   "source": [
    "# Your Code"
   ]
  },
  {
   "cell_type": "markdown",
   "metadata": {},
   "source": [
    "### 16. All the companies on the 'web' `category` that have more than 4000 employees. Sort them by the amount of employees in ascending order."
   ]
  },
  {
   "cell_type": "code",
   "execution_count": null,
   "metadata": {},
   "outputs": [],
   "source": [
    "# Your Code"
   ]
  },
  {
   "cell_type": "markdown",
   "metadata": {},
   "source": [
    "### 17. All the companies whose acquisition amount is more than 10.000.000, and currency is 'EUR'."
   ]
  },
  {
   "cell_type": "code",
   "execution_count": null,
   "metadata": {},
   "outputs": [],
   "source": [
    "# Your Code"
   ]
  },
  {
   "cell_type": "markdown",
   "metadata": {},
   "source": [
    "### 18. All the companies that have been acquired on the first trimester of the year. Limit the search to 10 companies, and retrieve only their `name` and `acquisition` fields."
   ]
  },
  {
   "cell_type": "code",
   "execution_count": null,
   "metadata": {},
   "outputs": [],
   "source": [
    "# Your Code"
   ]
  },
  {
   "cell_type": "markdown",
   "metadata": {},
   "source": [
    "# Bonus\n",
    "### 19. All the companies that have been founded between 2000 and 2010, but have not been acquired before 2011."
   ]
  },
  {
   "cell_type": "code",
   "execution_count": null,
   "metadata": {},
   "outputs": [],
   "source": [
    "# Your Code"
   ]
  },
  {
   "cell_type": "markdown",
   "metadata": {},
   "source": [
    "### 20. All the companies that have been 'deadpooled' after the third year."
   ]
  },
  {
   "cell_type": "code",
   "execution_count": null,
   "metadata": {},
   "outputs": [],
   "source": [
    "# Your Code"
   ]
  }
 ],
 "metadata": {
  "kernelspec": {
   "display_name": "Python 3",
   "language": "python",
   "name": "python3"
  },
  "language_info": {
   "codemirror_mode": {
    "name": "ipython",
    "version": 3
   },
   "file_extension": ".py",
   "mimetype": "text/x-python",
   "name": "python",
   "nbconvert_exporter": "python",
   "pygments_lexer": "ipython3",
   "version": "3.7.5"
  }
 },
 "nbformat": 4,
 "nbformat_minor": 4
}
