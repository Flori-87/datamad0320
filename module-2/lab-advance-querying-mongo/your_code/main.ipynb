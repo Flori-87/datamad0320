{
 "cells": [
  {
   "cell_type": "markdown",
   "metadata": {},
   "source": [
    "# Advanced Querying Mongo"
   ]
  },
  {
   "cell_type": "markdown",
   "metadata": {},
   "source": [
    "Importing libraries and setting up connection"
   ]
  },
  {
   "cell_type": "code",
   "execution_count": 12,
   "metadata": {},
   "outputs": [],
   "source": [
    "from pymongo import MongoClient\n",
    "from pymongo import ASCENDING, DESCENDING"
   ]
  },
  {
   "cell_type": "code",
   "execution_count": 2,
   "metadata": {},
   "outputs": [],
   "source": [
    "client = MongoClient(\"mongodb://localhost/companies\")\n",
    "db = client.get_database()"
   ]
  },
  {
   "cell_type": "markdown",
   "metadata": {},
   "source": [
    "### 1. All the companies whose name match 'Babelgum'. Retrieve only their `name` field."
   ]
  },
  {
   "cell_type": "code",
   "execution_count": 82,
   "metadata": {},
   "outputs": [
    {
     "name": "stdout",
     "output_type": "stream",
     "text": [
      "{'name': 'Babelgum'}\n"
     ]
    }
   ],
   "source": [
    "# Your Code\n",
    "cursor = db.companies.find({\"name\":\"Babelgum\"},{\"name\":1,\"_id\":0})\n",
    "\n",
    "for name in cursor:\n",
    "    print(name)  "
   ]
  },
  {
   "cell_type": "markdown",
   "metadata": {},
   "source": [
    "### 2. All the companies that have more than 5000 employees. Limit the search to 20 companies and sort them by **number of employees**."
   ]
  },
  {
   "cell_type": "code",
   "execution_count": 110,
   "metadata": {},
   "outputs": [
    {
     "data": {
      "text/plain": [
       "20"
      ]
     },
     "execution_count": 110,
     "metadata": {},
     "output_type": "execute_result"
    }
   ],
   "source": [
    "# Your Code\n",
    "cursor = db.companies.find({\"number_of_employees\": {\"$gt\":5000}}).sort([(\"number_of_employees\", ASCENDING)]).limit(20)\n",
    "len(list(cursor))"
   ]
  },
  {
   "cell_type": "code",
   "execution_count": 111,
   "metadata": {},
   "outputs": [
    {
     "name": "stderr",
     "output_type": "stream",
     "text": [
      "/usr/lib/python3/dist-packages/ipykernel_launcher.py:2: DeprecationWarning: count is deprecated. Use Collection.count_documents instead.\n",
      "  \n"
     ]
    },
    {
     "data": {
      "text/plain": [
       "109"
      ]
     },
     "execution_count": 111,
     "metadata": {},
     "output_type": "execute_result"
    }
   ],
   "source": [
    "#En este caso no obtengo el mismo resultado, pero en el ejercicio 7 (que la query no contiene limit()) sí que obtengo lo mismo \n",
    "db.companies.find({\"number_of_employees\": {\"$gt\":5000}}).sort([(\"number_of_employees\", ASCENDING)]).limit(20).count()"
   ]
  },
  {
   "cell_type": "code",
   "execution_count": 112,
   "metadata": {},
   "outputs": [
    {
     "name": "stderr",
     "output_type": "stream",
     "text": [
      "/usr/lib/python3/dist-packages/ipykernel_launcher.py:1: DeprecationWarning: count is deprecated. Use Collection.count_documents instead.\n",
      "  \"\"\"Entry point for launching an IPython kernel.\n"
     ]
    },
    {
     "data": {
      "text/plain": [
       "109"
      ]
     },
     "execution_count": 112,
     "metadata": {},
     "output_type": "execute_result"
    }
   ],
   "source": [
    "# y sobre cursor igual que sobre la query directamente\n",
    "cursor.count()"
   ]
  },
  {
   "cell_type": "markdown",
   "metadata": {},
   "source": [
    "### 3. All the companies founded between 2000 and 2005, both years included. Retrieve only the `name` and `founded_year` fields."
   ]
  },
  {
   "cell_type": "code",
   "execution_count": 84,
   "metadata": {},
   "outputs": [
    {
     "name": "stdout",
     "output_type": "stream",
     "text": [
      "{'name': 'AllofMP3', 'founded_year': 2000}\n",
      "{'name': 'TechnologyGuide', 'founded_year': 2001}\n",
      "{'name': 'StumbleUpon', 'founded_year': 2002}\n",
      "{'name': 'Gizmoz', 'founded_year': 2003}\n",
      "{'name': 'Digg', 'founded_year': 2004}\n",
      "{'name': 'Wetpaint', 'founded_year': 2005}\n"
     ]
    }
   ],
   "source": [
    "# Your Code\n",
    "def companiesYearF(year):\n",
    "    query = db.companies.find({\"founded_year\": year},{\"name\":1,\"founded_year\":1,\"_id\":0})\n",
    "    return query\n",
    "    \n",
    "for i in range(2000,2006):\n",
    "    cursor = companiesYearF(i)\n",
    "    for company in cursor:\n",
    "        print(company)\n",
    "        break\n",
    "# Solo un break para que imprima el primero de cada año"
   ]
  },
  {
   "cell_type": "markdown",
   "metadata": {},
   "source": [
    "### 4. All the companies that had a Valuation Amount of more than 100.000.000 and have been founded before 2010. Retrieve only the `name` and `ipo` fields."
   ]
  },
  {
   "cell_type": "code",
   "execution_count": 146,
   "metadata": {},
   "outputs": [
    {
     "name": "stderr",
     "output_type": "stream",
     "text": [
      "/usr/lib/python3/dist-packages/ipykernel_launcher.py:7: DeprecationWarning: count is deprecated. Use Collection.count_documents instead.\n",
      "  import sys\n"
     ]
    },
    {
     "data": {
      "text/plain": [
       "42"
      ]
     },
     "execution_count": 146,
     "metadata": {},
     "output_type": "execute_result"
    }
   ],
   "source": [
    "# Your Code\n",
    "cursor = db.companies.find({\"$and\":[{\"ipo.valuation_amount\": {\"$gt\":100000000}}, {\"founded_year\": {\"$lt\":2010}},\n",
    "                                   {\"founded_year\":{\"$not\":{\"$type\":[\"null\"]}}}]},{\"name\":1,\"ipo\":1})\n",
    "\n",
    "#pruebo count sobre la query directamente\n",
    "db.companies.find({\"$and\":[{\"ipo.valuation_amount\": {\"$gt\":100000000}}, {\"founded_year\": {\"$lt\":2010}},\n",
    "                                   {\"founded_year\":{\"$not\":{\"$type\":[\"null\"]}}}]},{\"name\":1,\"ipo\":1}).count()"
   ]
  },
  {
   "cell_type": "markdown",
   "metadata": {},
   "source": [
    "### 5. All the companies that have less than 1000 employees and have been founded before 2005. Order them by the number of employees and limit the search to 10 companies."
   ]
  },
  {
   "cell_type": "code",
   "execution_count": 144,
   "metadata": {},
   "outputs": [
    {
     "data": {
      "text/plain": [
       "10"
      ]
     },
     "execution_count": 144,
     "metadata": {},
     "output_type": "execute_result"
    }
   ],
   "source": [
    "# Your Code\n",
    "cursor = db.companies.find({\"$and\":[{\"number_of_employees\": {\"$lt\":1000}},{\"founded_year\": {\"$lt\":2005}},\n",
    "                                   {\"number_of_employees\":{\"$not\":{\"$type\":[\"null\"]}}},\n",
    "                                   {\"founded_year\":{\"$not\":{\"$type\":[\"null\"]}}}]}).sort([(\"number_of_employees\", ASCENDING)]).limit(10)\n",
    "\n",
    "len(list(cursor))"
   ]
  },
  {
   "cell_type": "markdown",
   "metadata": {},
   "source": [
    "### 6. All the companies that don't include the `partners` field."
   ]
  },
  {
   "cell_type": "code",
   "execution_count": 103,
   "metadata": {},
   "outputs": [
    {
     "data": {
      "text/plain": [
       "0"
      ]
     },
     "execution_count": 103,
     "metadata": {},
     "output_type": "execute_result"
    }
   ],
   "source": [
    "# Your Code\n",
    "cursor = db.companies.find({\"partners\": {\"$exists\":False}})\n",
    "\n",
    "len(list(cursor))"
   ]
  },
  {
   "cell_type": "code",
   "execution_count": 106,
   "metadata": {},
   "outputs": [
    {
     "data": {
      "text/plain": [
       "0"
      ]
     },
     "execution_count": 106,
     "metadata": {},
     "output_type": "execute_result"
    }
   ],
   "source": [
    "# Your Code\n",
    "cursor = db.companies.find({\"partners\": {\"$not\":{\"$exists\":True}}})\n",
    "\n",
    "len(list(cursor))"
   ]
  },
  {
   "cell_type": "markdown",
   "metadata": {},
   "source": [
    "### 7. All the companies that have a null type of value on the `category_code` field."
   ]
  },
  {
   "cell_type": "code",
   "execution_count": 107,
   "metadata": {},
   "outputs": [
    {
     "data": {
      "text/plain": [
       "2751"
      ]
     },
     "execution_count": 107,
     "metadata": {},
     "output_type": "execute_result"
    }
   ],
   "source": [
    "# Your Code\n",
    "cursor = db.companies.find({\"category_code\": {\"$type\":[\"null\"]}})\n",
    "\n",
    "len(list(cursor))"
   ]
  },
  {
   "cell_type": "code",
   "execution_count": 108,
   "metadata": {},
   "outputs": [
    {
     "name": "stderr",
     "output_type": "stream",
     "text": [
      "/usr/lib/python3/dist-packages/ipykernel_launcher.py:4: DeprecationWarning: count is deprecated. Use Collection.count_documents instead.\n",
      "  after removing the cwd from sys.path.\n"
     ]
    },
    {
     "data": {
      "text/plain": [
       "2751"
      ]
     },
     "execution_count": 108,
     "metadata": {},
     "output_type": "execute_result"
    }
   ],
   "source": [
    "# Aquí obtengo el mismo resultado entre len() y count()\n",
    "cursor = db.companies.find({\"category_code\": {\"$type\":[\"null\"]}})\n",
    "\n",
    "db.companies.find({\"category_code\": {\"$type\":[\"null\"]}}).count()"
   ]
  },
  {
   "cell_type": "markdown",
   "metadata": {},
   "source": [
    "### 8. All the companies that have at least 100 employees but less than 1000. Retrieve only the `name` and `number of employees` fields."
   ]
  },
  {
   "cell_type": "code",
   "execution_count": 113,
   "metadata": {},
   "outputs": [
    {
     "name": "stderr",
     "output_type": "stream",
     "text": [
      "/usr/lib/python3/dist-packages/ipykernel_launcher.py:4: DeprecationWarning: count is deprecated. Use Collection.count_documents instead.\n",
      "  after removing the cwd from sys.path.\n"
     ]
    },
    {
     "data": {
      "text/plain": [
       "917"
      ]
     },
     "execution_count": 113,
     "metadata": {},
     "output_type": "execute_result"
    }
   ],
   "source": [
    "# Your Code\n",
    "cursor = db.companies.find({\"number_of_employees\":{\"$in\":[i for i in range(100,1000)]}},{\"name\":1,\"number_of_employees\":1,\"_id\":0})\n",
    "\n",
    "cursor.count()"
   ]
  },
  {
   "cell_type": "markdown",
   "metadata": {},
   "source": [
    "### 9. Order all the companies by their IPO price in a descending order."
   ]
  },
  {
   "cell_type": "code",
   "execution_count": 139,
   "metadata": {},
   "outputs": [
    {
     "data": {
      "text/plain": [
       "100"
      ]
     },
     "execution_count": 139,
     "metadata": {},
     "output_type": "execute_result"
    }
   ],
   "source": [
    "# Your Code\n",
    "cursor = db.companies.find({\"ipo.valuation_amount\":{\"$not\":{\"$type\":[\"null\"]}}}).sort([(\"ipo.valuation_amount\", DESCENDING)]).limit(100)\n",
    "\n",
    "#lo he limitado a 100 porque me daba error por falta de memoria RAM\n",
    "len(list(cursor))"
   ]
  },
  {
   "cell_type": "markdown",
   "metadata": {},
   "source": [
    "### 10. Retrieve the 10 companies with more employees, order by the `number of employees`"
   ]
  },
  {
   "cell_type": "code",
   "execution_count": 137,
   "metadata": {},
   "outputs": [
    {
     "data": {
      "text/plain": [
       "10"
      ]
     },
     "execution_count": 137,
     "metadata": {},
     "output_type": "execute_result"
    }
   ],
   "source": [
    "# Your Code\n",
    "cursor = db.companies.find({\"number_of_employees\":{\"$not\":{\"$type\":[\"null\"]}}}).sort(\"number_of_employees\",-1).limit(10)\n",
    "#Me da fallo de memoria RAM\n",
    "len(list(cursor))"
   ]
  },
  {
   "cell_type": "markdown",
   "metadata": {},
   "source": [
    "### 11. All the companies founded on the second semester of the year. Limit your search to 1000 companies."
   ]
  },
  {
   "cell_type": "code",
   "execution_count": 129,
   "metadata": {},
   "outputs": [
    {
     "data": {
      "text/plain": [
       "1000"
      ]
     },
     "execution_count": 129,
     "metadata": {},
     "output_type": "execute_result"
    }
   ],
   "source": [
    "# Your Code\n",
    "cursor = db.companies.find({\"founded_month\":{\"$gt\": 6}}).limit(1000)\n",
    "\n",
    "len(list(cursor))"
   ]
  },
  {
   "cell_type": "markdown",
   "metadata": {},
   "source": [
    "### 12. All the companies founded before 2000 that have an acquisition amount of more than 10.000.00"
   ]
  },
  {
   "cell_type": "code",
   "execution_count": 134,
   "metadata": {},
   "outputs": [
    {
     "name": "stderr",
     "output_type": "stream",
     "text": [
      "/usr/lib/python3/dist-packages/ipykernel_launcher.py:5: DeprecationWarning: count is deprecated. Use Collection.count_documents instead.\n",
      "  \"\"\"\n"
     ]
    },
    {
     "data": {
      "text/plain": [
       "205"
      ]
     },
     "execution_count": 134,
     "metadata": {},
     "output_type": "execute_result"
    }
   ],
   "source": [
    "# Your Code\n",
    "cursor = db.companies.find({\"$and\":[{\"founded_year\":{\"$not\":{\"$type\":[\"null\"]}}},\n",
    "                                    {\"founded_year\": {\"$lt\":2000}},{\"acquisition.price_amount\": {\"$gt\":10000000}}]})\n",
    "\n",
    "cursor.count()"
   ]
  },
  {
   "cell_type": "markdown",
   "metadata": {},
   "source": [
    "### 13. All the companies that have been acquired after 2010, order by the acquisition amount, and retrieve only their `name` and `acquisition` field."
   ]
  },
  {
   "cell_type": "code",
   "execution_count": 143,
   "metadata": {},
   "outputs": [
    {
     "name": "stderr",
     "output_type": "stream",
     "text": [
      "/usr/lib/python3/dist-packages/ipykernel_launcher.py:5: DeprecationWarning: count is deprecated. Use Collection.count_documents instead.\n",
      "  \"\"\"\n"
     ]
    },
    {
     "data": {
      "text/plain": [
       "736"
      ]
     },
     "execution_count": 143,
     "metadata": {},
     "output_type": "execute_result"
    }
   ],
   "source": [
    "# Your Code\n",
    "cursor = db.companies.find({\"acquisition.acquired_year\": {\"$gt\":2010}},\n",
    "                           {\"name\":1,\"acquisition\":1,\"_id\":0}).sort([(\"acquisition.price_amount\",ASCENDING)])\n",
    "\n",
    "cursor.count()"
   ]
  },
  {
   "cell_type": "markdown",
   "metadata": {},
   "source": [
    "### 14. Order the companies by their `founded year`, retrieving only their `name` and `founded year`."
   ]
  },
  {
   "cell_type": "code",
   "execution_count": 142,
   "metadata": {},
   "outputs": [
    {
     "data": {
      "text/plain": [
       "10"
      ]
     },
     "execution_count": 142,
     "metadata": {},
     "output_type": "execute_result"
    }
   ],
   "source": [
    "# Your Code\n",
    "cursor = db.companies.find({\"founded_year\":{\"$not\":{\"$type\":[\"null\"]}}},\n",
    "                           {\"name\":1,\"founded_year\":1,\"_id\":0}).sort(\"founded_year\",ASCENDING).limit(10)\n",
    "\n",
    "len(list(cursor)) #lo limito a 10 por error con la memoria RAM"
   ]
  },
  {
   "cell_type": "markdown",
   "metadata": {},
   "source": [
    "### 15. All the companies that have been founded on the first seven days of the month, including the seventh. Sort them by their `acquisition price` in a descending order. Limit the search to 10 documents."
   ]
  },
  {
   "cell_type": "code",
   "execution_count": 148,
   "metadata": {},
   "outputs": [
    {
     "data": {
      "text/plain": [
       "10"
      ]
     },
     "execution_count": 148,
     "metadata": {},
     "output_type": "execute_result"
    }
   ],
   "source": [
    "# Your Code\n",
    "cursor = db.companies.find({\"$and\":[{\"founded_day\":{\"$in\":[i for i in range(1,8)]}},\n",
    "                                    {\"acquisition.price_amount\":{\"$not\":{\"$type\":[\"null\"]}}}]}).sort([(\"acquisition.price_amount\",DESCENDING)]).limit(10)\n",
    "\n",
    "len(list(cursor))"
   ]
  },
  {
   "cell_type": "markdown",
   "metadata": {},
   "source": [
    "### 16. All the companies on the 'web' `category` that have more than 4000 employees. Sort them by the amount of employees in ascending order."
   ]
  },
  {
   "cell_type": "code",
   "execution_count": 149,
   "metadata": {},
   "outputs": [
    {
     "data": {
      "text/plain": [
       "9"
      ]
     },
     "execution_count": 149,
     "metadata": {},
     "output_type": "execute_result"
    }
   ],
   "source": [
    "# Your Code\n",
    "cursor = db.companies.find({\"$and\": [{\"category_code\":{\"$eq\":\"web\"}},{\"number_of_employees\":{\"$gt\":4000}}]}).sort([(\"number_of_employees\",ASCENDING)])\n",
    "\n",
    "len(list(cursor))"
   ]
  },
  {
   "cell_type": "markdown",
   "metadata": {},
   "source": [
    "### 17. All the companies whose acquisition amount is more than 10.000.000, and currency is 'EUR'."
   ]
  },
  {
   "cell_type": "code",
   "execution_count": 150,
   "metadata": {},
   "outputs": [
    {
     "data": {
      "text/plain": [
       "7"
      ]
     },
     "execution_count": 150,
     "metadata": {},
     "output_type": "execute_result"
    }
   ],
   "source": [
    "# Your Code\n",
    "cursor = db.companies.find({\"$and\": [{\"acquisition.price_amount\":{\"$gt\":10000000}},\n",
    "                                     {\"acquisition.price_currency_code\":{\"$eq\":\"EUR\"}}]})\n",
    "\n",
    "len(list(cursor))"
   ]
  },
  {
   "cell_type": "markdown",
   "metadata": {},
   "source": [
    "### 18. All the companies that have been acquired on the first trimester of the year. Limit the search to 10 companies, and retrieve only their `name` and `acquisition` fields."
   ]
  },
  {
   "cell_type": "code",
   "execution_count": 152,
   "metadata": {},
   "outputs": [
    {
     "data": {
      "text/plain": [
       "10"
      ]
     },
     "execution_count": 152,
     "metadata": {},
     "output_type": "execute_result"
    }
   ],
   "source": [
    "# Your Code\n",
    "cursor = db.companies.find({\"acquisition.acquired_month\":{\"$in\":[i for i in range(1,4)]}},\n",
    "                           {\"name\":1,\"acquisition\":1,\"_id\":0}).limit(10)\n",
    "\n",
    "len(list(cursor))"
   ]
  },
  {
   "cell_type": "markdown",
   "metadata": {},
   "source": [
    "# Bonus\n",
    "### 19. All the companies that have been founded between 2000 and 2010, but have not been acquired before 2011."
   ]
  },
  {
   "cell_type": "code",
   "execution_count": 153,
   "metadata": {},
   "outputs": [
    {
     "name": "stdout",
     "output_type": "stream",
     "text": [
      "486\n"
     ]
    }
   ],
   "source": [
    "# Your Code\n",
    "def companiesYearAcq(year):\n",
    "    query = db.companies.find({\"$and\": [{\"founded_year\": year},{\"acquisition.acquired_year\":{\"$gte\":2011}}]})\n",
    "    return query\n",
    "\n",
    "count = 0\n",
    "for i in range(2000,2011):\n",
    "    cursor = companiesYearAcq(i)\n",
    "    for company in cursor:\n",
    "        count+=1\n",
    "print(count)"
   ]
  },
  {
   "cell_type": "markdown",
   "metadata": {},
   "source": [
    "### 20. All the companies that have been 'deadpooled' after the third year."
   ]
  },
  {
   "cell_type": "code",
   "execution_count": 57,
   "metadata": {},
   "outputs": [
    {
     "name": "stdout",
     "output_type": "stream",
     "text": [
      "{'_id': ObjectId('52cdef7c4bab8bd675297d8b'), 'founded_year': 1996}\n"
     ]
    }
   ],
   "source": [
    "# Your Code\n"
   ]
  },
  {
   "cell_type": "code",
   "execution_count": 66,
   "metadata": {},
   "outputs": [
    {
     "name": "stdout",
     "output_type": "stream",
     "text": [
      "<pymongo.cursor.Cursor object at 0x7f774c9dcd50>\n"
     ]
    }
   ],
   "source": [
    "def compDeadpool(dictionary):\n",
    "    for key,value in dictionary.items():\n",
    "        if db.companies.find({\"$and\":[{\"_id\": dictionary[\"_id\"]},{\"deadpooled_year\": dictionary[\"founded_year\"]+4}]}):\n",
    "            return db.companies.find({\"$and\":[{\"_id\": dictionary[\"_id\"]},{\"deadpooled_year\": dictionary[\"founded_year\"]+4}]})\n",
    "\n",
    "cursor = db.companies.find({\"$and\":[{\"founded_year\":{\"$not\":{\"$type\":[\"null\"]}}},{\"deadpooled_year\":{ \"$not\":{\"$type\":[\"null\"]}}}]},{\"founded_year\":1})\n",
    "\n",
    "\n",
    "\n",
    "for company in cursor:\n",
    "    print(compDeadpool(company))\n",
    "    break"
   ]
  },
  {
   "cell_type": "code",
   "execution_count": null,
   "metadata": {},
   "outputs": [],
   "source": []
  }
 ],
 "metadata": {
  "kernelspec": {
   "display_name": "Python 3",
   "language": "python",
   "name": "python3"
  },
  "language_info": {
   "codemirror_mode": {
    "name": "ipython",
    "version": 3
   },
   "file_extension": ".py",
   "mimetype": "text/x-python",
   "name": "python",
   "nbconvert_exporter": "python",
   "pygments_lexer": "ipython3",
   "version": "3.7.5"
  }
 },
 "nbformat": 4,
 "nbformat_minor": 4
}
