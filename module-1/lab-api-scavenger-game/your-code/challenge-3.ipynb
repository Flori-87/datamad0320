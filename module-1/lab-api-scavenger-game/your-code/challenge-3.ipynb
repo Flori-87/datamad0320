{
 "cells": [
  {
   "cell_type": "markdown",
   "metadata": {},
   "source": [
    "## Challenge 3: Hidden Cold Joke"
   ]
  },
  {
   "cell_type": "code",
   "execution_count": 1,
   "metadata": {},
   "outputs": [
    {
     "data": {
      "text/plain": [
       "True"
      ]
     },
     "execution_count": 1,
     "metadata": {},
     "output_type": "execute_result"
    }
   ],
   "source": [
    "import requests\n",
    "import os\n",
    "from dotenv import load_dotenv\n",
    "load_dotenv()"
   ]
  },
  {
   "cell_type": "code",
   "execution_count": 2,
   "metadata": {},
   "outputs": [
    {
     "name": "stdout",
     "output_type": "stream",
     "text": [
      "<Response [200]>\n"
     ]
    }
   ],
   "source": [
    "# obtener json con la info de los folder y files contenidos en el repositorio scavenger\n",
    "url = \"https://api.github.com/repos/ironhack-datalabs/scavenger/contents\"\n",
    "res = requests.get(url)\n",
    "print(res)\n",
    "res_folders = res.json()\n",
    "#res_folders"
   ]
  },
  {
   "cell_type": "code",
   "execution_count": 3,
   "metadata": {},
   "outputs": [
    {
     "name": "stdout",
     "output_type": "stream",
     "text": [
      "['15024', '15534', '17020', '30351', '40303', '44639', '45525', '47222', '47830', '49418', '50896', '55417', '55685', '60224', '64880', '66032', '68848', '70751', '70985', '88596', '89046', '89338', '91701', '97881', '98750']\n"
     ]
    }
   ],
   "source": [
    "# extraer nombres de las carpetas del json y eliminar la carpeta .gitignore\n",
    "folders=[]\n",
    "for folder in res_folders:\n",
    "    for key in folder.keys():\n",
    "        if key == \"name\":\n",
    "            folders.append(folder[key])\n",
    "\n",
    "folders.remove('.gitignore')\n",
    "print(folders)"
   ]
  },
  {
   "cell_type": "code",
   "execution_count": 4,
   "metadata": {},
   "outputs": [],
   "source": [
    "# obtener json con el contenido de las carpetas (donde estarán los nombres de los archivos) pasando en el path el nombre de las carpetas obtenidos\n",
    "# en el paso anterior\n",
    "url = \"https://api.github.com/repos/ironhack-datalabs/scavenger/contents/\"\n",
    "res_files={}\n",
    "for folder in folders:\n",
    "    res = requests.get(url+folder)\n",
    "    res_files[folder] = res.json()\n",
    "#res_files"
   ]
  },
  {
   "cell_type": "code",
   "execution_count": 5,
   "metadata": {},
   "outputs": [
    {
     "data": {
      "text/plain": [
       "{'15024': '.0006.scavengerhunt',\n",
       " '15534': '.0012.scavengerhunt',\n",
       " '17020': '.0007.scavengerhunt',\n",
       " '30351': '.0021.scavengerhunt',\n",
       " '40303': '.0022.scavengerhunt',\n",
       " '44639': '.0005.scavengerhunt',\n",
       " '45525': '.0018.scavengerhunt',\n",
       " '47222': '.0024.scavengerhunt',\n",
       " '47830': '.0010.scavengerhunt',\n",
       " '49418': '.0014.scavengerhunt',\n",
       " '50896': '.0011.scavengerhunt',\n",
       " '55417': '.0023.scavengerhunt',\n",
       " '55685': '.0020.scavengerhunt',\n",
       " '60224': '.0003.scavengerhunt',\n",
       " '68848': '.0004.scavengerhunt',\n",
       " '70751': '.0019.scavengerhunt',\n",
       " '70985': '.0017.scavengerhunt',\n",
       " '88596': '.0002.scavengerhunt',\n",
       " '89338': '.0013.scavengerhunt',\n",
       " '91701': '.0015.scavengerhunt',\n",
       " '97881': '.0009.scavengerhunt',\n",
       " '98750': '.0001.scavengerhunt'}"
      ]
     },
     "execution_count": 5,
     "metadata": {},
     "output_type": "execute_result"
    }
   ],
   "source": [
    "# extraer del json el nombre de la carpeta y sus archivos que contenga el string \".scavengerhunt\"\n",
    "files_scavenger = {}\n",
    "for folder,files in res_files.items():\n",
    "    for file in files:\n",
    "        for key in file.keys():\n",
    "            if key == \"name\":\n",
    "                if file[key].endswith(\".scavengerhunt\"):\n",
    "                    files_scavenger[folder] = (file[key])\n",
    "files_scavenger "
   ]
  },
  {
   "cell_type": "code",
   "execution_count": 6,
   "metadata": {},
   "outputs": [
    {
     "name": "stdout",
     "output_type": "stream",
     "text": [
      "WE HAVE APIKEY\n"
     ]
    }
   ],
   "source": [
    "# obtener el json con el contenido de los archivos pasando el path completo (nombre de la carpeta+nombre del archivo extraidos en el punto anterior)\n",
    "url = \"https://api.github.com/repos/ironhack-datalabs/scavenger/contents/\"\n",
    "res_files=[]\n",
    "apiKey = os.getenv(\"GitHub_apiKey\")\n",
    "print(\"WE HAVE APIKEY\") if apiKey else print(\"NO APIKEY FOUND\")\n",
    "for folder,file in files_scavenger.items():\n",
    "    path= f'{folder}/{file}'\n",
    "    res = requests.get(url+path, headers={\"Authorization\":f\"token {apiKey}\"})\n",
    "    \n",
    "    res_files.append(res.json())\n",
    "#res_files            "
   ]
  },
  {
   "cell_type": "code",
   "execution_count": 7,
   "metadata": {},
   "outputs": [
    {
     "data": {
      "text/plain": [
       "{'.0006.scavengerhunt': 'b2YK\\n',\n",
       " '.0012.scavengerhunt': 'MjAK\\n',\n",
       " '.0007.scavengerhunt': 'dGltZQo=\\n',\n",
       " '.0021.scavengerhunt': 'bmVlZAo=\\n',\n",
       " '.0022.scavengerhunt': 'dG8K\\n',\n",
       " '.0005.scavengerhunt': 'cGVyY2VudAo=\\n',\n",
       " '.0018.scavengerhunt': 'Y29tcGxhaW5pbmcK\\n',\n",
       " '.0024.scavengerhunt': 'ZGF0YS4K\\n',\n",
       " '.0010.scavengerhunt': 'cHJlcGFyaW5nCg==\\n',\n",
       " '.0014.scavengerhunt': 'b2YK\\n',\n",
       " '.0011.scavengerhunt': 'ZGF0YSwK\\n',\n",
       " '.0023.scavengerhunt': 'cHJlcGFyZQo=\\n',\n",
       " '.0020.scavengerhunt': 'dGhlCg==\\n',\n",
       " '.0003.scavengerhunt': 'c2NpZW5jZSwK\\n',\n",
       " '.0004.scavengerhunt': 'ODAK\\n',\n",
       " '.0019.scavengerhunt': 'YWJvdXQK\\n',\n",
       " '.0017.scavengerhunt': 'c3BlbnQK\\n',\n",
       " '.0002.scavengerhunt': 'ZGF0YQo=\\n',\n",
       " '.0013.scavengerhunt': 'cGVyY2VudAo=\\n',\n",
       " '.0015.scavengerhunt': 'dGltZQo=\\n',\n",
       " '.0009.scavengerhunt': 'aXMK\\n',\n",
       " '.0001.scavengerhunt': 'SW4K\\n'}"
      ]
     },
     "execution_count": 7,
     "metadata": {},
     "output_type": "execute_result"
    }
   ],
   "source": [
    "# extraer del json el contenido de los archivos\n",
    "files_content={}\n",
    "for file in res_files:\n",
    "    for key in file.keys():\n",
    "        if key == \"name\":\n",
    "            a = file[key]\n",
    "        if key == \"content\":\n",
    "            files_content[a] = file[key]\n",
    "\n",
    "files_content"
   ]
  },
  {
   "cell_type": "code",
   "execution_count": 8,
   "metadata": {},
   "outputs": [
    {
     "name": "stdout",
     "output_type": "stream",
     "text": [
      "{'.0001.scavengerhunt': 'SW4K\\n', '.0002.scavengerhunt': 'ZGF0YQo=\\n', '.0003.scavengerhunt': 'c2NpZW5jZSwK\\n', '.0004.scavengerhunt': 'ODAK\\n', '.0005.scavengerhunt': 'cGVyY2VudAo=\\n', '.0006.scavengerhunt': 'b2YK\\n', '.0007.scavengerhunt': 'dGltZQo=\\n', '.0009.scavengerhunt': 'aXMK\\n', '.0010.scavengerhunt': 'cHJlcGFyaW5nCg==\\n', '.0011.scavengerhunt': 'ZGF0YSwK\\n', '.0012.scavengerhunt': 'MjAK\\n', '.0013.scavengerhunt': 'cGVyY2VudAo=\\n', '.0014.scavengerhunt': 'b2YK\\n', '.0015.scavengerhunt': 'dGltZQo=\\n', '.0017.scavengerhunt': 'c3BlbnQK\\n', '.0018.scavengerhunt': 'Y29tcGxhaW5pbmcK\\n', '.0019.scavengerhunt': 'YWJvdXQK\\n', '.0020.scavengerhunt': 'dGhlCg==\\n', '.0021.scavengerhunt': 'bmVlZAo=\\n', '.0022.scavengerhunt': 'dG8K\\n', '.0023.scavengerhunt': 'cHJlcGFyZQo=\\n', '.0024.scavengerhunt': 'ZGF0YS4K\\n'}\n"
     ]
    }
   ],
   "source": [
    "# ordenar el diccionario de nombre de archivo y sus contenidos por el nombre del archivo\n",
    "keys = [e for e in files_content]\n",
    "keys_sort = sorted(keys)\n",
    "files_content_sort = {}\n",
    "\n",
    "for e in keys_sort:\n",
    "    files_content_sort[e] = files_content[e]\n",
    "    \n",
    "print(files_content_sort)"
   ]
  },
  {
   "cell_type": "code",
   "execution_count": 14,
   "metadata": {},
   "outputs": [
    {
     "data": {
      "text/plain": [
       "'In data science, 80 percent of time is preparing data, 20 percent of time spent complaining about the need to prepare data.'"
      ]
     },
     "execution_count": 14,
     "metadata": {},
     "output_type": "execute_result"
    }
   ],
   "source": [
    "# extraer del diccionario ordenado solo los valores y concatenarlos en un string, decodificando previamente el mensaje\n",
    "import base64\n",
    "\n",
    "text = []\n",
    "for value in files_content_sort.values():\n",
    "    word = base64.b64decode(value).decode(\"utf-8\")\n",
    "    text.append(word.split(\"\\n\")[0])\n",
    "\n",
    "text_clean = \" \".join(text)\n",
    "text_clean"
   ]
  }
 ],
 "metadata": {
  "kernelspec": {
   "display_name": "Python 3",
   "language": "python",
   "name": "python3"
  },
  "language_info": {
   "codemirror_mode": {
    "name": "ipython",
    "version": 3
   },
   "file_extension": ".py",
   "mimetype": "text/x-python",
   "name": "python",
   "nbconvert_exporter": "python",
   "pygments_lexer": "ipython3",
   "version": "3.7.5"
  }
 },
 "nbformat": 4,
 "nbformat_minor": 4
}
