{
 "cells": [
  {
   "cell_type": "markdown",
   "metadata": {},
   "source": [
    "# Web Scraping Lab\n",
    "\n",
    "You will find in this notebook some scrapy exercises to practise your scraping skills.\n",
    "\n",
    "**Tips:**\n",
    "\n",
    "- Check the response status code for each request to ensure you have obtained the intended contennt.\n",
    "- Print the response text in each request to understand the kind of info you are getting and its format.\n",
    "- Check for patterns in the response text to extract the data/info requested in each question.\n",
    "- Visit each url and take a look at its source through Chrome DevTools. You'll need to identify the html tags, special class names etc. used for the html content you are expected to extract."
   ]
  },
  {
   "cell_type": "markdown",
   "metadata": {},
   "source": [
    "- [Requests library](http://docs.python-requests.org/en/master/#the-user-guide) documentation \n",
    "- [Beautiful Soup Doc](https://www.crummy.com/software/BeautifulSoup/bs4/doc/)\n",
    "- [Urllib](https://docs.python.org/3/library/urllib.html#module-urllib)\n",
    "- [re lib](https://docs.python.org/3/library/re.html)\n",
    "- [lxml lib](https://lxml.de/)\n",
    "- [Scrapy](https://scrapy.org/)\n",
    "- [List of HTTP status codes](https://en.wikipedia.org/wiki/List_of_HTTP_status_codes)\n",
    "- [HTML basics](http://www.simplehtmlguide.com/cheatsheet.php)\n",
    "- [CSS basics](https://www.cssbasics.com/#page_start)"
   ]
  },
  {
   "cell_type": "markdown",
   "metadata": {},
   "source": [
    "#### Below are the libraries and modules you may need. `requests`,  `BeautifulSoup` and `pandas` are imported for you. If you prefer to use additional libraries feel free to uncomment them."
   ]
  },
  {
   "cell_type": "code",
   "execution_count": 189,
   "metadata": {},
   "outputs": [],
   "source": [
    "import requests\n",
    "from bs4 import BeautifulSoup\n",
    "import pandas as pd\n",
    "# from pprint import pprint\n",
    "# from lxml import html\n",
    "# from lxml.html import fromstring\n",
    "# import urllib.request\n",
    "# from urllib.request import urlopen\n",
    "# import random\n",
    "import re\n",
    "# import scrapy"
   ]
  },
  {
   "cell_type": "markdown",
   "metadata": {},
   "source": [
    "#### Download, parse (using BeautifulSoup), and print the content from the Trending Developers page from GitHub:"
   ]
  },
  {
   "cell_type": "code",
   "execution_count": 79,
   "metadata": {},
   "outputs": [],
   "source": [
    "# This is the url you will scrape in this exercise\n",
    "url = 'https://github.com/trending/developers'"
   ]
  },
  {
   "cell_type": "code",
   "execution_count": 80,
   "metadata": {},
   "outputs": [],
   "source": [
    "#your code\n",
    "res = requests.get(url)\n",
    "soup = BeautifulSoup(res.text)\n",
    "#soup"
   ]
  },
  {
   "cell_type": "markdown",
   "metadata": {},
   "source": [
    "#### Display the names of the trending developers retrieved in the previous step.\n",
    "\n",
    "Your output should be a Python list of developer names. Each name should not contain any html tag.\n",
    "\n",
    "**Instructions:**\n",
    "\n",
    "1. Find out the html tag and class names used for the developer names. You can achieve this using Chrome DevTools.\n",
    "\n",
    "1. Use BeautifulSoup to extract all the html elements that contain the developer names.\n",
    "\n",
    "1. Use string manipulation techniques to replace whitespaces and linebreaks (i.e. `\\n`) in the *text* of each html element. Use a list to store the clean names.\n",
    "\n",
    "1. Print the list of names.\n",
    "\n",
    "Your output should look like below:\n",
    "\n",
    "```\n",
    "['trimstray (@trimstray)',\n",
    " 'joewalnes (JoeWalnes)',\n",
    " 'charlax (Charles-AxelDein)',\n",
    " 'ForrestKnight (ForrestKnight)',\n",
    " 'revery-ui (revery-ui)',\n",
    " 'alibaba (Alibaba)',\n",
    " 'Microsoft (Microsoft)',\n",
    " 'github (GitHub)',\n",
    " 'facebook (Facebook)',\n",
    " 'boazsegev (Bo)',\n",
    " 'google (Google)',\n",
    " 'cloudfetch',\n",
    " 'sindresorhus (SindreSorhus)',\n",
    " 'tensorflow',\n",
    " 'apache (TheApacheSoftwareFoundation)',\n",
    " 'DevonCrawford (DevonCrawford)',\n",
    " 'ARMmbed (ArmMbed)',\n",
    " 'vuejs (vuejs)',\n",
    " 'fastai (fast.ai)',\n",
    " 'QiShaoXuan (Qi)',\n",
    " 'joelparkerhenderson (JoelParkerHenderson)',\n",
    " 'torvalds (LinusTorvalds)',\n",
    " 'CyC2018',\n",
    " 'komeiji-satori (神楽坂覚々)',\n",
    " 'script-8']\n",
    " ```"
   ]
  },
  {
   "cell_type": "code",
   "execution_count": 91,
   "metadata": {},
   "outputs": [
    {
     "data": {
      "text/plain": [
       "['\\n            Jeremy Apthorp\\n',\n",
       " '\\n\\n      jonesforth\\n',\n",
       " '\\n            Jonah Williams\\n',\n",
       " '\\n\\n      json_widget\\n',\n",
       " '\\n            Felix Angelov\\n',\n",
       " '\\n\\n      bloc\\n',\n",
       " '\\n            chencheng (云谦)\\n',\n",
       " '\\n\\n      awesome-javascript\\n',\n",
       " '\\n            Sebastián Ramírez\\n',\n",
       " '\\n\\n      fastapi\\n',\n",
       " '\\n            Mariusz Nowak\\n',\n",
       " '\\n\\n      memoizee\\n',\n",
       " '\\n            Dawid Urbaniak\\n',\n",
       " '\\n\\n      twitterClone\\n',\n",
       " '\\n            Jeffrey Su\\n',\n",
       " '\\n\\n      WeiXinMPSDK\\n',\n",
       " '\\n            Hugo Bowne-Anderson\\n',\n",
       " '\\n\\n      COVID-19-EDA-tutorial\\n',\n",
       " '\\n            Felipe Fialho\\n',\n",
       " '\\n\\n      frontend-challenges\\n',\n",
       " '\\n            Yuri Shkuro\\n',\n",
       " '\\n\\n      opentracing-tutorial\\n',\n",
       " '\\n            R.I.Pienaar\\n',\n",
       " '\\n\\n      free-for-dev\\n',\n",
       " '\\n            Zeno Rocha\\n',\n",
       " '\\n\\n      clipboard.js\\n',\n",
       " '\\n            Maxim Kulkin\\n',\n",
       " '\\n\\n      esp-homekit-demo\\n',\n",
       " '\\n            Robert Mosolgo\\n',\n",
       " '\\n\\n      graphql-ruby\\n',\n",
       " '\\n            Pierre Krieger\\n',\n",
       " '\\n\\n      redshirt\\n',\n",
       " '\\n            Iman\\n',\n",
       " '\\n\\n      laravel-widgetize\\n',\n",
       " '\\n            Luis Alvarez D.\\n',\n",
       " '\\n\\n      next-with-apollo\\n',\n",
       " '\\n            Matic Zavadlal\\n',\n",
       " '\\n\\n      graphql-shield\\n',\n",
       " '\\n            Marten Seemann\\n',\n",
       " '\\n\\n      quic-conn\\n',\n",
       " '\\n            David Peter\\n',\n",
       " '\\n\\n      bat\\n',\n",
       " '\\n            Jake Wharton\\n',\n",
       " '\\n\\n      butterknife\\n',\n",
       " '\\n            Jeff Bezanson\\n',\n",
       " '\\n\\n      femtolisp\\n',\n",
       " '\\n            James Munnelly\\n',\n",
       " '\\n\\n      kube-plex\\n',\n",
       " '\\n            Matthew Johnson\\n',\n",
       " '\\n\\n      pyhsmm\\n']"
      ]
     },
     "execution_count": 91,
     "metadata": {},
     "output_type": "execute_result"
    }
   ],
   "source": [
    "#your code\n",
    "#names = soup.select(\"article > h1 > a[href]\")\n",
    "#names = soup.select(\"div:nth-child(3) > div:nth-child(1) > div:nth-child(1) > h1:nth-child(1) > a:nth-child(1)\")\n",
    "#dev_name = [name.text for name in names]\n",
    "#dev_name\n",
    "#dev_names = soup.select(\"article.Box-row.d-flex\")\n",
    "#print(dev_names[0].text)\n",
    "dev_names = soup.select(\"article.Box-row.d-flex h1 a\")\n",
    "list_names = []\n",
    "#print(dev_names)\n",
    "for e in dev_names:\n",
    "    list_names.append((e.text))\n",
    "list_names\n"
   ]
  },
  {
   "cell_type": "markdown",
   "metadata": {},
   "source": [
    "#### Display the trending Python repositories in GitHub\n",
    "\n",
    "The steps to solve this problem is similar to the previous one except that you need to find out the repository names instead of developer names."
   ]
  },
  {
   "cell_type": "code",
   "execution_count": 121,
   "metadata": {},
   "outputs": [],
   "source": [
    "# This is the url you will scrape in this exercise\n",
    "url = 'https://github.com/trending/python?since=daily'"
   ]
  },
  {
   "cell_type": "code",
   "execution_count": 122,
   "metadata": {},
   "outputs": [],
   "source": [
    "#your code\n",
    "\"\"\"\n",
    "res = requests.get(url)\n",
    "soup = BeautifulSoup(res.text)\n",
    "repos_names = soup.select(\"h1 a[href]\")\n",
    "print(repos_names)\n",
    "\"\"\"\n",
    "res = requests.get(url)\n",
    "soup = BeautifulSoup(res.text)"
   ]
  },
  {
   "cell_type": "code",
   "execution_count": 130,
   "metadata": {},
   "outputs": [
    {
     "data": {
      "text/plain": [
       "['\\n\\n\\n        rojter-tech /\\n\\n\\n\\n      pluradl.py\\n',\n",
       " '\\n\\n\\n        caoscott /\\n\\n\\n\\n      SReC\\n',\n",
       " '\\n\\n\\n        0voice /\\n\\n\\n\\n      interview_internal_reference\\n',\n",
       " '\\n\\n\\n        ageitgey /\\n\\n\\n\\n      face_recognition\\n',\n",
       " '\\n\\n\\n        manchenkoff /\\n\\n\\n\\n      skillbox-async-chat\\n',\n",
       " '\\n\\n\\n        XiaohangZhan /\\n\\n\\n\\n      deocclusion\\n',\n",
       " '\\n\\n\\n        google-research /\\n\\n\\n\\n      text-to-text-transfer-transformer\\n',\n",
       " '\\n\\n\\n        kon9chunkit /\\n\\n\\n\\n      GitHub-Chinese-Top-Charts\\n',\n",
       " '\\n\\n\\n        tiangolo /\\n\\n\\n\\n      fastapi\\n',\n",
       " '\\n\\n\\n        CorentinJ /\\n\\n\\n\\n      Real-Time-Voice-Cloning\\n',\n",
       " '\\n\\n\\n        home-assistant /\\n\\n\\n\\n      core\\n',\n",
       " '\\n\\n\\n        alex04072000 /\\n\\n\\n\\n      ObstructionRemoval\\n',\n",
       " '\\n\\n\\n        pcomputo /\\n\\n\\n\\n      Whole-Foods-Delivery-Slot\\n',\n",
       " '\\n\\n\\n        CharlesPikachu /\\n\\n\\n\\n      Games\\n',\n",
       " '\\n\\n\\n        doccano /\\n\\n\\n\\n      doccano\\n',\n",
       " '\\n\\n\\n        google /\\n\\n\\n\\n      jax\\n',\n",
       " '\\n\\n\\n        hankcs /\\n\\n\\n\\n      HanLP\\n',\n",
       " '\\n\\n\\n        Sentdex /\\n\\n\\n\\n      pygta5\\n',\n",
       " '\\n\\n\\n        ray-project /\\n\\n\\n\\n      ray\\n',\n",
       " '\\n\\n\\n        Yelp /\\n\\n\\n\\n      elastalert\\n',\n",
       " '\\n\\n\\n        timgrossmann /\\n\\n\\n\\n      InstaPy\\n',\n",
       " '\\n\\n\\n        huggingface /\\n\\n\\n\\n      transformers\\n',\n",
       " '\\n\\n\\n        ikergarcia1996 /\\n\\n\\n\\n      Self-Driving-Car-in-Video-Games\\n',\n",
       " '\\n\\n\\n        fizyr /\\n\\n\\n\\n      keras-retinanet\\n',\n",
       " '\\n\\n\\n        apache /\\n\\n\\n\\n      airflow\\n']"
      ]
     },
     "execution_count": 130,
     "metadata": {},
     "output_type": "execute_result"
    }
   ],
   "source": [
    "repos_names = soup.select(\"article.Box-row h1 a\")\n",
    "list_repos=[]\n",
    "for e in repos_names:\n",
    "    list_repos.append(e.text)\n",
    "list_repos"
   ]
  },
  {
   "cell_type": "markdown",
   "metadata": {},
   "source": [
    "#### Display all the image links from Walt Disney wikipedia page"
   ]
  },
  {
   "cell_type": "code",
   "execution_count": 131,
   "metadata": {},
   "outputs": [],
   "source": [
    "# This is the url you will scrape in this exercise\n",
    "url = 'https://en.wikipedia.org/wiki/Walt_Disney'\n",
    "res = requests.get(url)\n",
    "soup = BeautifulSoup(res.text)"
   ]
  },
  {
   "cell_type": "code",
   "execution_count": 152,
   "metadata": {},
   "outputs": [
    {
     "data": {
      "text/plain": [
       "['//upload.wikimedia.org/wikipedia/commons/thumb/c/c4/Walt_Disney_envelope_ca._1921.jpg/220px-Walt_Disney_envelope_ca._1921.jpg',\n",
       " '//upload.wikimedia.org/wikipedia/commons/thumb/4/4d/Newman_Laugh-O-Gram_%281921%29.webm/220px-seek%3D2-Newman_Laugh-O-Gram_%281921%29.webm.jpg',\n",
       " '//upload.wikimedia.org/wikipedia/commons/thumb/0/0d/Trolley_Troubles_poster.jpg/170px-Trolley_Troubles_poster.jpg',\n",
       " '//upload.wikimedia.org/wikipedia/commons/thumb/7/71/Walt_Disney_and_his_cartoon_creation_%22Mickey_Mouse%22_-_National_Board_of_Review_Magazine.jpg/170px-Walt_Disney_and_his_cartoon_creation_%22Mickey_Mouse%22_-_National_Board_of_Review_Magazine.jpg',\n",
       " '//upload.wikimedia.org/wikipedia/en/thumb/4/4e/Steamboat-willie.jpg/170px-Steamboat-willie.jpg',\n",
       " '//upload.wikimedia.org/wikipedia/commons/thumb/5/57/Walt_Disney_1935.jpg/170px-Walt_Disney_1935.jpg',\n",
       " '//upload.wikimedia.org/wikipedia/commons/thumb/c/cd/Walt_Disney_Snow_white_1937_trailer_screenshot_%2813%29.jpg/220px-Walt_Disney_Snow_white_1937_trailer_screenshot_%2813%29.jpg',\n",
       " '//upload.wikimedia.org/wikipedia/commons/thumb/1/15/Disney_drawing_goofy.jpg/170px-Disney_drawing_goofy.jpg',\n",
       " '//upload.wikimedia.org/wikipedia/commons/thumb/1/13/DisneySchiphol1951.jpg/220px-DisneySchiphol1951.jpg',\n",
       " '//upload.wikimedia.org/wikipedia/commons/thumb/8/8c/WaltDisneyplansDisneylandDec1954.jpg/220px-WaltDisneyplansDisneylandDec1954.jpg',\n",
       " '//upload.wikimedia.org/wikipedia/commons/thumb/f/ff/Walt_disney_portrait_right.jpg/170px-Walt_disney_portrait_right.jpg',\n",
       " '//upload.wikimedia.org/wikipedia/commons/thumb/1/1a/Walt_Disney_Grave.JPG/170px-Walt_Disney_Grave.JPG',\n",
       " '//upload.wikimedia.org/wikipedia/commons/thumb/2/2d/Roy_O._Disney_with_Company_at_Press_Conference.jpg/170px-Roy_O._Disney_with_Company_at_Press_Conference.jpg',\n",
       " '//upload.wikimedia.org/wikipedia/commons/thumb/a/a9/Disney_Display_Case.JPG/170px-Disney_Display_Case.JPG',\n",
       " '//upload.wikimedia.org/wikipedia/commons/thumb/6/6c/Disney1968.jpg/170px-Disney1968.jpg']"
      ]
     },
     "execution_count": 152,
     "metadata": {},
     "output_type": "execute_result"
    }
   ],
   "source": [
    "#your code\n",
    "list_images = []\n",
    "images = soup.select(\"div.thumbinner img\")\n",
    "images[0][\"src\"]\n",
    "for e in images:\n",
    "    list_images.append(e[\"src\"])\n",
    "list_images"
   ]
  },
  {
   "cell_type": "markdown",
   "metadata": {},
   "source": [
    "#### Retrieve an arbitary Wikipedia page of \"Python\" and create a list of links on that page"
   ]
  },
  {
   "cell_type": "code",
   "execution_count": 153,
   "metadata": {},
   "outputs": [],
   "source": [
    "# This is the url you will scrape in this exercise\n",
    "url ='https://en.wikipedia.org/wiki/Python' \n",
    "res = requests.get(url)\n",
    "soup = BeautifulSoup(res.text)"
   ]
  },
  {
   "cell_type": "code",
   "execution_count": null,
   "metadata": {},
   "outputs": [],
   "source": [
    "#your code\n",
    "list_images = []\n",
    "images = soup.select(\"div.thumbinner img\")\n",
    "images[0][\"src\"]\n",
    "for e in images:\n",
    "    list_images.append(e[\"src\"])\n",
    "list_images"
   ]
  },
  {
   "cell_type": "markdown",
   "metadata": {},
   "source": [
    "#### Number of Titles that have changed in the United States Code since its last release point "
   ]
  },
  {
   "cell_type": "code",
   "execution_count": 154,
   "metadata": {},
   "outputs": [],
   "source": [
    "# This is the url you will scrape in this exercise\n",
    "url = 'http://uscode.house.gov/download/download.shtml'\n",
    "res = requests.get(url)\n",
    "soup = BeautifulSoup(res.text)"
   ]
  },
  {
   "cell_type": "code",
   "execution_count": 157,
   "metadata": {},
   "outputs": [
    {
     "data": {
      "text/plain": [
       "4"
      ]
     },
     "execution_count": 157,
     "metadata": {},
     "output_type": "execute_result"
    }
   ],
   "source": [
    "#your code\n",
    "titles = soup.select(\"div.uscitem > div.usctitlechanged\")\n",
    "len(titles)"
   ]
  },
  {
   "cell_type": "code",
   "execution_count": 158,
   "metadata": {},
   "outputs": [
    {
     "data": {
      "text/plain": [
       "['\\n\\n          Title 8 - Aliens and Nationality\\n\\n        ',\n",
       " '\\n\\n          Title 22 - Foreign Relations and Intercourse\\n\\n        ',\n",
       " '\\n\\n          Title 29 - Labor\\n\\n        ',\n",
       " '\\n\\n          Title 42 - The Public Health and Welfare\\n\\n        ']"
      ]
     },
     "execution_count": 158,
     "metadata": {},
     "output_type": "execute_result"
    }
   ],
   "source": [
    "list_titles = []\n",
    "for e in titles:\n",
    "    list_titles.append(e.text)\n",
    "list_titles"
   ]
  },
  {
   "cell_type": "markdown",
   "metadata": {},
   "source": [
    "#### A Python list with the top ten FBI's Most Wanted names "
   ]
  },
  {
   "cell_type": "code",
   "execution_count": 159,
   "metadata": {},
   "outputs": [],
   "source": [
    "# This is the url you will scrape in this exercise\n",
    "url = 'https://www.fbi.gov/wanted/topten'\n",
    "res = requests.get(url)\n",
    "soup = BeautifulSoup(res.text)"
   ]
  },
  {
   "cell_type": "code",
   "execution_count": 162,
   "metadata": {},
   "outputs": [
    {
     "name": "stdout",
     "output_type": "stream",
     "text": [
      "['YASER ABDEL SAID', 'ALEXIS FLORES', 'EUGENE PALMER', 'SANTIAGO VILLALBA MEDEROS', 'RAFAEL CARO-QUINTERO', 'ROBERT WILLIAM FISHER', 'BHADRESHKUMAR CHETANBHAI PATEL', 'ALEJANDRO ROSALES CASTILLO', 'ARNOLDO JIMENEZ', 'JASON DEREK BROWN']\n"
     ]
    }
   ],
   "source": [
    "#your code \n",
    "top_ten_list =[]\n",
    "top_ten = soup.select(\"li > h3 > a\")\n",
    "for e in top_ten:\n",
    "    top_ten_list.append(e.text)\n",
    "print(top_ten_list)"
   ]
  },
  {
   "cell_type": "markdown",
   "metadata": {},
   "source": [
    "####  20 latest earthquakes info (date, time, latitude, longitude and region name) by the EMSC as a pandas dataframe"
   ]
  },
  {
   "cell_type": "code",
   "execution_count": 163,
   "metadata": {},
   "outputs": [],
   "source": [
    "# This is the url you will scrape in this exercise\n",
    "url = 'https://www.emsc-csem.org/Earthquake/'\n",
    "res = requests.get(url)\n",
    "soup = BeautifulSoup(res.text)"
   ]
  },
  {
   "cell_type": "code",
   "execution_count": 292,
   "metadata": {},
   "outputs": [
    {
     "name": "stdout",
     "output_type": "stream",
     "text": [
      "[{'date': '2020-04-09', 'time': '16:57:16.0', 'latitude': '7.38S', 'longitude': '129.39E', 'region name': 'KEPULAUAN BABAR, INDONESIA'}, {'date': '2020-04-09', 'time': '16:50:33.2', 'latitude': '33.25N', 'longitude': '116.64W', 'region name': 'SOUTHERN CALIFORNIA'}, {'date': '2020-04-09', 'time': '16:30:28.8', 'latitude': '42.11N', 'longitude': '20.70E', 'region name': 'KOSOVO *'}, {'date': '2020-04-09', 'time': '16:25:02.0', 'latitude': '15.76N', 'longitude': '119.18E', 'region name': 'LUZON, PHILIPPINES'}, {'date': '2020-04-09', 'time': '16:23:08.8', 'latitude': '19.20N', 'longitude': '155.42W', 'region name': 'ISLAND OF HAWAII, HAWAII'}, {'date': '2020-04-09', 'time': '16:19:26.4', 'latitude': '45.87N', 'longitude': '16.02E', 'region name': 'CROATIA'}, {'date': '2020-04-09', 'time': '16:09:45.0', 'latitude': '38.67N', 'longitude': '29.05W', 'region name': 'AZORES ISLANDS, PORTUGAL'}, {'date': '2020-04-09', 'time': '16:07:51.7', 'latitude': '30.81S', 'longitude': '177.01W', 'region name': 'KERMADEC ISLANDS, NEW ZEALAND'}, {'date': '2020-04-09', 'time': '15:46:30.0', 'latitude': '36.50N', 'longitude': '141.00E', 'region name': 'NEAR EAST COAST OF HONSHU, JAPAN'}, {'date': '2020-04-09', 'time': '15:36:38.4', 'latitude': '39.59N', 'longitude': '26.02E', 'region name': 'NEAR THE COAST OF WESTERN TURKEY'}, {'date': '2020-04-09', 'time': '15:31:51.5', 'latitude': '41.49N', 'longitude': '19.46E', 'region name': 'ADRIATIC SEA'}, {'date': '2020-04-09', 'time': '15:28:05.3', 'latitude': '36.26N', 'longitude': '95.20W', 'region name': 'OKLAHOMA'}, {'date': '2020-04-09', 'time': '15:15:31.0', 'latitude': '16.79N', 'longitude': '99.85W', 'region name': 'OFFSHORE GUERRERO, MEXICO'}, {'date': '2020-04-09', 'time': '15:13:51.8', 'latitude': '17.93N', 'longitude': '66.84W', 'region name': 'PUERTO RICO REGION'}, {'date': '2020-04-09', 'time': '15:06:23.6', 'latitude': '39.14N', 'longitude': '27.84E', 'region name': 'WESTERN TURKEY'}, {'date': '2020-04-09', 'time': '14:36:20.0', 'latitude': '9.62S', 'longitude': '112.48E', 'region name': 'SOUTH OF JAVA, INDONESIA'}, {'date': '2020-04-09', 'time': '14:22:41.0', 'latitude': '20.88N', 'longitude': '120.46E', 'region name': 'PHILIPPINE ISLANDS REGION'}, {'date': '2020-04-09', 'time': '14:16:49.8', 'latitude': '52.71N', 'longitude': '170.59W', 'region name': 'FOX ISLANDS, ALEUTIAN ISLANDS'}, {'date': '2020-04-09', 'time': '14:09:49.0', 'latitude': '8.71S', 'longitude': '122.01E', 'region name': 'FLORES REGION, INDONESIA'}, {'date': '2020-04-09', 'time': '14:06:51.9', 'latitude': '18.20S', 'longitude': '69.58W', 'region name': 'TARAPACA, CHILE'}]\n"
     ]
    }
   ],
   "source": [
    "#your code\n",
    "eq_info = soup.select(\"tbody > tr\")\n",
    "eq_info20 = eq_info[0:20]\n",
    "list_eq =[]\n",
    "\n",
    "\n",
    "for i in range(len(eq_info20)):\n",
    "    list_eq.append({\"date\":eq_info20[i].select(\"b > a\")[0].text[:10],\n",
    "                 \"time\":eq_info20[i].select(\"b > a\")[0].text[13:],\n",
    "                 \"latitude\":eq_info20[i].select(\"td.tabev1\")[0].text[:-1]+eq_info20[i].select(\"td.tabev2\")[0].text[0],\n",
    "                 \"longitude\":eq_info20[i].select(\"td.tabev1\")[1].text[:-1]+eq_info20[i].select(\"td.tabev2\")[1].text[0],\n",
    "                 \"region name\":(eq_info20[i].select(\"td.tb_region\")[0].text)[1:]})\n",
    "    \n",
    "\n",
    "print(list_eq)"
   ]
  },
  {
   "cell_type": "markdown",
   "metadata": {},
   "source": [
    "#### Display the date, days, title, city, country of next 25 hackathon events as a Pandas dataframe table"
   ]
  },
  {
   "cell_type": "code",
   "execution_count": null,
   "metadata": {},
   "outputs": [],
   "source": [
    "# This is the url you will scrape in this exercise\n",
    "url ='https://hackevents.co/hackathons'"
   ]
  },
  {
   "cell_type": "code",
   "execution_count": null,
   "metadata": {},
   "outputs": [],
   "source": [
    "#your code"
   ]
  },
  {
   "cell_type": "markdown",
   "metadata": {},
   "source": [
    "#### Count number of tweets by a given Twitter account."
   ]
  },
  {
   "cell_type": "markdown",
   "metadata": {},
   "source": [
    "You will need to include a ***try/except block*** for account names not found. \n",
    "<br>***Hint:*** the program should count the number of tweets for any provided account"
   ]
  },
  {
   "cell_type": "code",
   "execution_count": null,
   "metadata": {},
   "outputs": [],
   "source": [
    "# This is the url you will scrape in this exercise \n",
    "# You will need to add the account credentials to this url\n",
    "url = 'https://twitter.com/'"
   ]
  },
  {
   "cell_type": "code",
   "execution_count": null,
   "metadata": {},
   "outputs": [],
   "source": [
    "#your code"
   ]
  },
  {
   "cell_type": "markdown",
   "metadata": {},
   "source": [
    "#### Number of followers of a given twitter account"
   ]
  },
  {
   "cell_type": "markdown",
   "metadata": {},
   "source": [
    "You will need to include a ***try/except block*** in case account/s name not found. \n",
    "<br>***Hint:*** the program should count the followers for any provided account"
   ]
  },
  {
   "cell_type": "code",
   "execution_count": null,
   "metadata": {},
   "outputs": [],
   "source": [
    "# This is the url you will scrape in this exercise \n",
    "# You will need to add the account credentials to this url\n",
    "url = 'https://twitter.com/'"
   ]
  },
  {
   "cell_type": "code",
   "execution_count": null,
   "metadata": {},
   "outputs": [],
   "source": [
    "#your code"
   ]
  },
  {
   "cell_type": "markdown",
   "metadata": {},
   "source": [
    "#### List all language names and number of related articles in the order they appear in wikipedia.org"
   ]
  },
  {
   "cell_type": "code",
   "execution_count": null,
   "metadata": {},
   "outputs": [],
   "source": [
    "# This is the url you will scrape in this exercise\n",
    "url = 'https://www.wikipedia.org/'"
   ]
  },
  {
   "cell_type": "code",
   "execution_count": null,
   "metadata": {},
   "outputs": [],
   "source": [
    "#your code"
   ]
  },
  {
   "cell_type": "markdown",
   "metadata": {},
   "source": [
    "#### A list with the different kind of datasets available in data.gov.uk "
   ]
  },
  {
   "cell_type": "code",
   "execution_count": null,
   "metadata": {},
   "outputs": [],
   "source": [
    "# This is the url you will scrape in this exercise\n",
    "url = 'https://data.gov.uk/'"
   ]
  },
  {
   "cell_type": "code",
   "execution_count": null,
   "metadata": {},
   "outputs": [],
   "source": [
    "#your code "
   ]
  },
  {
   "cell_type": "markdown",
   "metadata": {},
   "source": [
    "#### Top 10 languages by number of native speakers stored in a Pandas Dataframe"
   ]
  },
  {
   "cell_type": "code",
   "execution_count": null,
   "metadata": {},
   "outputs": [],
   "source": [
    "# This is the url you will scrape in this exercise\n",
    "url = 'https://en.wikipedia.org/wiki/List_of_languages_by_number_of_native_speakers'"
   ]
  },
  {
   "cell_type": "code",
   "execution_count": null,
   "metadata": {},
   "outputs": [],
   "source": [
    "#your code"
   ]
  },
  {
   "cell_type": "markdown",
   "metadata": {},
   "source": [
    "### BONUS QUESTIONS"
   ]
  },
  {
   "cell_type": "markdown",
   "metadata": {},
   "source": [
    "#### Scrape a certain number of tweets of a given Twitter account."
   ]
  },
  {
   "cell_type": "code",
   "execution_count": null,
   "metadata": {},
   "outputs": [],
   "source": [
    "# This is the url you will scrape in this exercise \n",
    "# You will need to add the account credentials to this url\n",
    "url = 'https://twitter.com/'"
   ]
  },
  {
   "cell_type": "code",
   "execution_count": null,
   "metadata": {},
   "outputs": [],
   "source": [
    "# your code"
   ]
  },
  {
   "cell_type": "markdown",
   "metadata": {},
   "source": [
    "#### IMDB's Top 250 data (movie name, Initial release, director name and stars) as a pandas dataframe"
   ]
  },
  {
   "cell_type": "code",
   "execution_count": null,
   "metadata": {},
   "outputs": [],
   "source": [
    "# This is the url you will scrape in this exercise \n",
    "url = 'https://www.imdb.com/chart/top'"
   ]
  },
  {
   "cell_type": "code",
   "execution_count": null,
   "metadata": {},
   "outputs": [],
   "source": [
    "# your code"
   ]
  },
  {
   "cell_type": "markdown",
   "metadata": {},
   "source": [
    "#### Movie name, year and a brief summary of the top 10 random movies (IMDB) as a pandas dataframe."
   ]
  },
  {
   "cell_type": "code",
   "execution_count": null,
   "metadata": {},
   "outputs": [],
   "source": [
    "#This is the url you will scrape in this exercise\n",
    "url = 'http://www.imdb.com/chart/top'"
   ]
  },
  {
   "cell_type": "code",
   "execution_count": null,
   "metadata": {},
   "outputs": [],
   "source": [
    "#your code"
   ]
  },
  {
   "cell_type": "markdown",
   "metadata": {},
   "source": [
    "#### Find the live weather report (temperature, wind speed, description and weather) of a given city."
   ]
  },
  {
   "cell_type": "code",
   "execution_count": null,
   "metadata": {},
   "outputs": [],
   "source": [
    "#https://openweathermap.org/current\n",
    "city = city=input('Enter the city:')\n",
    "url = 'http://api.openweathermap.org/data/2.5/weather?'+'q='+city+'&APPID=b35975e18dc93725acb092f7272cc6b8&units=metric'"
   ]
  },
  {
   "cell_type": "code",
   "execution_count": null,
   "metadata": {},
   "outputs": [],
   "source": [
    "# your code"
   ]
  },
  {
   "cell_type": "markdown",
   "metadata": {},
   "source": [
    "#### Book name,price and stock availability as a pandas dataframe."
   ]
  },
  {
   "cell_type": "code",
   "execution_count": null,
   "metadata": {},
   "outputs": [],
   "source": [
    "# This is the url you will scrape in this exercise. \n",
    "# It is a fictional bookstore created to be scraped. \n",
    "url = 'http://books.toscrape.com/'"
   ]
  },
  {
   "cell_type": "code",
   "execution_count": null,
   "metadata": {},
   "outputs": [],
   "source": [
    "#your code"
   ]
  }
 ],
 "metadata": {
  "kernelspec": {
   "display_name": "Python 3",
   "language": "python",
   "name": "python3"
  },
  "language_info": {
   "codemirror_mode": {
    "name": "ipython",
    "version": 3
   },
   "file_extension": ".py",
   "mimetype": "text/x-python",
   "name": "python",
   "nbconvert_exporter": "python",
   "pygments_lexer": "ipython3",
   "version": "3.7.5"
  }
 },
 "nbformat": 4,
 "nbformat_minor": 4
}
