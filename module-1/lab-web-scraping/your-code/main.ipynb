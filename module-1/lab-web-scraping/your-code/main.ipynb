{
 "cells": [
  {
   "cell_type": "markdown",
   "metadata": {},
   "source": [
    "# Web Scraping Lab\n",
    "\n",
    "You will find in this notebook some scrapy exercises to practise your scraping skills.\n",
    "\n",
    "**Tips:**\n",
    "\n",
    "- Check the response status code for each request to ensure you have obtained the intended contennt.\n",
    "- Print the response text in each request to understand the kind of info you are getting and its format.\n",
    "- Check for patterns in the response text to extract the data/info requested in each question.\n",
    "- Visit each url and take a look at its source through Chrome DevTools. You'll need to identify the html tags, special class names etc. used for the html content you are expected to extract."
   ]
  },
  {
   "cell_type": "markdown",
   "metadata": {},
   "source": [
    "- [Requests library](http://docs.python-requests.org/en/master/#the-user-guide) documentation \n",
    "- [Beautiful Soup Doc](https://www.crummy.com/software/BeautifulSoup/bs4/doc/)\n",
    "- [Urllib](https://docs.python.org/3/library/urllib.html#module-urllib)\n",
    "- [re lib](https://docs.python.org/3/library/re.html)\n",
    "- [lxml lib](https://lxml.de/)\n",
    "- [Scrapy](https://scrapy.org/)\n",
    "- [List of HTTP status codes](https://en.wikipedia.org/wiki/List_of_HTTP_status_codes)\n",
    "- [HTML basics](http://www.simplehtmlguide.com/cheatsheet.php)\n",
    "- [CSS basics](https://www.cssbasics.com/#page_start)"
   ]
  },
  {
   "cell_type": "markdown",
   "metadata": {},
   "source": [
    "#### Below are the libraries and modules you may need. `requests`,  `BeautifulSoup` and `pandas` are imported for you. If you prefer to use additional libraries feel free to uncomment them."
   ]
  },
  {
   "cell_type": "code",
   "execution_count": 469,
   "metadata": {},
   "outputs": [],
   "source": [
    "import requests\n",
    "from bs4 import BeautifulSoup\n",
    "import pandas as pd\n",
    "# from pprint import pprint\n",
    "# from lxml import html\n",
    "# from lxml.html import fromstring\n",
    "# import urllib.request\n",
    "# from urllib.request import urlopen\n",
    "# import random\n",
    "import re\n",
    "# import scrapy"
   ]
  },
  {
   "cell_type": "markdown",
   "metadata": {},
   "source": [
    "#### Download, parse (using BeautifulSoup), and print the content from the Trending Developers page from GitHub:"
   ]
  },
  {
   "cell_type": "code",
   "execution_count": 307,
   "metadata": {},
   "outputs": [],
   "source": [
    "# This is the url you will scrape in this exercise\n",
    "url = 'https://github.com/trending/developers'"
   ]
  },
  {
   "cell_type": "code",
   "execution_count": 308,
   "metadata": {},
   "outputs": [],
   "source": [
    "#your code\n",
    "res = requests.get(url)\n",
    "soup = BeautifulSoup(res.text)\n"
   ]
  },
  {
   "cell_type": "markdown",
   "metadata": {},
   "source": [
    "#### Display the names of the trending developers retrieved in the previous step.\n",
    "\n",
    "Your output should be a Python list of developer names. Each name should not contain any html tag.\n",
    "\n",
    "**Instructions:**\n",
    "\n",
    "1. Find out the html tag and class names used for the developer names. You can achieve this using Chrome DevTools.\n",
    "\n",
    "1. Use BeautifulSoup to extract all the html elements that contain the developer names.\n",
    "\n",
    "1. Use string manipulation techniques to replace whitespaces and linebreaks (i.e. `\\n`) in the *text* of each html element. Use a list to store the clean names.\n",
    "\n",
    "1. Print the list of names.\n",
    "\n",
    "Your output should look like below:\n",
    "\n",
    "```\n",
    "['trimstray (@trimstray)',\n",
    " 'joewalnes (JoeWalnes)',\n",
    " 'charlax (Charles-AxelDein)',\n",
    " 'ForrestKnight (ForrestKnight)',\n",
    " 'revery-ui (revery-ui)',\n",
    " 'alibaba (Alibaba)',\n",
    " 'Microsoft (Microsoft)',\n",
    " 'github (GitHub)',\n",
    " 'facebook (Facebook)',\n",
    " 'boazsegev (Bo)',\n",
    " 'google (Google)',\n",
    " 'cloudfetch',\n",
    " 'sindresorhus (SindreSorhus)',\n",
    " 'tensorflow',\n",
    " 'apache (TheApacheSoftwareFoundation)',\n",
    " 'DevonCrawford (DevonCrawford)',\n",
    " 'ARMmbed (ArmMbed)',\n",
    " 'vuejs (vuejs)',\n",
    " 'fastai (fast.ai)',\n",
    " 'QiShaoXuan (Qi)',\n",
    " 'joelparkerhenderson (JoelParkerHenderson)',\n",
    " 'torvalds (LinusTorvalds)',\n",
    " 'CyC2018',\n",
    " 'komeiji-satori (神楽坂覚々)',\n",
    " 'script-8']\n",
    " ```"
   ]
  },
  {
   "cell_type": "code",
   "execution_count": 401,
   "metadata": {},
   "outputs": [
    {
     "data": {
      "text/plain": [
       "['Jeremy Apthorp (nornagon)',\n",
       " 'Jonah Williams (jonahwilliams)',\n",
       " 'Felix Angelov (felangel)',\n",
       " 'chencheng (云谦) (sorrycc)',\n",
       " 'Sebastián Ramírez (tiangolo)',\n",
       " 'Mariusz Nowak (medikoo)',\n",
       " 'Dawid Urbaniak (Trancever)',\n",
       " 'Jeffrey Su (JeffreySu)',\n",
       " 'Hugo Bowne-Anderson (hugobowne)',\n",
       " 'Felipe Fialho (felipefialho)',\n",
       " 'Yuri Shkuro (yurishkuro)',\n",
       " 'R.I.Pienaar (ripienaar)',\n",
       " 'Zeno Rocha (zenorocha)',\n",
       " 'Maxim Kulkin (maximkulkin)',\n",
       " 'Robert Mosolgo (rmosolgo)',\n",
       " 'Pierre Krieger (tomaka)',\n",
       " 'Iman (imanghafoori1)',\n",
       " 'Luis Alvarez D. (lfades)',\n",
       " 'Matic Zavadlal (maticzav)',\n",
       " 'Marten Seemann (marten-seemann)',\n",
       " 'David Peter (sharkdp)',\n",
       " 'Jake Wharton (JakeWharton)',\n",
       " 'Jeff Bezanson (JeffBezanson)',\n",
       " 'James Munnelly (munnerz)',\n",
       " 'Matthew Johnson (mattjj)']"
      ]
     },
     "execution_count": 401,
     "metadata": {},
     "output_type": "execute_result"
    }
   ],
   "source": [
    "#your code\n",
    "dev_names = soup.select(\"div.col-md-6 > h1\")\n",
    "\n",
    "list_names = []\n",
    "for i in range(len(dev_names)):\n",
    "    list_names.append(re.search(r\"\\w.*\", dev_names[i].text).group()+\" (\"+\n",
    "                       dev_names[i].select(\"a[href]\")[0][\"href\"].replace(\"/\",\"\")+\")\")\n",
    "list_names"
   ]
  },
  {
   "cell_type": "markdown",
   "metadata": {},
   "source": [
    "#### Display the trending Python repositories in GitHub\n",
    "\n",
    "The steps to solve this problem is similar to the previous one except that you need to find out the repository names instead of developer names."
   ]
  },
  {
   "cell_type": "code",
   "execution_count": 405,
   "metadata": {},
   "outputs": [],
   "source": [
    "# This is the url you will scrape in this exercise\n",
    "url = 'https://github.com/trending/python?since=daily'"
   ]
  },
  {
   "cell_type": "code",
   "execution_count": 406,
   "metadata": {},
   "outputs": [],
   "source": [
    "#your code\n",
    "res = requests.get(url)\n",
    "soup = BeautifulSoup(res.text)"
   ]
  },
  {
   "cell_type": "code",
   "execution_count": 413,
   "metadata": {},
   "outputs": [
    {
     "data": {
      "text/plain": [
       "['rojter-tech/pluradl.py',\n",
       " 'caoscott/SReC',\n",
       " '0voice/interview_internal_reference',\n",
       " 'ageitgey/face_recognition',\n",
       " 'manchenkoff/skillbox-async-chat',\n",
       " 'XiaohangZhan/deocclusion',\n",
       " 'google-research/text-to-text-transfer-transformer',\n",
       " 'kon9chunkit/GitHub-Chinese-Top-Charts',\n",
       " 'tiangolo/fastapi',\n",
       " 'CorentinJ/Real-Time-Voice-Cloning',\n",
       " 'home-assistant/core',\n",
       " 'alex04072000/ObstructionRemoval',\n",
       " 'pcomputo/Whole-Foods-Delivery-Slot',\n",
       " 'CharlesPikachu/Games',\n",
       " 'doccano/doccano',\n",
       " 'google/jax',\n",
       " 'hankcs/HanLP',\n",
       " 'Sentdex/pygta5',\n",
       " 'ray-project/ray',\n",
       " 'Yelp/elastalert',\n",
       " 'timgrossmann/InstaPy',\n",
       " 'huggingface/transformers',\n",
       " 'ikergarcia1996/Self-Driving-Car-in-Video-Games',\n",
       " 'fizyr/keras-retinanet',\n",
       " 'apache/airflow']"
      ]
     },
     "execution_count": 413,
     "metadata": {},
     "output_type": "execute_result"
    }
   ],
   "source": [
    "repos_names = soup.select(\"h1 > a\")\n",
    "list_repos=[]\n",
    "\n",
    "for i in range(len(repos_names)):\n",
    "    list_repos.append(repos_names[i].text.replace(\"\\n\",\"\").replace(\" \",\"\"))\n",
    "list_repos"
   ]
  },
  {
   "cell_type": "markdown",
   "metadata": {},
   "source": [
    "#### Display all the image links from Walt Disney wikipedia page"
   ]
  },
  {
   "cell_type": "code",
   "execution_count": 489,
   "metadata": {},
   "outputs": [],
   "source": [
    "# This is the url you will scrape in this exercise\n",
    "url = 'https://en.wikipedia.org/wiki/Walt_Disney'\n",
    "res = requests.get(url)\n",
    "soup = BeautifulSoup(res.text)"
   ]
  },
  {
   "cell_type": "code",
   "execution_count": 490,
   "metadata": {},
   "outputs": [],
   "source": [
    "#your code\n",
    "# obtengo todas las imagenes relacionadas con el body\n",
    "images = soup.select(\"td > a > img\") #para las imágenes del colspan\n",
    "list_images = []\n",
    "for i in range(len(images)):\n",
    "    list_images.append(images[i][\"src\"][2:])\n",
    "\n",
    "images2 = soup.select(\"div.thumbinner > a > img\") #para las imagenes del texto\n",
    "for i in range(len(images2)):\n",
    "    list_images.append(images2[i][\"src\"][2:]) \n",
    "#list_images"
   ]
  },
  {
   "cell_type": "code",
   "execution_count": 491,
   "metadata": {},
   "outputs": [],
   "source": [
    "#obtengo todas las imágenes de esa web\n",
    "all_images=[]\n",
    "for image in soup.find_all(\"img\"):\n",
    "    if \"src\" in image.attrs:\n",
    "        all_images.append(image.attrs[\"src\"][2:])\n",
    "#all_images"
   ]
  },
  {
   "cell_type": "markdown",
   "metadata": {},
   "source": [
    "#### Retrieve an arbitary Wikipedia page of \"Python\" and create a list of links on that page"
   ]
  },
  {
   "cell_type": "code",
   "execution_count": 503,
   "metadata": {},
   "outputs": [],
   "source": [
    "# This is the url you will scrape in this exercise\n",
    "url ='https://en.wikipedia.org/wiki/Python' \n",
    "res = requests.get(url)\n",
    "soup = BeautifulSoup(res.text)"
   ]
  },
  {
   "cell_type": "code",
   "execution_count": 506,
   "metadata": {},
   "outputs": [
    {
     "data": {
      "text/plain": [
       "158"
      ]
     },
     "execution_count": 506,
     "metadata": {},
     "output_type": "execute_result"
    }
   ],
   "source": [
    "#your code\n",
    "# obtengo todos los links\n",
    "list_links = []\n",
    "for link in soup.find_all(\"a\"):\n",
    "    if \"href\" in link.attrs:\n",
    "        list_links.append(link.attrs[\"href\"])\n",
    "len(list_links)\n",
    "#list_links"
   ]
  },
  {
   "cell_type": "markdown",
   "metadata": {},
   "source": [
    "#### Number of Titles that have changed in the United States Code since its last release point "
   ]
  },
  {
   "cell_type": "code",
   "execution_count": 507,
   "metadata": {},
   "outputs": [],
   "source": [
    "# This is the url you will scrape in this exercise\n",
    "url = 'http://uscode.house.gov/download/download.shtml'\n",
    "res = requests.get(url)\n",
    "soup = BeautifulSoup(res.text)"
   ]
  },
  {
   "cell_type": "code",
   "execution_count": 515,
   "metadata": {},
   "outputs": [
    {
     "name": "stdout",
     "output_type": "stream",
     "text": [
      "4\n"
     ]
    },
    {
     "data": {
      "text/plain": [
       "['8', '22', '29', '42']"
      ]
     },
     "execution_count": 515,
     "metadata": {},
     "output_type": "execute_result"
    }
   ],
   "source": [
    "#your code\n",
    "titles = soup.select(\"div.uscitem > div.usctitlechanged\")\n",
    "list_number_title = []\n",
    "\n",
    "for i in range(len(titles)):\n",
    "    list_number_title.append(re.search(r\"\\d+\",titles[i].text).group())\n",
    "    \n",
    "print(len(titles))\n",
    "list_number_title"
   ]
  },
  {
   "cell_type": "markdown",
   "metadata": {},
   "source": [
    "#### A Python list with the top ten FBI's Most Wanted names "
   ]
  },
  {
   "cell_type": "code",
   "execution_count": 159,
   "metadata": {},
   "outputs": [],
   "source": [
    "# This is the url you will scrape in this exercise\n",
    "url = 'https://www.fbi.gov/wanted/topten'\n",
    "res = requests.get(url)\n",
    "soup = BeautifulSoup(res.text)"
   ]
  },
  {
   "cell_type": "code",
   "execution_count": 162,
   "metadata": {},
   "outputs": [
    {
     "name": "stdout",
     "output_type": "stream",
     "text": [
      "['YASER ABDEL SAID', 'ALEXIS FLORES', 'EUGENE PALMER', 'SANTIAGO VILLALBA MEDEROS', 'RAFAEL CARO-QUINTERO', 'ROBERT WILLIAM FISHER', 'BHADRESHKUMAR CHETANBHAI PATEL', 'ALEJANDRO ROSALES CASTILLO', 'ARNOLDO JIMENEZ', 'JASON DEREK BROWN']\n"
     ]
    }
   ],
   "source": [
    "#your code \n",
    "top_ten_list =[]\n",
    "top_ten = soup.select(\"li > h3 > a\")\n",
    "for e in top_ten:\n",
    "    top_ten_list.append(e.text)\n",
    "print(top_ten_list)"
   ]
  },
  {
   "cell_type": "markdown",
   "metadata": {},
   "source": [
    "####  20 latest earthquakes info (date, time, latitude, longitude and region name) by the EMSC as a pandas dataframe"
   ]
  },
  {
   "cell_type": "code",
   "execution_count": 163,
   "metadata": {},
   "outputs": [],
   "source": [
    "# This is the url you will scrape in this exercise\n",
    "url = 'https://www.emsc-csem.org/Earthquake/'\n",
    "res = requests.get(url)\n",
    "soup = BeautifulSoup(res.text)"
   ]
  },
  {
   "cell_type": "code",
   "execution_count": 293,
   "metadata": {},
   "outputs": [
    {
     "data": {
      "text/html": [
       "<div>\n",
       "<style scoped>\n",
       "    .dataframe tbody tr th:only-of-type {\n",
       "        vertical-align: middle;\n",
       "    }\n",
       "\n",
       "    .dataframe tbody tr th {\n",
       "        vertical-align: top;\n",
       "    }\n",
       "\n",
       "    .dataframe thead th {\n",
       "        text-align: right;\n",
       "    }\n",
       "</style>\n",
       "<table border=\"1\" class=\"dataframe\">\n",
       "  <thead>\n",
       "    <tr style=\"text-align: right;\">\n",
       "      <th></th>\n",
       "      <th>date</th>\n",
       "      <th>time</th>\n",
       "      <th>latitude</th>\n",
       "      <th>longitude</th>\n",
       "      <th>region name</th>\n",
       "    </tr>\n",
       "  </thead>\n",
       "  <tbody>\n",
       "    <tr>\n",
       "      <th>0</th>\n",
       "      <td>2020-04-09</td>\n",
       "      <td>16:57:16.0</td>\n",
       "      <td>7.38S</td>\n",
       "      <td>129.39E</td>\n",
       "      <td>KEPULAUAN BABAR, INDONESIA</td>\n",
       "    </tr>\n",
       "    <tr>\n",
       "      <th>1</th>\n",
       "      <td>2020-04-09</td>\n",
       "      <td>16:50:33.2</td>\n",
       "      <td>33.25N</td>\n",
       "      <td>116.64W</td>\n",
       "      <td>SOUTHERN CALIFORNIA</td>\n",
       "    </tr>\n",
       "    <tr>\n",
       "      <th>2</th>\n",
       "      <td>2020-04-09</td>\n",
       "      <td>16:30:28.8</td>\n",
       "      <td>42.11N</td>\n",
       "      <td>20.70E</td>\n",
       "      <td>KOSOVO *</td>\n",
       "    </tr>\n",
       "    <tr>\n",
       "      <th>3</th>\n",
       "      <td>2020-04-09</td>\n",
       "      <td>16:25:02.0</td>\n",
       "      <td>15.76N</td>\n",
       "      <td>119.18E</td>\n",
       "      <td>LUZON, PHILIPPINES</td>\n",
       "    </tr>\n",
       "    <tr>\n",
       "      <th>4</th>\n",
       "      <td>2020-04-09</td>\n",
       "      <td>16:23:08.8</td>\n",
       "      <td>19.20N</td>\n",
       "      <td>155.42W</td>\n",
       "      <td>ISLAND OF HAWAII, HAWAII</td>\n",
       "    </tr>\n",
       "    <tr>\n",
       "      <th>5</th>\n",
       "      <td>2020-04-09</td>\n",
       "      <td>16:19:26.4</td>\n",
       "      <td>45.87N</td>\n",
       "      <td>16.02E</td>\n",
       "      <td>CROATIA</td>\n",
       "    </tr>\n",
       "    <tr>\n",
       "      <th>6</th>\n",
       "      <td>2020-04-09</td>\n",
       "      <td>16:09:45.0</td>\n",
       "      <td>38.67N</td>\n",
       "      <td>29.05W</td>\n",
       "      <td>AZORES ISLANDS, PORTUGAL</td>\n",
       "    </tr>\n",
       "    <tr>\n",
       "      <th>7</th>\n",
       "      <td>2020-04-09</td>\n",
       "      <td>16:07:51.7</td>\n",
       "      <td>30.81S</td>\n",
       "      <td>177.01W</td>\n",
       "      <td>KERMADEC ISLANDS, NEW ZEALAND</td>\n",
       "    </tr>\n",
       "    <tr>\n",
       "      <th>8</th>\n",
       "      <td>2020-04-09</td>\n",
       "      <td>15:46:30.0</td>\n",
       "      <td>36.50N</td>\n",
       "      <td>141.00E</td>\n",
       "      <td>NEAR EAST COAST OF HONSHU, JAPAN</td>\n",
       "    </tr>\n",
       "    <tr>\n",
       "      <th>9</th>\n",
       "      <td>2020-04-09</td>\n",
       "      <td>15:36:38.4</td>\n",
       "      <td>39.59N</td>\n",
       "      <td>26.02E</td>\n",
       "      <td>NEAR THE COAST OF WESTERN TURKEY</td>\n",
       "    </tr>\n",
       "    <tr>\n",
       "      <th>10</th>\n",
       "      <td>2020-04-09</td>\n",
       "      <td>15:31:51.5</td>\n",
       "      <td>41.49N</td>\n",
       "      <td>19.46E</td>\n",
       "      <td>ADRIATIC SEA</td>\n",
       "    </tr>\n",
       "    <tr>\n",
       "      <th>11</th>\n",
       "      <td>2020-04-09</td>\n",
       "      <td>15:28:05.3</td>\n",
       "      <td>36.26N</td>\n",
       "      <td>95.20W</td>\n",
       "      <td>OKLAHOMA</td>\n",
       "    </tr>\n",
       "    <tr>\n",
       "      <th>12</th>\n",
       "      <td>2020-04-09</td>\n",
       "      <td>15:15:31.0</td>\n",
       "      <td>16.79N</td>\n",
       "      <td>99.85W</td>\n",
       "      <td>OFFSHORE GUERRERO, MEXICO</td>\n",
       "    </tr>\n",
       "    <tr>\n",
       "      <th>13</th>\n",
       "      <td>2020-04-09</td>\n",
       "      <td>15:13:51.8</td>\n",
       "      <td>17.93N</td>\n",
       "      <td>66.84W</td>\n",
       "      <td>PUERTO RICO REGION</td>\n",
       "    </tr>\n",
       "    <tr>\n",
       "      <th>14</th>\n",
       "      <td>2020-04-09</td>\n",
       "      <td>15:06:23.6</td>\n",
       "      <td>39.14N</td>\n",
       "      <td>27.84E</td>\n",
       "      <td>WESTERN TURKEY</td>\n",
       "    </tr>\n",
       "    <tr>\n",
       "      <th>15</th>\n",
       "      <td>2020-04-09</td>\n",
       "      <td>14:36:20.0</td>\n",
       "      <td>9.62S</td>\n",
       "      <td>112.48E</td>\n",
       "      <td>SOUTH OF JAVA, INDONESIA</td>\n",
       "    </tr>\n",
       "    <tr>\n",
       "      <th>16</th>\n",
       "      <td>2020-04-09</td>\n",
       "      <td>14:22:41.0</td>\n",
       "      <td>20.88N</td>\n",
       "      <td>120.46E</td>\n",
       "      <td>PHILIPPINE ISLANDS REGION</td>\n",
       "    </tr>\n",
       "    <tr>\n",
       "      <th>17</th>\n",
       "      <td>2020-04-09</td>\n",
       "      <td>14:16:49.8</td>\n",
       "      <td>52.71N</td>\n",
       "      <td>170.59W</td>\n",
       "      <td>FOX ISLANDS, ALEUTIAN ISLANDS</td>\n",
       "    </tr>\n",
       "    <tr>\n",
       "      <th>18</th>\n",
       "      <td>2020-04-09</td>\n",
       "      <td>14:09:49.0</td>\n",
       "      <td>8.71S</td>\n",
       "      <td>122.01E</td>\n",
       "      <td>FLORES REGION, INDONESIA</td>\n",
       "    </tr>\n",
       "    <tr>\n",
       "      <th>19</th>\n",
       "      <td>2020-04-09</td>\n",
       "      <td>14:06:51.9</td>\n",
       "      <td>18.20S</td>\n",
       "      <td>69.58W</td>\n",
       "      <td>TARAPACA, CHILE</td>\n",
       "    </tr>\n",
       "  </tbody>\n",
       "</table>\n",
       "</div>"
      ],
      "text/plain": [
       "          date        time latitude longitude  \\\n",
       "0   2020-04-09  16:57:16.0    7.38S   129.39E   \n",
       "1   2020-04-09  16:50:33.2   33.25N   116.64W   \n",
       "2   2020-04-09  16:30:28.8   42.11N    20.70E   \n",
       "3   2020-04-09  16:25:02.0   15.76N   119.18E   \n",
       "4   2020-04-09  16:23:08.8   19.20N   155.42W   \n",
       "5   2020-04-09  16:19:26.4   45.87N    16.02E   \n",
       "6   2020-04-09  16:09:45.0   38.67N    29.05W   \n",
       "7   2020-04-09  16:07:51.7   30.81S   177.01W   \n",
       "8   2020-04-09  15:46:30.0   36.50N   141.00E   \n",
       "9   2020-04-09  15:36:38.4   39.59N    26.02E   \n",
       "10  2020-04-09  15:31:51.5   41.49N    19.46E   \n",
       "11  2020-04-09  15:28:05.3   36.26N    95.20W   \n",
       "12  2020-04-09  15:15:31.0   16.79N    99.85W   \n",
       "13  2020-04-09  15:13:51.8   17.93N    66.84W   \n",
       "14  2020-04-09  15:06:23.6   39.14N    27.84E   \n",
       "15  2020-04-09  14:36:20.0    9.62S   112.48E   \n",
       "16  2020-04-09  14:22:41.0   20.88N   120.46E   \n",
       "17  2020-04-09  14:16:49.8   52.71N   170.59W   \n",
       "18  2020-04-09  14:09:49.0    8.71S   122.01E   \n",
       "19  2020-04-09  14:06:51.9   18.20S    69.58W   \n",
       "\n",
       "                         region name  \n",
       "0         KEPULAUAN BABAR, INDONESIA  \n",
       "1                SOUTHERN CALIFORNIA  \n",
       "2                           KOSOVO *  \n",
       "3                 LUZON, PHILIPPINES  \n",
       "4           ISLAND OF HAWAII, HAWAII  \n",
       "5                            CROATIA  \n",
       "6           AZORES ISLANDS, PORTUGAL  \n",
       "7      KERMADEC ISLANDS, NEW ZEALAND  \n",
       "8   NEAR EAST COAST OF HONSHU, JAPAN  \n",
       "9   NEAR THE COAST OF WESTERN TURKEY  \n",
       "10                      ADRIATIC SEA  \n",
       "11                          OKLAHOMA  \n",
       "12         OFFSHORE GUERRERO, MEXICO  \n",
       "13                PUERTO RICO REGION  \n",
       "14                    WESTERN TURKEY  \n",
       "15          SOUTH OF JAVA, INDONESIA  \n",
       "16         PHILIPPINE ISLANDS REGION  \n",
       "17     FOX ISLANDS, ALEUTIAN ISLANDS  \n",
       "18          FLORES REGION, INDONESIA  \n",
       "19                   TARAPACA, CHILE  "
      ]
     },
     "execution_count": 293,
     "metadata": {},
     "output_type": "execute_result"
    }
   ],
   "source": [
    "#your code\n",
    "eq_info = soup.select(\"tbody > tr\")\n",
    "eq_info20 = eq_info[0:20]\n",
    "list_eq =[]\n",
    "\n",
    "\n",
    "for i in range(len(eq_info20)):\n",
    "    list_eq.append({\"date\":eq_info20[i].select(\"b > a\")[0].text[:10],\n",
    "                 \"time\":eq_info20[i].select(\"b > a\")[0].text[13:],\n",
    "                 \"latitude\":eq_info20[i].select(\"td.tabev1\")[0].text[:-1]+eq_info20[i].select(\"td.tabev2\")[0].text[0],\n",
    "                 \"longitude\":eq_info20[i].select(\"td.tabev1\")[1].text[:-1]+eq_info20[i].select(\"td.tabev2\")[1].text[0],\n",
    "                 \"region name\":(eq_info20[i].select(\"td.tb_region\")[0].text)[1:]})\n",
    "    \n",
    "\n",
    "pd.DataFrame(list_eq)"
   ]
  },
  {
   "cell_type": "markdown",
   "metadata": {},
   "source": [
    "#### Display the date, days, title, city, country of next 25 hackathon events as a Pandas dataframe table"
   ]
  },
  {
   "cell_type": "code",
   "execution_count": 522,
   "metadata": {},
   "outputs": [],
   "source": [
    "# This is the url you will scrape in this exercise\n",
    "url ='https://hackevents.co/hackathons'\n",
    "res = requests.get(url)\n",
    "soup = BeautifulSoup(res.text)"
   ]
  },
  {
   "cell_type": "code",
   "execution_count": 525,
   "metadata": {},
   "outputs": [
    {
     "data": {
      "text/plain": [
       "[]"
      ]
     },
     "execution_count": 525,
     "metadata": {},
     "output_type": "execute_result"
    }
   ],
   "source": [
    "#your code\n",
    "hackathon_25 = soup.select(\"body > a\")\n",
    "hackathon_25"
   ]
  },
  {
   "cell_type": "markdown",
   "metadata": {},
   "source": [
    "#### Count number of tweets by a given Twitter account."
   ]
  },
  {
   "cell_type": "markdown",
   "metadata": {},
   "source": [
    "You will need to include a ***try/except block*** for account names not found. \n",
    "<br>***Hint:*** the program should count the number of tweets for any provided account"
   ]
  },
  {
   "cell_type": "code",
   "execution_count": 306,
   "metadata": {},
   "outputs": [],
   "source": [
    "# This is the url you will scrape in this exercise \n",
    "# You will need to add the account credentials to this url\n",
    "url = 'https://twitter.com/'\n",
    "res = requests.get(url)\n",
    "soup = BeautifulSoup(res.text)"
   ]
  },
  {
   "cell_type": "code",
   "execution_count": null,
   "metadata": {},
   "outputs": [],
   "source": [
    "#your code\n",
    "numero_tweets = soup.select(\"body > div\")\n",
    "numero_tweets "
   ]
  },
  {
   "cell_type": "markdown",
   "metadata": {},
   "source": [
    "#### Number of followers of a given twitter account"
   ]
  },
  {
   "cell_type": "markdown",
   "metadata": {},
   "source": [
    "You will need to include a ***try/except block*** in case account/s name not found. \n",
    "<br>***Hint:*** the program should count the followers for any provided account"
   ]
  },
  {
   "cell_type": "code",
   "execution_count": null,
   "metadata": {},
   "outputs": [],
   "source": [
    "# This is the url you will scrape in this exercise \n",
    "# You will need to add the account credentials to this url\n",
    "url = 'https://twitter.com/'"
   ]
  },
  {
   "cell_type": "code",
   "execution_count": null,
   "metadata": {},
   "outputs": [],
   "source": [
    "#your code"
   ]
  },
  {
   "cell_type": "markdown",
   "metadata": {},
   "source": [
    "#### List all language names and number of related articles in the order they appear in wikipedia.org"
   ]
  },
  {
   "cell_type": "code",
   "execution_count": null,
   "metadata": {},
   "outputs": [],
   "source": [
    "# This is the url you will scrape in this exercise\n",
    "url = 'https://www.wikipedia.org/'"
   ]
  },
  {
   "cell_type": "code",
   "execution_count": null,
   "metadata": {},
   "outputs": [],
   "source": [
    "#your code"
   ]
  },
  {
   "cell_type": "markdown",
   "metadata": {},
   "source": [
    "#### A list with the different kind of datasets available in data.gov.uk "
   ]
  },
  {
   "cell_type": "code",
   "execution_count": null,
   "metadata": {},
   "outputs": [],
   "source": [
    "# This is the url you will scrape in this exercise\n",
    "url = 'https://data.gov.uk/'"
   ]
  },
  {
   "cell_type": "code",
   "execution_count": null,
   "metadata": {},
   "outputs": [],
   "source": [
    "#your code "
   ]
  },
  {
   "cell_type": "markdown",
   "metadata": {},
   "source": [
    "#### Top 10 languages by number of native speakers stored in a Pandas Dataframe"
   ]
  },
  {
   "cell_type": "code",
   "execution_count": null,
   "metadata": {},
   "outputs": [],
   "source": [
    "# This is the url you will scrape in this exercise\n",
    "url = 'https://en.wikipedia.org/wiki/List_of_languages_by_number_of_native_speakers'"
   ]
  },
  {
   "cell_type": "code",
   "execution_count": null,
   "metadata": {},
   "outputs": [],
   "source": [
    "#your code"
   ]
  },
  {
   "cell_type": "markdown",
   "metadata": {},
   "source": [
    "### BONUS QUESTIONS"
   ]
  },
  {
   "cell_type": "markdown",
   "metadata": {},
   "source": [
    "#### Scrape a certain number of tweets of a given Twitter account."
   ]
  },
  {
   "cell_type": "code",
   "execution_count": null,
   "metadata": {},
   "outputs": [],
   "source": [
    "# This is the url you will scrape in this exercise \n",
    "# You will need to add the account credentials to this url\n",
    "url = 'https://twitter.com/'"
   ]
  },
  {
   "cell_type": "code",
   "execution_count": null,
   "metadata": {},
   "outputs": [],
   "source": [
    "# your code"
   ]
  },
  {
   "cell_type": "markdown",
   "metadata": {},
   "source": [
    "#### IMDB's Top 250 data (movie name, Initial release, director name and stars) as a pandas dataframe"
   ]
  },
  {
   "cell_type": "code",
   "execution_count": null,
   "metadata": {},
   "outputs": [],
   "source": [
    "# This is the url you will scrape in this exercise \n",
    "url = 'https://www.imdb.com/chart/top'"
   ]
  },
  {
   "cell_type": "code",
   "execution_count": null,
   "metadata": {},
   "outputs": [],
   "source": [
    "# your code"
   ]
  },
  {
   "cell_type": "markdown",
   "metadata": {},
   "source": [
    "#### Movie name, year and a brief summary of the top 10 random movies (IMDB) as a pandas dataframe."
   ]
  },
  {
   "cell_type": "code",
   "execution_count": null,
   "metadata": {},
   "outputs": [],
   "source": [
    "#This is the url you will scrape in this exercise\n",
    "url = 'http://www.imdb.com/chart/top'"
   ]
  },
  {
   "cell_type": "code",
   "execution_count": null,
   "metadata": {},
   "outputs": [],
   "source": [
    "#your code"
   ]
  },
  {
   "cell_type": "markdown",
   "metadata": {},
   "source": [
    "#### Find the live weather report (temperature, wind speed, description and weather) of a given city."
   ]
  },
  {
   "cell_type": "code",
   "execution_count": null,
   "metadata": {},
   "outputs": [],
   "source": [
    "#https://openweathermap.org/current\n",
    "city = city=input('Enter the city:')\n",
    "url = 'http://api.openweathermap.org/data/2.5/weather?'+'q='+city+'&APPID=b35975e18dc93725acb092f7272cc6b8&units=metric'"
   ]
  },
  {
   "cell_type": "code",
   "execution_count": null,
   "metadata": {},
   "outputs": [],
   "source": [
    "# your code"
   ]
  },
  {
   "cell_type": "markdown",
   "metadata": {},
   "source": [
    "#### Book name,price and stock availability as a pandas dataframe."
   ]
  },
  {
   "cell_type": "code",
   "execution_count": null,
   "metadata": {},
   "outputs": [],
   "source": [
    "# This is the url you will scrape in this exercise. \n",
    "# It is a fictional bookstore created to be scraped. \n",
    "url = 'http://books.toscrape.com/'"
   ]
  },
  {
   "cell_type": "code",
   "execution_count": null,
   "metadata": {},
   "outputs": [],
   "source": [
    "#your code"
   ]
  }
 ],
 "metadata": {
  "kernelspec": {
   "display_name": "Python 3",
   "language": "python",
   "name": "python3"
  },
  "language_info": {
   "codemirror_mode": {
    "name": "ipython",
    "version": 3
   },
   "file_extension": ".py",
   "mimetype": "text/x-python",
   "name": "python",
   "nbconvert_exporter": "python",
   "pygments_lexer": "ipython3",
   "version": "3.7.5"
  }
 },
 "nbformat": 4,
 "nbformat_minor": 4
}
